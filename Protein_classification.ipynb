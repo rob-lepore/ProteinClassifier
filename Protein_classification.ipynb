{
  "nbformat": 4,
  "nbformat_minor": 0,
  "metadata": {
    "colab": {
      "provenance": [],
      "gpuType": "T4"
    },
    "kernelspec": {
      "name": "python3",
      "display_name": "Python 3"
    },
    "language_info": {
      "name": "python"
    },
    "accelerator": "GPU"
  },
  "cells": [
    {
      "cell_type": "markdown",
      "source": [
        "# Classificazione funzionale delle proteine\n",
        "\n",
        "* Questo progetto si pone l'obiettivo di trovare un modello di machine learning in grado di classificare la funzione di una proteina date informazioni ottenute dall'analisi.\n",
        "* La sequenza di amminoacidi che compongono la proteina verrà considerata solo in un secondo momento. In questo modo possiamo chiaramente notare l'importanza delle feature estratte dalla composizione della proteina."
      ],
      "metadata": {
        "id": "dqxpeAFA2Eik"
      }
    },
    {
      "cell_type": "markdown",
      "source": [
        "Dataset preso da Kaggle: https://www.kaggle.com/datasets/shahir/protein-data-set"
      ],
      "metadata": {
        "id": "_geZppYfatp3"
      }
    },
    {
      "cell_type": "markdown",
      "source": [
        "Importiamo le prime librerie"
      ],
      "metadata": {
        "id": "rreQ0j583yv7"
      }
    },
    {
      "cell_type": "code",
      "source": [
        "%matplotlib inline\n",
        "import numpy as np\n",
        "import pandas as pd\n",
        "import matplotlib.pyplot as plt\n",
        "import sklearn\n",
        "from sklearn.metrics import precision_score, recall_score"
      ],
      "metadata": {
        "id": "hMFgDAeNovM6"
      },
      "execution_count": 151,
      "outputs": []
    },
    {
      "cell_type": "markdown",
      "source": [
        "Utilizziamo una lista per mantenere i punteggi ottenuti dai diversi modelli con lo scopo di effettuare un'analisi finale"
      ],
      "metadata": {
        "id": "0Pu7gh8a38Ai"
      }
    },
    {
      "cell_type": "code",
      "source": [
        "scores = []"
      ],
      "metadata": {
        "id": "qq_i-whowNag"
      },
      "execution_count": 152,
      "outputs": []
    },
    {
      "cell_type": "markdown",
      "source": [
        "## Dataset senza sequenza"
      ],
      "metadata": {
        "id": "zbwPbSV7cvMa"
      }
    },
    {
      "cell_type": "markdown",
      "source": [
        "Carichiamo nel DataFrame ```data``` il primo dataset, nel quale non è presenta la sequenza di amminoacidi che descrive la proteina.\n",
        "\n"
      ],
      "metadata": {
        "id": "BcNfHGKK4H2I"
      }
    },
    {
      "cell_type": "code",
      "execution_count": 153,
      "metadata": {
        "colab": {
          "base_uri": "https://localhost:8080/",
          "height": 202
        },
        "id": "kDHcwpp1oQ7s",
        "outputId": "5e616b5a-a3ab-4352-9b3f-3e823dcbc201"
      },
      "outputs": [
        {
          "output_type": "execute_result",
          "data": {
            "text/plain": [
              "             classification experimentalTechnique macromoleculeType  \\\n",
              "structureId                                                           \n",
              "100D         DNA-RNA HYBRID     X-RAY DIFFRACTION    DNA/RNA Hybrid   \n",
              "\n",
              "             residueCount  resolution  structureMolecularWeight  \\\n",
              "structureId                                                       \n",
              "100D                   20         1.9                    6360.3   \n",
              "\n",
              "                     crystallizationMethod  crystallizationTempK  \\\n",
              "structureId                                                        \n",
              "100D         VAPOR DIFFUSION, HANGING DROP                   NaN   \n",
              "\n",
              "             densityMatthews  densityPercentSol  \\\n",
              "structureId                                       \n",
              "100D                    1.78              30.89   \n",
              "\n",
              "                                        pdbxDetails  phValue  publicationYear  \n",
              "structureId                                                                    \n",
              "100D         pH 7.00, VAPOR DIFFUSION, HANGING DROP      7.0           1994.0  "
            ],
            "text/html": [
              "\n",
              "  <div id=\"df-87a6454c-df1b-49d3-8657-8a6d435bfc45\" class=\"colab-df-container\">\n",
              "    <div>\n",
              "<style scoped>\n",
              "    .dataframe tbody tr th:only-of-type {\n",
              "        vertical-align: middle;\n",
              "    }\n",
              "\n",
              "    .dataframe tbody tr th {\n",
              "        vertical-align: top;\n",
              "    }\n",
              "\n",
              "    .dataframe thead th {\n",
              "        text-align: right;\n",
              "    }\n",
              "</style>\n",
              "<table border=\"1\" class=\"dataframe\">\n",
              "  <thead>\n",
              "    <tr style=\"text-align: right;\">\n",
              "      <th></th>\n",
              "      <th>classification</th>\n",
              "      <th>experimentalTechnique</th>\n",
              "      <th>macromoleculeType</th>\n",
              "      <th>residueCount</th>\n",
              "      <th>resolution</th>\n",
              "      <th>structureMolecularWeight</th>\n",
              "      <th>crystallizationMethod</th>\n",
              "      <th>crystallizationTempK</th>\n",
              "      <th>densityMatthews</th>\n",
              "      <th>densityPercentSol</th>\n",
              "      <th>pdbxDetails</th>\n",
              "      <th>phValue</th>\n",
              "      <th>publicationYear</th>\n",
              "    </tr>\n",
              "    <tr>\n",
              "      <th>structureId</th>\n",
              "      <th></th>\n",
              "      <th></th>\n",
              "      <th></th>\n",
              "      <th></th>\n",
              "      <th></th>\n",
              "      <th></th>\n",
              "      <th></th>\n",
              "      <th></th>\n",
              "      <th></th>\n",
              "      <th></th>\n",
              "      <th></th>\n",
              "      <th></th>\n",
              "      <th></th>\n",
              "    </tr>\n",
              "  </thead>\n",
              "  <tbody>\n",
              "    <tr>\n",
              "      <th>100D</th>\n",
              "      <td>DNA-RNA HYBRID</td>\n",
              "      <td>X-RAY DIFFRACTION</td>\n",
              "      <td>DNA/RNA Hybrid</td>\n",
              "      <td>20</td>\n",
              "      <td>1.9</td>\n",
              "      <td>6360.3</td>\n",
              "      <td>VAPOR DIFFUSION, HANGING DROP</td>\n",
              "      <td>NaN</td>\n",
              "      <td>1.78</td>\n",
              "      <td>30.89</td>\n",
              "      <td>pH 7.00, VAPOR DIFFUSION, HANGING DROP</td>\n",
              "      <td>7.0</td>\n",
              "      <td>1994.0</td>\n",
              "    </tr>\n",
              "  </tbody>\n",
              "</table>\n",
              "</div>\n",
              "    <div class=\"colab-df-buttons\">\n",
              "\n",
              "  <div class=\"colab-df-container\">\n",
              "    <button class=\"colab-df-convert\" onclick=\"convertToInteractive('df-87a6454c-df1b-49d3-8657-8a6d435bfc45')\"\n",
              "            title=\"Convert this dataframe to an interactive table.\"\n",
              "            style=\"display:none;\">\n",
              "\n",
              "  <svg xmlns=\"http://www.w3.org/2000/svg\" height=\"24px\" viewBox=\"0 -960 960 960\">\n",
              "    <path d=\"M120-120v-720h720v720H120Zm60-500h600v-160H180v160Zm220 220h160v-160H400v160Zm0 220h160v-160H400v160ZM180-400h160v-160H180v160Zm440 0h160v-160H620v160ZM180-180h160v-160H180v160Zm440 0h160v-160H620v160Z\"/>\n",
              "  </svg>\n",
              "    </button>\n",
              "\n",
              "  <style>\n",
              "    .colab-df-container {\n",
              "      display:flex;\n",
              "      gap: 12px;\n",
              "    }\n",
              "\n",
              "    .colab-df-convert {\n",
              "      background-color: #E8F0FE;\n",
              "      border: none;\n",
              "      border-radius: 50%;\n",
              "      cursor: pointer;\n",
              "      display: none;\n",
              "      fill: #1967D2;\n",
              "      height: 32px;\n",
              "      padding: 0 0 0 0;\n",
              "      width: 32px;\n",
              "    }\n",
              "\n",
              "    .colab-df-convert:hover {\n",
              "      background-color: #E2EBFA;\n",
              "      box-shadow: 0px 1px 2px rgba(60, 64, 67, 0.3), 0px 1px 3px 1px rgba(60, 64, 67, 0.15);\n",
              "      fill: #174EA6;\n",
              "    }\n",
              "\n",
              "    .colab-df-buttons div {\n",
              "      margin-bottom: 4px;\n",
              "    }\n",
              "\n",
              "    [theme=dark] .colab-df-convert {\n",
              "      background-color: #3B4455;\n",
              "      fill: #D2E3FC;\n",
              "    }\n",
              "\n",
              "    [theme=dark] .colab-df-convert:hover {\n",
              "      background-color: #434B5C;\n",
              "      box-shadow: 0px 1px 3px 1px rgba(0, 0, 0, 0.15);\n",
              "      filter: drop-shadow(0px 1px 2px rgba(0, 0, 0, 0.3));\n",
              "      fill: #FFFFFF;\n",
              "    }\n",
              "  </style>\n",
              "\n",
              "    <script>\n",
              "      const buttonEl =\n",
              "        document.querySelector('#df-87a6454c-df1b-49d3-8657-8a6d435bfc45 button.colab-df-convert');\n",
              "      buttonEl.style.display =\n",
              "        google.colab.kernel.accessAllowed ? 'block' : 'none';\n",
              "\n",
              "      async function convertToInteractive(key) {\n",
              "        const element = document.querySelector('#df-87a6454c-df1b-49d3-8657-8a6d435bfc45');\n",
              "        const dataTable =\n",
              "          await google.colab.kernel.invokeFunction('convertToInteractive',\n",
              "                                                    [key], {});\n",
              "        if (!dataTable) return;\n",
              "\n",
              "        const docLinkHtml = 'Like what you see? Visit the ' +\n",
              "          '<a target=\"_blank\" href=https://colab.research.google.com/notebooks/data_table.ipynb>data table notebook</a>'\n",
              "          + ' to learn more about interactive tables.';\n",
              "        element.innerHTML = '';\n",
              "        dataTable['output_type'] = 'display_data';\n",
              "        await google.colab.output.renderOutput(dataTable, element);\n",
              "        const docLink = document.createElement('div');\n",
              "        docLink.innerHTML = docLinkHtml;\n",
              "        element.appendChild(docLink);\n",
              "      }\n",
              "    </script>\n",
              "  </div>\n",
              "\n",
              "\n",
              "<div id=\"df-14f179f7-6345-4e7a-859c-039c457402fd\">\n",
              "  <button class=\"colab-df-quickchart\" onclick=\"quickchart('df-14f179f7-6345-4e7a-859c-039c457402fd')\"\n",
              "            title=\"Suggest charts.\"\n",
              "            style=\"display:none;\">\n",
              "\n",
              "<svg xmlns=\"http://www.w3.org/2000/svg\" height=\"24px\"viewBox=\"0 0 24 24\"\n",
              "     width=\"24px\">\n",
              "    <g>\n",
              "        <path d=\"M19 3H5c-1.1 0-2 .9-2 2v14c0 1.1.9 2 2 2h14c1.1 0 2-.9 2-2V5c0-1.1-.9-2-2-2zM9 17H7v-7h2v7zm4 0h-2V7h2v10zm4 0h-2v-4h2v4z\"/>\n",
              "    </g>\n",
              "</svg>\n",
              "  </button>\n",
              "\n",
              "<style>\n",
              "  .colab-df-quickchart {\n",
              "    background-color: #E8F0FE;\n",
              "    border: none;\n",
              "    border-radius: 50%;\n",
              "    cursor: pointer;\n",
              "    display: none;\n",
              "    fill: #1967D2;\n",
              "    height: 32px;\n",
              "    padding: 0 0 0 0;\n",
              "    width: 32px;\n",
              "  }\n",
              "\n",
              "  .colab-df-quickchart:hover {\n",
              "    background-color: #E2EBFA;\n",
              "    box-shadow: 0px 1px 2px rgba(60, 64, 67, 0.3), 0px 1px 3px 1px rgba(60, 64, 67, 0.15);\n",
              "    fill: #174EA6;\n",
              "  }\n",
              "\n",
              "  [theme=dark] .colab-df-quickchart {\n",
              "    background-color: #3B4455;\n",
              "    fill: #D2E3FC;\n",
              "  }\n",
              "\n",
              "  [theme=dark] .colab-df-quickchart:hover {\n",
              "    background-color: #434B5C;\n",
              "    box-shadow: 0px 1px 3px 1px rgba(0, 0, 0, 0.15);\n",
              "    filter: drop-shadow(0px 1px 2px rgba(0, 0, 0, 0.3));\n",
              "    fill: #FFFFFF;\n",
              "  }\n",
              "</style>\n",
              "\n",
              "  <script>\n",
              "    async function quickchart(key) {\n",
              "      const charts = await google.colab.kernel.invokeFunction(\n",
              "          'suggestCharts', [key], {});\n",
              "    }\n",
              "    (() => {\n",
              "      let quickchartButtonEl =\n",
              "        document.querySelector('#df-14f179f7-6345-4e7a-859c-039c457402fd button');\n",
              "      quickchartButtonEl.style.display =\n",
              "        google.colab.kernel.accessAllowed ? 'block' : 'none';\n",
              "    })();\n",
              "  </script>\n",
              "</div>\n",
              "    </div>\n",
              "  </div>\n"
            ]
          },
          "metadata": {},
          "execution_count": 153
        }
      ],
      "source": [
        "data = pd.read_csv(\"pdb_data_no_dups.csv\", index_col=\"structureId\")\n",
        "data.head(1)"
      ]
    },
    {
      "cell_type": "markdown",
      "source": [
        "* Eliminiamo dal dataset le feature meno interessanti, come l'anno di pubblicazione della ricerca e il metodo di cristallizzazione.\n",
        "* Rimuoviamo dal dataset le righe con indice duplicato"
      ],
      "metadata": {
        "id": "mZipglc3eFOO"
      }
    },
    {
      "cell_type": "code",
      "source": [
        "data.drop(columns= [\"experimentalTechnique\", \"publicationYear\", \"pdbxDetails\", \"crystallizationMethod\", \"resolution\", \"phValue\"], inplace = True)\n",
        "\n",
        "data = data[~data.index.isin(data[data.index.duplicated()].index)]"
      ],
      "metadata": {
        "id": "939X3E3_Kh-S"
      },
      "execution_count": 154,
      "outputs": []
    },
    {
      "cell_type": "markdown",
      "source": [
        "* Analizziamo le feature rimanenti:\n",
        "  1. ```macromoleculeType``` : tipo di macromolecola a cui la proteina appartiene. Le proteine possono essere classificate in diversi tipi come enzimi, recettori, anticorpi o proteine strutturali.  \n",
        "  2. ```residueCount```: numero di amminoacidi che compongono la proteina\n",
        "  3. ```structureMolecularWeight```: peso molecolare della struttura proteica.\n",
        "  4. ```crystallizationTempK```: temperatura a cui il campione proteico viene cristallizzato durante il processo sperimentale.\n",
        "  5. ```densityMatthews```: misura della densità di impacchettamento delle molecole all'interno di una rete cristallina.\n",
        "  6. ```densityPercentSol```: un'altra misura della densità di impacchettamento in una rete cristallina.\n",
        "\n"
      ],
      "metadata": {
        "id": "AlvXKfhDY_hx"
      }
    },
    {
      "cell_type": "markdown",
      "source": [
        "* Possiamo notare che questo dataset contiene numerosi valori nulli.\n",
        "  "
      ],
      "metadata": {
        "id": "ByAFOQLT4eqU"
      }
    },
    {
      "cell_type": "code",
      "source": [
        "data.shape[0] - data.count()"
      ],
      "metadata": {
        "colab": {
          "base_uri": "https://localhost:8080/"
        },
        "id": "DHIhnNWvc8li",
        "outputId": "f59a5fe2-5d93-4617-c3f7-e16766fbccd1"
      },
      "execution_count": 155,
      "outputs": [
        {
          "output_type": "execute_result",
          "data": {
            "text/plain": [
              "classification                  2\n",
              "macromoleculeType            3694\n",
              "residueCount                    0\n",
              "structureMolecularWeight        0\n",
              "crystallizationTempK        44231\n",
              "densityMatthews             16237\n",
              "densityPercentSol           16212\n",
              "dtype: int64"
            ]
          },
          "metadata": {},
          "execution_count": 155
        }
      ]
    },
    {
      "cell_type": "markdown",
      "source": [
        "* Dato che abbiamo a disposizione molti dati, eliminiamo le righe contenenti valori mancanti."
      ],
      "metadata": {
        "id": "f5Jkucsj5wfQ"
      }
    },
    {
      "cell_type": "code",
      "source": [
        "data.drop(data[data[\"classification\"].isna()].index, inplace=True)\n",
        "data.drop(data[data[\"macromoleculeType\"].isna()].index, inplace=True)\n",
        "data.drop(data[data[\"crystallizationTempK\"].isna()].index, inplace=True)\n",
        "data.drop(data[data[\"densityMatthews\"].isna()].index, inplace=True)\n",
        "data.drop(data[data[\"densityPercentSol\"].isna()].index, inplace=True)\n",
        "\n",
        "data.shape[0] - data.count()"
      ],
      "metadata": {
        "colab": {
          "base_uri": "https://localhost:8080/"
        },
        "id": "Oh_FXzqIK33N",
        "outputId": "3c9f2675-f0eb-44b3-fa7a-54e96d23db41"
      },
      "execution_count": 156,
      "outputs": [
        {
          "output_type": "execute_result",
          "data": {
            "text/plain": [
              "classification              0\n",
              "macromoleculeType           0\n",
              "residueCount                0\n",
              "structureMolecularWeight    0\n",
              "crystallizationTempK        0\n",
              "densityMatthews             0\n",
              "densityPercentSol           0\n",
              "dtype: int64"
            ]
          },
          "metadata": {},
          "execution_count": 156
        }
      ]
    },
    {
      "cell_type": "markdown",
      "source": [
        "**Analisi dei dati**\n",
        "* Visualizziamo in un grafico a barre la distribuzione delle classi nel dataset"
      ],
      "metadata": {
        "id": "N5wk7dWVhv0e"
      }
    },
    {
      "cell_type": "code",
      "source": [
        "data.groupby(\"classification\").size().sort_values()[-20:].plot.bar()"
      ],
      "metadata": {
        "colab": {
          "base_uri": "https://localhost:8080/",
          "height": 784
        },
        "id": "DUmOsMNBJa-Z",
        "outputId": "a70142e4-3469-4c93-80cf-9db50089e65e"
      },
      "execution_count": 157,
      "outputs": [
        {
          "output_type": "execute_result",
          "data": {
            "text/plain": [
              "<Axes: xlabel='classification'>"
            ]
          },
          "metadata": {},
          "execution_count": 157
        },
        {
          "output_type": "display_data",
          "data": {
            "text/plain": [
              "<Figure size 640x480 with 1 Axes>"
            ],
            "image/png": "[encoded data removed]"
          },
          "metadata": {}
        }
      ]
    },
    {
      "cell_type": "markdown",
      "source": [
        "*   Dato che la distribuzione è molto sbilanciata, decido di mantenere solo le 5 classi più numerose\n",
        "\n"
      ],
      "metadata": {
        "id": "Ca4XRUlDkhNZ"
      }
    },
    {
      "cell_type": "code",
      "source": [
        "classes = data.groupby(\"classification\").size().sort_values()[-5:].index\n",
        "classes"
      ],
      "metadata": {
        "colab": {
          "base_uri": "https://localhost:8080/"
        },
        "id": "60xWkkcK6dCk",
        "outputId": "c96d54bb-1c31-4ab3-b4c2-cff8777f19fb"
      },
      "execution_count": 158,
      "outputs": [
        {
          "output_type": "execute_result",
          "data": {
            "text/plain": [
              "Index(['IMMUNE SYSTEM', 'LYASE', 'OXIDOREDUCTASE', 'TRANSFERASE', 'HYDROLASE'], dtype='object', name='classification')"
            ]
          },
          "metadata": {},
          "execution_count": 158
        }
      ]
    },
    {
      "cell_type": "markdown",
      "source": [
        "* Analizziamo la colonna categorica ```macromoleculeType```, che descrive a quale tipo di macromolecola la proteina appartiene."
      ],
      "metadata": {
        "id": "9c2nehB9OLiE"
      }
    },
    {
      "cell_type": "code",
      "source": [
        "data.groupby(\"macromoleculeType\").size().sort_values(ascending=False)[:5].plot.pie()"
      ],
      "metadata": {
        "colab": {
          "base_uri": "https://localhost:8080/",
          "height": 423
        },
        "id": "Xibt9MpUPqbw",
        "outputId": "a970de7e-7d82-4a99-c4a1-29861656148a"
      },
      "execution_count": 159,
      "outputs": [
        {
          "output_type": "execute_result",
          "data": {
            "text/plain": [
              "<Axes: >"
            ]
          },
          "metadata": {},
          "execution_count": 159
        },
        {
          "output_type": "display_data",
          "data": {
            "text/plain": [
              "<Figure size 640x480 with 1 Axes>"
            ],
            "image/png": "[encoded data removed]"
          },
          "metadata": {}
        }
      ]
    },
    {
      "cell_type": "markdown",
      "source": [
        "* Notiamo che è presente un grande sbilanciamento sul tipo \"Protein\". Questo potrebbe rendere inefficace l'utilizzo di questa feature.\n",
        "* Per ora, comunque, la teniamo in considerazione.\n",
        "* Però manteniamo solo le righe che hanno come valore di questa feature uno dei tre valori più numerosi."
      ],
      "metadata": {
        "id": "HQT0lyZGO9wK"
      }
    },
    {
      "cell_type": "code",
      "source": [
        "macromolecules = data.groupby(\"macromoleculeType\").size().sort_values()[-3:].index"
      ],
      "metadata": {
        "id": "e7BvQAj1BCwN"
      },
      "execution_count": 160,
      "outputs": []
    },
    {
      "cell_type": "code",
      "source": [
        "data = data[data[\"classification\"].isin(classes)]\n",
        "data = data[data[\"macromoleculeType\"].isin(macromolecules)]\n",
        "data.shape[0]"
      ],
      "metadata": {
        "id": "efAu61CZqNDv",
        "colab": {
          "base_uri": "https://localhost:8080/"
        },
        "outputId": "4fbaba48-0d8e-4ea4-8e05-ad1897e6a4dc"
      },
      "execution_count": 161,
      "outputs": [
        {
          "output_type": "execute_result",
          "data": {
            "text/plain": [
              "42058"
            ]
          },
          "metadata": {},
          "execution_count": 161
        }
      ]
    },
    {
      "cell_type": "markdown",
      "source": [
        "Il dataset così ristretto contiene oltre 42.000 entries."
      ],
      "metadata": {
        "id": "fG15eBuK6zCc"
      }
    },
    {
      "cell_type": "markdown",
      "source": [
        "**Preparazione dei dati**"
      ],
      "metadata": {
        "id": "MWzOtb-knNjv"
      }
    },
    {
      "cell_type": "markdown",
      "source": [
        "Prepariamo i dati per l'addestramento dei modelli."
      ],
      "metadata": {
        "id": "HhrdNFE97Zge"
      }
    },
    {
      "cell_type": "code",
      "source": [
        "X = data.drop(columns=[\"classification\"])\n",
        "y = data[\"classification\"]"
      ],
      "metadata": {
        "id": "hCA4xpOQMkdr"
      },
      "execution_count": 162,
      "outputs": []
    },
    {
      "cell_type": "code",
      "source": [
        "X.head()"
      ],
      "metadata": {
        "colab": {
          "base_uri": "https://localhost:8080/",
          "height": 238
        },
        "id": "5fk4KMipvckb",
        "outputId": "2b2794a1-287e-4255-e4a6-0c691a8cc150"
      },
      "execution_count": 163,
      "outputs": [
        {
          "output_type": "execute_result",
          "data": {
            "text/plain": [
              "            macromoleculeType  residueCount  structureMolecularWeight  \\\n",
              "structureId                                                             \n",
              "1A4S                  Protein          2012                 217689.59   \n",
              "1A6Q                  Protein           382                  42707.55   \n",
              "1A72                  Protein           374                  40658.50   \n",
              "1AFK                  Protein           248                  28431.01   \n",
              "1AFL                  Protein           248                  28815.26   \n",
              "\n",
              "             crystallizationTempK  densityMatthews  densityPercentSol  \n",
              "structureId                                                            \n",
              "1A4S                        287.0             2.43              41.00  \n",
              "1A6Q                        277.0             2.97              59.00  \n",
              "1A72                        277.0             2.30              46.82  \n",
              "1AFK                        289.0             2.20              48.00  \n",
              "1AFL                        289.0             2.20              48.00  "
            ],
            "text/html": [
              "\n",
              "  <div id=\"df-4240f3e3-6c02-4380-b347-998bffe75253\" class=\"colab-df-container\">\n",
              "    <div>\n",
              "<style scoped>\n",
              "    .dataframe tbody tr th:only-of-type {\n",
              "        vertical-align: middle;\n",
              "    }\n",
              "\n",
              "    .dataframe tbody tr th {\n",
              "        vertical-align: top;\n",
              "    }\n",
              "\n",
              "    .dataframe thead th {\n",
              "        text-align: right;\n",
              "    }\n",
              "</style>\n",
              "<table border=\"1\" class=\"dataframe\">\n",
              "  <thead>\n",
              "    <tr style=\"text-align: right;\">\n",
              "      <th></th>\n",
              "      <th>macromoleculeType</th>\n",
              "      <th>residueCount</th>\n",
              "      <th>structureMolecularWeight</th>\n",
              "      <th>crystallizationTempK</th>\n",
              "      <th>densityMatthews</th>\n",
              "      <th>densityPercentSol</th>\n",
              "    </tr>\n",
              "    <tr>\n",
              "      <th>structureId</th>\n",
              "      <th></th>\n",
              "      <th></th>\n",
              "      <th></th>\n",
              "      <th></th>\n",
              "      <th></th>\n",
              "      <th></th>\n",
              "    </tr>\n",
              "  </thead>\n",
              "  <tbody>\n",
              "    <tr>\n",
              "      <th>1A4S</th>\n",
              "      <td>Protein</td>\n",
              "      <td>2012</td>\n",
              "      <td>217689.59</td>\n",
              "      <td>287.0</td>\n",
              "      <td>2.43</td>\n",
              "      <td>41.00</td>\n",
              "    </tr>\n",
              "    <tr>\n",
              "      <th>1A6Q</th>\n",
              "      <td>Protein</td>\n",
              "      <td>382</td>\n",
              "      <td>42707.55</td>\n",
              "      <td>277.0</td>\n",
              "      <td>2.97</td>\n",
              "      <td>59.00</td>\n",
              "    </tr>\n",
              "    <tr>\n",
              "      <th>1A72</th>\n",
              "      <td>Protein</td>\n",
              "      <td>374</td>\n",
              "      <td>40658.50</td>\n",
              "      <td>277.0</td>\n",
              "      <td>2.30</td>\n",
              "      <td>46.82</td>\n",
              "    </tr>\n",
              "    <tr>\n",
              "      <th>1AFK</th>\n",
              "      <td>Protein</td>\n",
              "      <td>248</td>\n",
              "      <td>28431.01</td>\n",
              "      <td>289.0</td>\n",
              "      <td>2.20</td>\n",
              "      <td>48.00</td>\n",
              "    </tr>\n",
              "    <tr>\n",
              "      <th>1AFL</th>\n",
              "      <td>Protein</td>\n",
              "      <td>248</td>\n",
              "      <td>28815.26</td>\n",
              "      <td>289.0</td>\n",
              "      <td>2.20</td>\n",
              "      <td>48.00</td>\n",
              "    </tr>\n",
              "  </tbody>\n",
              "</table>\n",
              "</div>\n",
              "    <div class=\"colab-df-buttons\">\n",
              "\n",
              "  <div class=\"colab-df-container\">\n",
              "    <button class=\"colab-df-convert\" onclick=\"convertToInteractive('df-4240f3e3-6c02-4380-b347-998bffe75253')\"\n",
              "            title=\"Convert this dataframe to an interactive table.\"\n",
              "            style=\"display:none;\">\n",
              "\n",
              "  <svg xmlns=\"http://www.w3.org/2000/svg\" height=\"24px\" viewBox=\"0 -960 960 960\">\n",
              "    <path d=\"M120-120v-720h720v720H120Zm60-500h600v-160H180v160Zm220 220h160v-160H400v160Zm0 220h160v-160H400v160ZM180-400h160v-160H180v160Zm440 0h160v-160H620v160ZM180-180h160v-160H180v160Zm440 0h160v-160H620v160Z\"/>\n",
              "  </svg>\n",
              "    </button>\n",
              "\n",
              "  <style>\n",
              "    .colab-df-container {\n",
              "      display:flex;\n",
              "      gap: 12px;\n",
              "    }\n",
              "\n",
              "    .colab-df-convert {\n",
              "      background-color: #E8F0FE;\n",
              "      border: none;\n",
              "      border-radius: 50%;\n",
              "      cursor: pointer;\n",
              "      display: none;\n",
              "      fill: #1967D2;\n",
              "      height: 32px;\n",
              "      padding: 0 0 0 0;\n",
              "      width: 32px;\n",
              "    }\n",
              "\n",
              "    .colab-df-convert:hover {\n",
              "      background-color: #E2EBFA;\n",
              "      box-shadow: 0px 1px 2px rgba(60, 64, 67, 0.3), 0px 1px 3px 1px rgba(60, 64, 67, 0.15);\n",
              "      fill: #174EA6;\n",
              "    }\n",
              "\n",
              "    .colab-df-buttons div {\n",
              "      margin-bottom: 4px;\n",
              "    }\n",
              "\n",
              "    [theme=dark] .colab-df-convert {\n",
              "      background-color: #3B4455;\n",
              "      fill: #D2E3FC;\n",
              "    }\n",
              "\n",
              "    [theme=dark] .colab-df-convert:hover {\n",
              "      background-color: #434B5C;\n",
              "      box-shadow: 0px 1px 3px 1px rgba(0, 0, 0, 0.15);\n",
              "      filter: drop-shadow(0px 1px 2px rgba(0, 0, 0, 0.3));\n",
              "      fill: #FFFFFF;\n",
              "    }\n",
              "  </style>\n",
              "\n",
              "    <script>\n",
              "      const buttonEl =\n",
              "        document.querySelector('#df-4240f3e3-6c02-4380-b347-998bffe75253 button.colab-df-convert');\n",
              "      buttonEl.style.display =\n",
              "        google.colab.kernel.accessAllowed ? 'block' : 'none';\n",
              "\n",
              "      async function convertToInteractive(key) {\n",
              "        const element = document.querySelector('#df-4240f3e3-6c02-4380-b347-998bffe75253');\n",
              "        const dataTable =\n",
              "          await google.colab.kernel.invokeFunction('convertToInteractive',\n",
              "                                                    [key], {});\n",
              "        if (!dataTable) return;\n",
              "\n",
              "        const docLinkHtml = 'Like what you see? Visit the ' +\n",
              "          '<a target=\"_blank\" href=https://colab.research.google.com/notebooks/data_table.ipynb>data table notebook</a>'\n",
              "          + ' to learn more about interactive tables.';\n",
              "        element.innerHTML = '';\n",
              "        dataTable['output_type'] = 'display_data';\n",
              "        await google.colab.output.renderOutput(dataTable, element);\n",
              "        const docLink = document.createElement('div');\n",
              "        docLink.innerHTML = docLinkHtml;\n",
              "        element.appendChild(docLink);\n",
              "      }\n",
              "    </script>\n",
              "  </div>\n",
              "\n",
              "\n",
              "<div id=\"df-db19f2d0-3c99-4b7d-a072-cf268c8f1e0e\">\n",
              "  <button class=\"colab-df-quickchart\" onclick=\"quickchart('df-db19f2d0-3c99-4b7d-a072-cf268c8f1e0e')\"\n",
              "            title=\"Suggest charts.\"\n",
              "            style=\"display:none;\">\n",
              "\n",
              "<svg xmlns=\"http://www.w3.org/2000/svg\" height=\"24px\"viewBox=\"0 0 24 24\"\n",
              "     width=\"24px\">\n",
              "    <g>\n",
              "        <path d=\"M19 3H5c-1.1 0-2 .9-2 2v14c0 1.1.9 2 2 2h14c1.1 0 2-.9 2-2V5c0-1.1-.9-2-2-2zM9 17H7v-7h2v7zm4 0h-2V7h2v10zm4 0h-2v-4h2v4z\"/>\n",
              "    </g>\n",
              "</svg>\n",
              "  </button>\n",
              "\n",
              "<style>\n",
              "  .colab-df-quickchart {\n",
              "    background-color: #E8F0FE;\n",
              "    border: none;\n",
              "    border-radius: 50%;\n",
              "    cursor: pointer;\n",
              "    display: none;\n",
              "    fill: #1967D2;\n",
              "    height: 32px;\n",
              "    padding: 0 0 0 0;\n",
              "    width: 32px;\n",
              "  }\n",
              "\n",
              "  .colab-df-quickchart:hover {\n",
              "    background-color: #E2EBFA;\n",
              "    box-shadow: 0px 1px 2px rgba(60, 64, 67, 0.3), 0px 1px 3px 1px rgba(60, 64, 67, 0.15);\n",
              "    fill: #174EA6;\n",
              "  }\n",
              "\n",
              "  [theme=dark] .colab-df-quickchart {\n",
              "    background-color: #3B4455;\n",
              "    fill: #D2E3FC;\n",
              "  }\n",
              "\n",
              "  [theme=dark] .colab-df-quickchart:hover {\n",
              "    background-color: #434B5C;\n",
              "    box-shadow: 0px 1px 3px 1px rgba(0, 0, 0, 0.15);\n",
              "    filter: drop-shadow(0px 1px 2px rgba(0, 0, 0, 0.3));\n",
              "    fill: #FFFFFF;\n",
              "  }\n",
              "</style>\n",
              "\n",
              "  <script>\n",
              "    async function quickchart(key) {\n",
              "      const charts = await google.colab.kernel.invokeFunction(\n",
              "          'suggestCharts', [key], {});\n",
              "    }\n",
              "    (() => {\n",
              "      let quickchartButtonEl =\n",
              "        document.querySelector('#df-db19f2d0-3c99-4b7d-a072-cf268c8f1e0e button');\n",
              "      quickchartButtonEl.style.display =\n",
              "        google.colab.kernel.accessAllowed ? 'block' : 'none';\n",
              "    })();\n",
              "  </script>\n",
              "</div>\n",
              "    </div>\n",
              "  </div>\n"
            ]
          },
          "metadata": {},
          "execution_count": 163
        }
      ]
    },
    {
      "cell_type": "code",
      "source": [
        "y.head()"
      ],
      "metadata": {
        "colab": {
          "base_uri": "https://localhost:8080/"
        },
        "id": "DGKEG5zBM4vX",
        "outputId": "575ea93e-7acc-4ad1-e781-609652069786"
      },
      "execution_count": 164,
      "outputs": [
        {
          "output_type": "execute_result",
          "data": {
            "text/plain": [
              "structureId\n",
              "1A4S    OXIDOREDUCTASE\n",
              "1A6Q         HYDROLASE\n",
              "1A72    OXIDOREDUCTASE\n",
              "1AFK         HYDROLASE\n",
              "1AFL         HYDROLASE\n",
              "Name: classification, dtype: object"
            ]
          },
          "metadata": {},
          "execution_count": 164
        }
      ]
    },
    {
      "cell_type": "markdown",
      "source": [
        "Dividiamo i dati in set di allenamento e set di test."
      ],
      "metadata": {
        "id": "IumSTsp48tQ4"
      }
    },
    {
      "cell_type": "code",
      "source": [
        "from sklearn.model_selection import train_test_split\n",
        "X_train, X_val, y_train, y_val = train_test_split(\n",
        "    X, y,\n",
        "    test_size=1/3,\n",
        "    random_state=42\n",
        ")"
      ],
      "metadata": {
        "id": "VxIaTC1lytNi"
      },
      "execution_count": 165,
      "outputs": []
    },
    {
      "cell_type": "markdown",
      "source": [
        "**Modelli**\n",
        "* importiamo le librerie che ci servono\n",
        "* definiamo una funzione di appoggio per creare oggetti ```Pipeline``` dato il modello di classificazione che desideriamo usare\n",
        "\n"
      ],
      "metadata": {
        "id": "UcUhJiR69PJ7"
      }
    },
    {
      "cell_type": "code",
      "source": [
        "from sklearn.pipeline import Pipeline\n",
        "from sklearn.preprocessing import OneHotEncoder\n",
        "from sklearn.compose import ColumnTransformer\n",
        "from sklearn.preprocessing import StandardScaler\n",
        "from sklearn.tree import DecisionTreeClassifier\n",
        "from sklearn.model_selection import StratifiedKFold\n",
        "from sklearn.model_selection import GridSearchCV"
      ],
      "metadata": {
        "id": "4qvXdh7EjSAp"
      },
      "execution_count": 166,
      "outputs": []
    },
    {
      "cell_type": "markdown",
      "source": [
        "\n",
        "\n",
        "* Il primo modello che testiamo è ```DecisionTreeClassifier```\n",
        "\n",
        "\n",
        "\n",
        "\n"
      ],
      "metadata": {
        "id": "F2AU8H27hBto"
      }
    },
    {
      "cell_type": "code",
      "source": [
        "def buildModel(classifier):\n",
        "  model =  Pipeline([\n",
        "      (\"preproc\", ColumnTransformer([\n",
        "          (\"numeric\", StandardScaler(), num_cols),\n",
        "          (\"categorical\", OneHotEncoder(), cat_cols)\n",
        "      ])),\n",
        "\n",
        "      (\"class\", classifier)\n",
        "  ])\n",
        "  return model"
      ],
      "metadata": {
        "id": "8orlPT06qArR"
      },
      "execution_count": 167,
      "outputs": []
    },
    {
      "cell_type": "markdown",
      "source": [
        "* nel valutare i parametri ottimi utilizziamo una grid search con stratified 3-fold"
      ],
      "metadata": {
        "id": "meOZL--L-Ywe"
      }
    },
    {
      "cell_type": "code",
      "source": [
        "skf = StratifiedKFold(3, shuffle=True, random_state=42)"
      ],
      "metadata": {
        "id": "Nfy9-JwajU-s"
      },
      "execution_count": 168,
      "outputs": []
    },
    {
      "cell_type": "code",
      "source": [
        "num_cols = [\"residueCount\", \"structureMolecularWeight\", \"densityMatthews\", \"densityPercentSol\", \"crystallizationTempK\"]\n",
        "cat_cols = [\"macromoleculeType\"]\n",
        "\n",
        "model = buildModel(DecisionTreeClassifier())\n",
        "\n",
        "grid_decision_tree = {\n",
        "    'class__criterion': ['gini', 'entropy', 'log_loss'],\n",
        "    \"class__splitter\":['random','best'],\n",
        "    'class__max_depth':[8,16,32],\n",
        "    'class__max_features': ['sqrt', 'log2']\n",
        "}\n",
        "\n",
        "gs = GridSearchCV(model, grid_decision_tree, cv=skf, scoring=\"accuracy\")\n",
        "gs.fit(X_train, y_train)\n",
        "\n",
        "dt_model = gs.best_estimator_\n",
        "gs.best_params_"
      ],
      "metadata": {
        "id": "49Iwi-ZgzMTg",
        "colab": {
          "base_uri": "https://localhost:8080/"
        },
        "outputId": "2de6001d-abae-4e06-feb5-14bbf79b4373"
      },
      "execution_count": 169,
      "outputs": [
        {
          "output_type": "execute_result",
          "data": {
            "text/plain": [
              "{'class__criterion': 'gini',\n",
              " 'class__max_depth': 32,\n",
              " 'class__max_features': 'log2',\n",
              " 'class__splitter': 'best'}"
            ]
          },
          "metadata": {},
          "execution_count": 169
        }
      ]
    },
    {
      "cell_type": "code",
      "source": [
        "dt_model.fit(X_train, y_train)\n",
        "p, r = precision_score(y_val, dt_model.predict(X_val), average='macro'), recall_score(y_val, dt_model.predict(X_val), average='macro')\n",
        "scores.append(p)\n",
        "p, r"
      ],
      "metadata": {
        "colab": {
          "base_uri": "https://localhost:8080/"
        },
        "id": "Fuj6TbTrloZW",
        "outputId": "c804f1ce-b520-4ef3-bd67-166b278500e9"
      },
      "execution_count": 170,
      "outputs": [
        {
          "output_type": "execute_result",
          "data": {
            "text/plain": [
              "(0.4942709541302059, 0.4902505043078925)"
            ]
          },
          "metadata": {},
          "execution_count": 170
        }
      ]
    },
    {
      "cell_type": "markdown",
      "source": [
        "* infine, testiamo un modello ```XGBClassifier```"
      ],
      "metadata": {
        "id": "hYuwLGmoraOB"
      }
    },
    {
      "cell_type": "code",
      "source": [
        "def encode_y(y):\n",
        "  return y.apply(lambda x: classes.tolist().index(x))"
      ],
      "metadata": {
        "id": "fQiDgQBuzoGO"
      },
      "execution_count": 171,
      "outputs": []
    },
    {
      "cell_type": "code",
      "source": [
        "from xgboost import XGBClassifier\n",
        "\n",
        "model = buildModel(XGBClassifier(\n",
        "    n_estimators=100,\n",
        "    objective=\"multi:softmax\",\n",
        "    learning_rate=0.01,\n",
        "    colsample_bytree=0.2,\n",
        "    eval_metric=\"mlogloss\",\n",
        "    tree_method='gpu_hist',\n",
        "    predictor='gpu_predictor',\n",
        "    gamma=1,\n",
        "    subsample=0.8,\n",
        "))\n",
        "\n",
        "grid_xgb = {\n",
        "    \"class__gamma\": [0.5, 1, 1.5],\n",
        "    \"class__subsample\": [0.4, 0.6, 0.8],\n",
        "    \"class__max_depth\": [15, 20, 25],\n",
        "}\n",
        "gs = GridSearchCV(model, grid_xgb, cv=skf, scoring=\"accuracy\")\n",
        "\n",
        "\n",
        "gs.fit(X_train, encode_y(y_train))\n",
        "\n",
        "xgb_model = gs.best_estimator_\n",
        "gs.best_params_"
      ],
      "metadata": {
        "id": "BrPPO6iQrgLT",
        "colab": {
          "base_uri": "https://localhost:8080/"
        },
        "outputId": "69f2b804-fd1b-4a3a-e5a9-7a4b2fe2fec0"
      },
      "execution_count": 172,
      "outputs": [
        {
          "output_type": "execute_result",
          "data": {
            "text/plain": [
              "{'class__gamma': 0.5, 'class__max_depth': 20, 'class__subsample': 0.8}"
            ]
          },
          "metadata": {},
          "execution_count": 172
        }
      ]
    },
    {
      "cell_type": "code",
      "source": [
        "xgb_model.fit(X_train, encode_y(y_train))\n",
        "p, r = precision_score(encode_y(y_val), xgb_model.predict(X_val), average='macro'), recall_score(encode_y(y_val), xgb_model.predict(X_val), average='macro')\n",
        "scores.append(p)\n",
        "p, r"
      ],
      "metadata": {
        "id": "v43ehoVSrzRH",
        "colab": {
          "base_uri": "https://localhost:8080/"
        },
        "outputId": "f29708c2-57f4-4814-cdc4-04b8d7102761"
      },
      "execution_count": 173,
      "outputs": [
        {
          "output_type": "stream",
          "name": "stderr",
          "text": [
            "/usr/local/lib/python3.10/dist-packages/sklearn/metrics/_classification.py:1344: UndefinedMetricWarning: Precision is ill-defined and being set to 0.0 in labels with no predicted samples. Use `zero_division` parameter to control this behavior.\n",
            "  _warn_prf(average, modifier, msg_start, len(result))\n"
          ]
        },
        {
          "output_type": "execute_result",
          "data": {
            "text/plain": [
              "(0.5061044362798599, 0.23119868094777424)"
            ]
          },
          "metadata": {},
          "execution_count": 173
        }
      ]
    },
    {
      "cell_type": "markdown",
      "source": [
        "## Dataset con informazioni sulla sequenza\n",
        "\n",
        "* Abbiamo visto che i modelli visti, addestrati su un dataset che non tiene conto della sequenza che compone la proteina, non raggiungono buoni risultati.\n",
        "\n",
        "* Proviamo adesso ad aggiungere al nostro dataset feature estratte dalla sequenza"
      ],
      "metadata": {
        "id": "hdE99kXkoXav"
      }
    },
    {
      "cell_type": "code",
      "source": [
        "seq_data = pd.read_csv(\"pdb_data_seq.csv\")[[\"structureId\",\"sequence\"]]\n",
        "seq_data"
      ],
      "metadata": {
        "id": "CXeGrLKrLAXz",
        "colab": {
          "base_uri": "https://localhost:8080/",
          "height": 424
        },
        "outputId": "bf4837e4-db4f-4af5-e1a9-19f7b875bb1c"
      },
      "execution_count": 174,
      "outputs": [
        {
          "output_type": "execute_result",
          "data": {
            "text/plain": [
              "       structureId                                           sequence\n",
              "0             100D                                         CCGGCGCCGG\n",
              "1             100D                                         CCGGCGCCGG\n",
              "2             101D                                       CGCGAATTCGCG\n",
              "3             101D                                       CGCGAATTCGCG\n",
              "4             101M  MVLSEGEWQLVLHVWAKVEADVAGHGQDILIRLFKSHPETLEKFDR...\n",
              "...            ...                                                ...\n",
              "467299        9XIA  MNYQPTPEDRFTFGLWTVGWQGRDPFGDATRRALDPVESVQRLAEL...\n",
              "467300        9XIM  SVQATREDKFSFGLWTVGWQARDAFGDATRTALDPVEAVHKLAEIG...\n",
              "467301        9XIM  SVQATREDKFSFGLWTVGWQARDAFGDATRTALDPVEAVHKLAEIG...\n",
              "467302        9XIM  SVQATREDKFSFGLWTVGWQARDAFGDATRTALDPVEAVHKLAEIG...\n",
              "467303        9XIM  SVQATREDKFSFGLWTVGWQARDAFGDATRTALDPVEAVHKLAEIG...\n",
              "\n",
              "[467304 rows x 2 columns]"
            ],
            "text/html": [
              "\n",
              "  <div id=\"df-03324de4-cefb-452f-b726-4c11b2857f8a\" class=\"colab-df-container\">\n",
              "    <div>\n",
              "<style scoped>\n",
              "    .dataframe tbody tr th:only-of-type {\n",
              "        vertical-align: middle;\n",
              "    }\n",
              "\n",
              "    .dataframe tbody tr th {\n",
              "        vertical-align: top;\n",
              "    }\n",
              "\n",
              "    .dataframe thead th {\n",
              "        text-align: right;\n",
              "    }\n",
              "</style>\n",
              "<table border=\"1\" class=\"dataframe\">\n",
              "  <thead>\n",
              "    <tr style=\"text-align: right;\">\n",
              "      <th></th>\n",
              "      <th>structureId</th>\n",
              "      <th>sequence</th>\n",
              "    </tr>\n",
              "  </thead>\n",
              "  <tbody>\n",
              "    <tr>\n",
              "      <th>0</th>\n",
              "      <td>100D</td>\n",
              "      <td>CCGGCGCCGG</td>\n",
              "    </tr>\n",
              "    <tr>\n",
              "      <th>1</th>\n",
              "      <td>100D</td>\n",
              "      <td>CCGGCGCCGG</td>\n",
              "    </tr>\n",
              "    <tr>\n",
              "      <th>2</th>\n",
              "      <td>101D</td>\n",
              "      <td>CGCGAATTCGCG</td>\n",
              "    </tr>\n",
              "    <tr>\n",
              "      <th>3</th>\n",
              "      <td>101D</td>\n",
              "      <td>CGCGAATTCGCG</td>\n",
              "    </tr>\n",
              "    <tr>\n",
              "      <th>4</th>\n",
              "      <td>101M</td>\n",
              "      <td>MVLSEGEWQLVLHVWAKVEADVAGHGQDILIRLFKSHPETLEKFDR...</td>\n",
              "    </tr>\n",
              "    <tr>\n",
              "      <th>...</th>\n",
              "      <td>...</td>\n",
              "      <td>...</td>\n",
              "    </tr>\n",
              "    <tr>\n",
              "      <th>467299</th>\n",
              "      <td>9XIA</td>\n",
              "      <td>MNYQPTPEDRFTFGLWTVGWQGRDPFGDATRRALDPVESVQRLAEL...</td>\n",
              "    </tr>\n",
              "    <tr>\n",
              "      <th>467300</th>\n",
              "      <td>9XIM</td>\n",
              "      <td>SVQATREDKFSFGLWTVGWQARDAFGDATRTALDPVEAVHKLAEIG...</td>\n",
              "    </tr>\n",
              "    <tr>\n",
              "      <th>467301</th>\n",
              "      <td>9XIM</td>\n",
              "      <td>SVQATREDKFSFGLWTVGWQARDAFGDATRTALDPVEAVHKLAEIG...</td>\n",
              "    </tr>\n",
              "    <tr>\n",
              "      <th>467302</th>\n",
              "      <td>9XIM</td>\n",
              "      <td>SVQATREDKFSFGLWTVGWQARDAFGDATRTALDPVEAVHKLAEIG...</td>\n",
              "    </tr>\n",
              "    <tr>\n",
              "      <th>467303</th>\n",
              "      <td>9XIM</td>\n",
              "      <td>SVQATREDKFSFGLWTVGWQARDAFGDATRTALDPVEAVHKLAEIG...</td>\n",
              "    </tr>\n",
              "  </tbody>\n",
              "</table>\n",
              "<p>467304 rows × 2 columns</p>\n",
              "</div>\n",
              "    <div class=\"colab-df-buttons\">\n",
              "\n",
              "  <div class=\"colab-df-container\">\n",
              "    <button class=\"colab-df-convert\" onclick=\"convertToInteractive('df-03324de4-cefb-452f-b726-4c11b2857f8a')\"\n",
              "            title=\"Convert this dataframe to an interactive table.\"\n",
              "            style=\"display:none;\">\n",
              "\n",
              "  <svg xmlns=\"http://www.w3.org/2000/svg\" height=\"24px\" viewBox=\"0 -960 960 960\">\n",
              "    <path d=\"M120-120v-720h720v720H120Zm60-500h600v-160H180v160Zm220 220h160v-160H400v160Zm0 220h160v-160H400v160ZM180-400h160v-160H180v160Zm440 0h160v-160H620v160ZM180-180h160v-160H180v160Zm440 0h160v-160H620v160Z\"/>\n",
              "  </svg>\n",
              "    </button>\n",
              "\n",
              "  <style>\n",
              "    .colab-df-container {\n",
              "      display:flex;\n",
              "      gap: 12px;\n",
              "    }\n",
              "\n",
              "    .colab-df-convert {\n",
              "      background-color: #E8F0FE;\n",
              "      border: none;\n",
              "      border-radius: 50%;\n",
              "      cursor: pointer;\n",
              "      display: none;\n",
              "      fill: #1967D2;\n",
              "      height: 32px;\n",
              "      padding: 0 0 0 0;\n",
              "      width: 32px;\n",
              "    }\n",
              "\n",
              "    .colab-df-convert:hover {\n",
              "      background-color: #E2EBFA;\n",
              "      box-shadow: 0px 1px 2px rgba(60, 64, 67, 0.3), 0px 1px 3px 1px rgba(60, 64, 67, 0.15);\n",
              "      fill: #174EA6;\n",
              "    }\n",
              "\n",
              "    .colab-df-buttons div {\n",
              "      margin-bottom: 4px;\n",
              "    }\n",
              "\n",
              "    [theme=dark] .colab-df-convert {\n",
              "      background-color: #3B4455;\n",
              "      fill: #D2E3FC;\n",
              "    }\n",
              "\n",
              "    [theme=dark] .colab-df-convert:hover {\n",
              "      background-color: #434B5C;\n",
              "      box-shadow: 0px 1px 3px 1px rgba(0, 0, 0, 0.15);\n",
              "      filter: drop-shadow(0px 1px 2px rgba(0, 0, 0, 0.3));\n",
              "      fill: #FFFFFF;\n",
              "    }\n",
              "  </style>\n",
              "\n",
              "    <script>\n",
              "      const buttonEl =\n",
              "        document.querySelector('#df-03324de4-cefb-452f-b726-4c11b2857f8a button.colab-df-convert');\n",
              "      buttonEl.style.display =\n",
              "        google.colab.kernel.accessAllowed ? 'block' : 'none';\n",
              "\n",
              "      async function convertToInteractive(key) {\n",
              "        const element = document.querySelector('#df-03324de4-cefb-452f-b726-4c11b2857f8a');\n",
              "        const dataTable =\n",
              "          await google.colab.kernel.invokeFunction('convertToInteractive',\n",
              "                                                    [key], {});\n",
              "        if (!dataTable) return;\n",
              "\n",
              "        const docLinkHtml = 'Like what you see? Visit the ' +\n",
              "          '<a target=\"_blank\" href=https://colab.research.google.com/notebooks/data_table.ipynb>data table notebook</a>'\n",
              "          + ' to learn more about interactive tables.';\n",
              "        element.innerHTML = '';\n",
              "        dataTable['output_type'] = 'display_data';\n",
              "        await google.colab.output.renderOutput(dataTable, element);\n",
              "        const docLink = document.createElement('div');\n",
              "        docLink.innerHTML = docLinkHtml;\n",
              "        element.appendChild(docLink);\n",
              "      }\n",
              "    </script>\n",
              "  </div>\n",
              "\n",
              "\n",
              "<div id=\"df-ec2a7694-443c-48e4-8d66-f008182de951\">\n",
              "  <button class=\"colab-df-quickchart\" onclick=\"quickchart('df-ec2a7694-443c-48e4-8d66-f008182de951')\"\n",
              "            title=\"Suggest charts.\"\n",
              "            style=\"display:none;\">\n",
              "\n",
              "<svg xmlns=\"http://www.w3.org/2000/svg\" height=\"24px\"viewBox=\"0 0 24 24\"\n",
              "     width=\"24px\">\n",
              "    <g>\n",
              "        <path d=\"M19 3H5c-1.1 0-2 .9-2 2v14c0 1.1.9 2 2 2h14c1.1 0 2-.9 2-2V5c0-1.1-.9-2-2-2zM9 17H7v-7h2v7zm4 0h-2V7h2v10zm4 0h-2v-4h2v4z\"/>\n",
              "    </g>\n",
              "</svg>\n",
              "  </button>\n",
              "\n",
              "<style>\n",
              "  .colab-df-quickchart {\n",
              "    background-color: #E8F0FE;\n",
              "    border: none;\n",
              "    border-radius: 50%;\n",
              "    cursor: pointer;\n",
              "    display: none;\n",
              "    fill: #1967D2;\n",
              "    height: 32px;\n",
              "    padding: 0 0 0 0;\n",
              "    width: 32px;\n",
              "  }\n",
              "\n",
              "  .colab-df-quickchart:hover {\n",
              "    background-color: #E2EBFA;\n",
              "    box-shadow: 0px 1px 2px rgba(60, 64, 67, 0.3), 0px 1px 3px 1px rgba(60, 64, 67, 0.15);\n",
              "    fill: #174EA6;\n",
              "  }\n",
              "\n",
              "  [theme=dark] .colab-df-quickchart {\n",
              "    background-color: #3B4455;\n",
              "    fill: #D2E3FC;\n",
              "  }\n",
              "\n",
              "  [theme=dark] .colab-df-quickchart:hover {\n",
              "    background-color: #434B5C;\n",
              "    box-shadow: 0px 1px 3px 1px rgba(0, 0, 0, 0.15);\n",
              "    filter: drop-shadow(0px 1px 2px rgba(0, 0, 0, 0.3));\n",
              "    fill: #FFFFFF;\n",
              "  }\n",
              "</style>\n",
              "\n",
              "  <script>\n",
              "    async function quickchart(key) {\n",
              "      const charts = await google.colab.kernel.invokeFunction(\n",
              "          'suggestCharts', [key], {});\n",
              "    }\n",
              "    (() => {\n",
              "      let quickchartButtonEl =\n",
              "        document.querySelector('#df-ec2a7694-443c-48e4-8d66-f008182de951 button');\n",
              "      quickchartButtonEl.style.display =\n",
              "        google.colab.kernel.accessAllowed ? 'block' : 'none';\n",
              "    })();\n",
              "  </script>\n",
              "</div>\n",
              "    </div>\n",
              "  </div>\n"
            ]
          },
          "metadata": {},
          "execution_count": 174
        }
      ]
    },
    {
      "cell_type": "markdown",
      "source": [
        "* Eliminiamo le righe in cui manca la sequenza\n",
        "* Dato che la sequenza è divisa su più righe, le unisco"
      ],
      "metadata": {
        "id": "4sivGHjupHZY"
      }
    },
    {
      "cell_type": "code",
      "source": [
        "seq_data = seq_data[~seq_data[\"sequence\"].isna()]\n",
        "\n",
        "s = pd.Series(seq_data.groupby(\"structureId\")[\"sequence\"], index=seq_data[\"structureId\"].unique())\n",
        "s = s.apply(lambda x: \"\".join(x[1].tolist()))\n",
        "seq_df = pd.DataFrame(s, columns=[\"sequence\"])\n",
        "seq_df.head()"
      ],
      "metadata": {
        "id": "DOuBO3cBLu80",
        "colab": {
          "base_uri": "https://localhost:8080/",
          "height": 206
        },
        "outputId": "a1989268-6df5-46b7-ca85-7b1af4ed6fda"
      },
      "execution_count": 175,
      "outputs": [
        {
          "output_type": "execute_result",
          "data": {
            "text/plain": [
              "                                               sequence\n",
              "100D                               CCGGCGCCGGCCGGCGCCGG\n",
              "101D                           CGCGAATTCGCGCGCGAATTCGCG\n",
              "101M  MVLSEGEWQLVLHVWAKVEADVAGHGQDILIRLFKSHPETLEKFDR...\n",
              "102D                           CGCAAATTTGCGCGCAAATTTGCG\n",
              "102L  MNIFEMLRIDEGLRLKIYKDTEGYYTIGIGHLLTKSPSLNAAAKSE..."
            ],
            "text/html": [
              "\n",
              "  <div id=\"df-2d01e039-7f37-49f6-83f2-83b1d91e94a8\" class=\"colab-df-container\">\n",
              "    <div>\n",
              "<style scoped>\n",
              "    .dataframe tbody tr th:only-of-type {\n",
              "        vertical-align: middle;\n",
              "    }\n",
              "\n",
              "    .dataframe tbody tr th {\n",
              "        vertical-align: top;\n",
              "    }\n",
              "\n",
              "    .dataframe thead th {\n",
              "        text-align: right;\n",
              "    }\n",
              "</style>\n",
              "<table border=\"1\" class=\"dataframe\">\n",
              "  <thead>\n",
              "    <tr style=\"text-align: right;\">\n",
              "      <th></th>\n",
              "      <th>sequence</th>\n",
              "    </tr>\n",
              "  </thead>\n",
              "  <tbody>\n",
              "    <tr>\n",
              "      <th>100D</th>\n",
              "      <td>CCGGCGCCGGCCGGCGCCGG</td>\n",
              "    </tr>\n",
              "    <tr>\n",
              "      <th>101D</th>\n",
              "      <td>CGCGAATTCGCGCGCGAATTCGCG</td>\n",
              "    </tr>\n",
              "    <tr>\n",
              "      <th>101M</th>\n",
              "      <td>MVLSEGEWQLVLHVWAKVEADVAGHGQDILIRLFKSHPETLEKFDR...</td>\n",
              "    </tr>\n",
              "    <tr>\n",
              "      <th>102D</th>\n",
              "      <td>CGCAAATTTGCGCGCAAATTTGCG</td>\n",
              "    </tr>\n",
              "    <tr>\n",
              "      <th>102L</th>\n",
              "      <td>MNIFEMLRIDEGLRLKIYKDTEGYYTIGIGHLLTKSPSLNAAAKSE...</td>\n",
              "    </tr>\n",
              "  </tbody>\n",
              "</table>\n",
              "</div>\n",
              "    <div class=\"colab-df-buttons\">\n",
              "\n",
              "  <div class=\"colab-df-container\">\n",
              "    <button class=\"colab-df-convert\" onclick=\"convertToInteractive('df-2d01e039-7f37-49f6-83f2-83b1d91e94a8')\"\n",
              "            title=\"Convert this dataframe to an interactive table.\"\n",
              "            style=\"display:none;\">\n",
              "\n",
              "  <svg xmlns=\"http://www.w3.org/2000/svg\" height=\"24px\" viewBox=\"0 -960 960 960\">\n",
              "    <path d=\"M120-120v-720h720v720H120Zm60-500h600v-160H180v160Zm220 220h160v-160H400v160Zm0 220h160v-160H400v160ZM180-400h160v-160H180v160Zm440 0h160v-160H620v160ZM180-180h160v-160H180v160Zm440 0h160v-160H620v160Z\"/>\n",
              "  </svg>\n",
              "    </button>\n",
              "\n",
              "  <style>\n",
              "    .colab-df-container {\n",
              "      display:flex;\n",
              "      gap: 12px;\n",
              "    }\n",
              "\n",
              "    .colab-df-convert {\n",
              "      background-color: #E8F0FE;\n",
              "      border: none;\n",
              "      border-radius: 50%;\n",
              "      cursor: pointer;\n",
              "      display: none;\n",
              "      fill: #1967D2;\n",
              "      height: 32px;\n",
              "      padding: 0 0 0 0;\n",
              "      width: 32px;\n",
              "    }\n",
              "\n",
              "    .colab-df-convert:hover {\n",
              "      background-color: #E2EBFA;\n",
              "      box-shadow: 0px 1px 2px rgba(60, 64, 67, 0.3), 0px 1px 3px 1px rgba(60, 64, 67, 0.15);\n",
              "      fill: #174EA6;\n",
              "    }\n",
              "\n",
              "    .colab-df-buttons div {\n",
              "      margin-bottom: 4px;\n",
              "    }\n",
              "\n",
              "    [theme=dark] .colab-df-convert {\n",
              "      background-color: #3B4455;\n",
              "      fill: #D2E3FC;\n",
              "    }\n",
              "\n",
              "    [theme=dark] .colab-df-convert:hover {\n",
              "      background-color: #434B5C;\n",
              "      box-shadow: 0px 1px 3px 1px rgba(0, 0, 0, 0.15);\n",
              "      filter: drop-shadow(0px 1px 2px rgba(0, 0, 0, 0.3));\n",
              "      fill: #FFFFFF;\n",
              "    }\n",
              "  </style>\n",
              "\n",
              "    <script>\n",
              "      const buttonEl =\n",
              "        document.querySelector('#df-2d01e039-7f37-49f6-83f2-83b1d91e94a8 button.colab-df-convert');\n",
              "      buttonEl.style.display =\n",
              "        google.colab.kernel.accessAllowed ? 'block' : 'none';\n",
              "\n",
              "      async function convertToInteractive(key) {\n",
              "        const element = document.querySelector('#df-2d01e039-7f37-49f6-83f2-83b1d91e94a8');\n",
              "        const dataTable =\n",
              "          await google.colab.kernel.invokeFunction('convertToInteractive',\n",
              "                                                    [key], {});\n",
              "        if (!dataTable) return;\n",
              "\n",
              "        const docLinkHtml = 'Like what you see? Visit the ' +\n",
              "          '<a target=\"_blank\" href=https://colab.research.google.com/notebooks/data_table.ipynb>data table notebook</a>'\n",
              "          + ' to learn more about interactive tables.';\n",
              "        element.innerHTML = '';\n",
              "        dataTable['output_type'] = 'display_data';\n",
              "        await google.colab.output.renderOutput(dataTable, element);\n",
              "        const docLink = document.createElement('div');\n",
              "        docLink.innerHTML = docLinkHtml;\n",
              "        element.appendChild(docLink);\n",
              "      }\n",
              "    </script>\n",
              "  </div>\n",
              "\n",
              "\n",
              "<div id=\"df-c0aa3ff3-801e-448f-b2a8-816c1dbd110a\">\n",
              "  <button class=\"colab-df-quickchart\" onclick=\"quickchart('df-c0aa3ff3-801e-448f-b2a8-816c1dbd110a')\"\n",
              "            title=\"Suggest charts.\"\n",
              "            style=\"display:none;\">\n",
              "\n",
              "<svg xmlns=\"http://www.w3.org/2000/svg\" height=\"24px\"viewBox=\"0 0 24 24\"\n",
              "     width=\"24px\">\n",
              "    <g>\n",
              "        <path d=\"M19 3H5c-1.1 0-2 .9-2 2v14c0 1.1.9 2 2 2h14c1.1 0 2-.9 2-2V5c0-1.1-.9-2-2-2zM9 17H7v-7h2v7zm4 0h-2V7h2v10zm4 0h-2v-4h2v4z\"/>\n",
              "    </g>\n",
              "</svg>\n",
              "  </button>\n",
              "\n",
              "<style>\n",
              "  .colab-df-quickchart {\n",
              "    background-color: #E8F0FE;\n",
              "    border: none;\n",
              "    border-radius: 50%;\n",
              "    cursor: pointer;\n",
              "    display: none;\n",
              "    fill: #1967D2;\n",
              "    height: 32px;\n",
              "    padding: 0 0 0 0;\n",
              "    width: 32px;\n",
              "  }\n",
              "\n",
              "  .colab-df-quickchart:hover {\n",
              "    background-color: #E2EBFA;\n",
              "    box-shadow: 0px 1px 2px rgba(60, 64, 67, 0.3), 0px 1px 3px 1px rgba(60, 64, 67, 0.15);\n",
              "    fill: #174EA6;\n",
              "  }\n",
              "\n",
              "  [theme=dark] .colab-df-quickchart {\n",
              "    background-color: #3B4455;\n",
              "    fill: #D2E3FC;\n",
              "  }\n",
              "\n",
              "  [theme=dark] .colab-df-quickchart:hover {\n",
              "    background-color: #434B5C;\n",
              "    box-shadow: 0px 1px 3px 1px rgba(0, 0, 0, 0.15);\n",
              "    filter: drop-shadow(0px 1px 2px rgba(0, 0, 0, 0.3));\n",
              "    fill: #FFFFFF;\n",
              "  }\n",
              "</style>\n",
              "\n",
              "  <script>\n",
              "    async function quickchart(key) {\n",
              "      const charts = await google.colab.kernel.invokeFunction(\n",
              "          'suggestCharts', [key], {});\n",
              "    }\n",
              "    (() => {\n",
              "      let quickchartButtonEl =\n",
              "        document.querySelector('#df-c0aa3ff3-801e-448f-b2a8-816c1dbd110a button');\n",
              "      quickchartButtonEl.style.display =\n",
              "        google.colab.kernel.accessAllowed ? 'block' : 'none';\n",
              "    })();\n",
              "  </script>\n",
              "</div>\n",
              "    </div>\n",
              "  </div>\n"
            ]
          },
          "metadata": {},
          "execution_count": 175
        }
      ]
    },
    {
      "cell_type": "markdown",
      "source": [
        "* Faccio corrispondere le righe del dataset delle sequenze con le righe del dataset originale"
      ],
      "metadata": {
        "id": "UHqAqRQuq0Yb"
      }
    },
    {
      "cell_type": "code",
      "source": [
        "data_seq = pd.DataFrame(data)\n",
        "seq_df = seq_df[seq_df.index.isin(data_seq.index)]\n",
        "data_seq = data_seq[data_seq.index.isin(seq_df.index)]"
      ],
      "metadata": {
        "id": "somD8dFjszh4"
      },
      "execution_count": 176,
      "outputs": []
    },
    {
      "cell_type": "code",
      "source": [
        "(seq_df.index == data_seq.index).all()"
      ],
      "metadata": {
        "id": "uVsuKsFwrMa8",
        "colab": {
          "base_uri": "https://localhost:8080/"
        },
        "outputId": "a602729d-bbb2-41e5-9937-2574819fdfb2"
      },
      "execution_count": 177,
      "outputs": [
        {
          "output_type": "execute_result",
          "data": {
            "text/plain": [
              "True"
            ]
          },
          "metadata": {},
          "execution_count": 177
        }
      ]
    },
    {
      "cell_type": "markdown",
      "source": [
        "* Inserisco le sequenze nel database con le altre features"
      ],
      "metadata": {
        "id": "KE1KiQeloX5_"
      }
    },
    {
      "cell_type": "code",
      "source": [
        "data_seq[\"sequence\"] = seq_df[\"sequence\"]\n",
        "data_seq.head(1)"
      ],
      "metadata": {
        "id": "S9_bmGQCrYsf",
        "colab": {
          "base_uri": "https://localhost:8080/",
          "height": 132
        },
        "outputId": "eee0e1df-80fb-4271-94d6-86affb9932ec"
      },
      "execution_count": 178,
      "outputs": [
        {
          "output_type": "execute_result",
          "data": {
            "text/plain": [
              "             classification macromoleculeType  residueCount  \\\n",
              "structureId                                                   \n",
              "1A4S         OXIDOREDUCTASE           Protein          2012   \n",
              "\n",
              "             structureMolecularWeight  crystallizationTempK  densityMatthews  \\\n",
              "structureId                                                                    \n",
              "1A4S                        217689.59                 287.0             2.43   \n",
              "\n",
              "             densityPercentSol  \\\n",
              "structureId                      \n",
              "1A4S                      41.0   \n",
              "\n",
              "                                                      sequence  \n",
              "structureId                                                     \n",
              "1A4S         AQLVDSMPSASTGSVVVTDDLNYWGGRRIKSKDGATTEPVFEPATG...  "
            ],
            "text/html": [
              "\n",
              "  <div id=\"df-ecd140cc-38c8-47f4-8f5d-09414d8c43aa\" class=\"colab-df-container\">\n",
              "    <div>\n",
              "<style scoped>\n",
              "    .dataframe tbody tr th:only-of-type {\n",
              "        vertical-align: middle;\n",
              "    }\n",
              "\n",
              "    .dataframe tbody tr th {\n",
              "        vertical-align: top;\n",
              "    }\n",
              "\n",
              "    .dataframe thead th {\n",
              "        text-align: right;\n",
              "    }\n",
              "</style>\n",
              "<table border=\"1\" class=\"dataframe\">\n",
              "  <thead>\n",
              "    <tr style=\"text-align: right;\">\n",
              "      <th></th>\n",
              "      <th>classification</th>\n",
              "      <th>macromoleculeType</th>\n",
              "      <th>residueCount</th>\n",
              "      <th>structureMolecularWeight</th>\n",
              "      <th>crystallizationTempK</th>\n",
              "      <th>densityMatthews</th>\n",
              "      <th>densityPercentSol</th>\n",
              "      <th>sequence</th>\n",
              "    </tr>\n",
              "    <tr>\n",
              "      <th>structureId</th>\n",
              "      <th></th>\n",
              "      <th></th>\n",
              "      <th></th>\n",
              "      <th></th>\n",
              "      <th></th>\n",
              "      <th></th>\n",
              "      <th></th>\n",
              "      <th></th>\n",
              "    </tr>\n",
              "  </thead>\n",
              "  <tbody>\n",
              "    <tr>\n",
              "      <th>1A4S</th>\n",
              "      <td>OXIDOREDUCTASE</td>\n",
              "      <td>Protein</td>\n",
              "      <td>2012</td>\n",
              "      <td>217689.59</td>\n",
              "      <td>287.0</td>\n",
              "      <td>2.43</td>\n",
              "      <td>41.0</td>\n",
              "      <td>AQLVDSMPSASTGSVVVTDDLNYWGGRRIKSKDGATTEPVFEPATG...</td>\n",
              "    </tr>\n",
              "  </tbody>\n",
              "</table>\n",
              "</div>\n",
              "    <div class=\"colab-df-buttons\">\n",
              "\n",
              "  <div class=\"colab-df-container\">\n",
              "    <button class=\"colab-df-convert\" onclick=\"convertToInteractive('df-ecd140cc-38c8-47f4-8f5d-09414d8c43aa')\"\n",
              "            title=\"Convert this dataframe to an interactive table.\"\n",
              "            style=\"display:none;\">\n",
              "\n",
              "  <svg xmlns=\"http://www.w3.org/2000/svg\" height=\"24px\" viewBox=\"0 -960 960 960\">\n",
              "    <path d=\"M120-120v-720h720v720H120Zm60-500h600v-160H180v160Zm220 220h160v-160H400v160Zm0 220h160v-160H400v160ZM180-400h160v-160H180v160Zm440 0h160v-160H620v160ZM180-180h160v-160H180v160Zm440 0h160v-160H620v160Z\"/>\n",
              "  </svg>\n",
              "    </button>\n",
              "\n",
              "  <style>\n",
              "    .colab-df-container {\n",
              "      display:flex;\n",
              "      gap: 12px;\n",
              "    }\n",
              "\n",
              "    .colab-df-convert {\n",
              "      background-color: #E8F0FE;\n",
              "      border: none;\n",
              "      border-radius: 50%;\n",
              "      cursor: pointer;\n",
              "      display: none;\n",
              "      fill: #1967D2;\n",
              "      height: 32px;\n",
              "      padding: 0 0 0 0;\n",
              "      width: 32px;\n",
              "    }\n",
              "\n",
              "    .colab-df-convert:hover {\n",
              "      background-color: #E2EBFA;\n",
              "      box-shadow: 0px 1px 2px rgba(60, 64, 67, 0.3), 0px 1px 3px 1px rgba(60, 64, 67, 0.15);\n",
              "      fill: #174EA6;\n",
              "    }\n",
              "\n",
              "    .colab-df-buttons div {\n",
              "      margin-bottom: 4px;\n",
              "    }\n",
              "\n",
              "    [theme=dark] .colab-df-convert {\n",
              "      background-color: #3B4455;\n",
              "      fill: #D2E3FC;\n",
              "    }\n",
              "\n",
              "    [theme=dark] .colab-df-convert:hover {\n",
              "      background-color: #434B5C;\n",
              "      box-shadow: 0px 1px 3px 1px rgba(0, 0, 0, 0.15);\n",
              "      filter: drop-shadow(0px 1px 2px rgba(0, 0, 0, 0.3));\n",
              "      fill: #FFFFFF;\n",
              "    }\n",
              "  </style>\n",
              "\n",
              "    <script>\n",
              "      const buttonEl =\n",
              "        document.querySelector('#df-ecd140cc-38c8-47f4-8f5d-09414d8c43aa button.colab-df-convert');\n",
              "      buttonEl.style.display =\n",
              "        google.colab.kernel.accessAllowed ? 'block' : 'none';\n",
              "\n",
              "      async function convertToInteractive(key) {\n",
              "        const element = document.querySelector('#df-ecd140cc-38c8-47f4-8f5d-09414d8c43aa');\n",
              "        const dataTable =\n",
              "          await google.colab.kernel.invokeFunction('convertToInteractive',\n",
              "                                                    [key], {});\n",
              "        if (!dataTable) return;\n",
              "\n",
              "        const docLinkHtml = 'Like what you see? Visit the ' +\n",
              "          '<a target=\"_blank\" href=https://colab.research.google.com/notebooks/data_table.ipynb>data table notebook</a>'\n",
              "          + ' to learn more about interactive tables.';\n",
              "        element.innerHTML = '';\n",
              "        dataTable['output_type'] = 'display_data';\n",
              "        await google.colab.output.renderOutput(dataTable, element);\n",
              "        const docLink = document.createElement('div');\n",
              "        docLink.innerHTML = docLinkHtml;\n",
              "        element.appendChild(docLink);\n",
              "      }\n",
              "    </script>\n",
              "  </div>\n",
              "\n",
              "\n",
              "<div id=\"df-e64ee593-6563-4298-b5e9-973d8c7b1f2f\">\n",
              "  <button class=\"colab-df-quickchart\" onclick=\"quickchart('df-e64ee593-6563-4298-b5e9-973d8c7b1f2f')\"\n",
              "            title=\"Suggest charts.\"\n",
              "            style=\"display:none;\">\n",
              "\n",
              "<svg xmlns=\"http://www.w3.org/2000/svg\" height=\"24px\"viewBox=\"0 0 24 24\"\n",
              "     width=\"24px\">\n",
              "    <g>\n",
              "        <path d=\"M19 3H5c-1.1 0-2 .9-2 2v14c0 1.1.9 2 2 2h14c1.1 0 2-.9 2-2V5c0-1.1-.9-2-2-2zM9 17H7v-7h2v7zm4 0h-2V7h2v10zm4 0h-2v-4h2v4z\"/>\n",
              "    </g>\n",
              "</svg>\n",
              "  </button>\n",
              "\n",
              "<style>\n",
              "  .colab-df-quickchart {\n",
              "    background-color: #E8F0FE;\n",
              "    border: none;\n",
              "    border-radius: 50%;\n",
              "    cursor: pointer;\n",
              "    display: none;\n",
              "    fill: #1967D2;\n",
              "    height: 32px;\n",
              "    padding: 0 0 0 0;\n",
              "    width: 32px;\n",
              "  }\n",
              "\n",
              "  .colab-df-quickchart:hover {\n",
              "    background-color: #E2EBFA;\n",
              "    box-shadow: 0px 1px 2px rgba(60, 64, 67, 0.3), 0px 1px 3px 1px rgba(60, 64, 67, 0.15);\n",
              "    fill: #174EA6;\n",
              "  }\n",
              "\n",
              "  [theme=dark] .colab-df-quickchart {\n",
              "    background-color: #3B4455;\n",
              "    fill: #D2E3FC;\n",
              "  }\n",
              "\n",
              "  [theme=dark] .colab-df-quickchart:hover {\n",
              "    background-color: #434B5C;\n",
              "    box-shadow: 0px 1px 3px 1px rgba(0, 0, 0, 0.15);\n",
              "    filter: drop-shadow(0px 1px 2px rgba(0, 0, 0, 0.3));\n",
              "    fill: #FFFFFF;\n",
              "  }\n",
              "</style>\n",
              "\n",
              "  <script>\n",
              "    async function quickchart(key) {\n",
              "      const charts = await google.colab.kernel.invokeFunction(\n",
              "          'suggestCharts', [key], {});\n",
              "    }\n",
              "    (() => {\n",
              "      let quickchartButtonEl =\n",
              "        document.querySelector('#df-e64ee593-6563-4298-b5e9-973d8c7b1f2f button');\n",
              "      quickchartButtonEl.style.display =\n",
              "        google.colab.kernel.accessAllowed ? 'block' : 'none';\n",
              "    })();\n",
              "  </script>\n",
              "</div>\n",
              "    </div>\n",
              "  </div>\n"
            ]
          },
          "metadata": {},
          "execution_count": 178
        }
      ]
    },
    {
      "cell_type": "markdown",
      "source": [
        "**Estrazione di nuove features**\n",
        "* Dalla sequenza di amminoacidi è possibile estrarre diverse informazioni utili\n",
        "* Per esempio, la frequenza di ciascun amminoacido nella sequenza"
      ],
      "metadata": {
        "id": "n6gFU3UnrsTl"
      }
    },
    {
      "cell_type": "code",
      "source": [
        "amms = ['A', 'C', 'D', 'E', 'F', 'G', 'H', 'I', 'K', 'L', 'M', 'N', 'P', 'Q', 'R', 'S', 'T', 'V', 'W', 'X','Y']\n",
        "\n",
        "for amm in amms:\n",
        "  data_seq.loc[:, f\"freq_{amm}\"] = data_seq.loc[:, \"sequence\"].apply(lambda x: x.count(amm) / len(x))"
      ],
      "metadata": {
        "id": "pWp0wPLYZ686"
      },
      "execution_count": 179,
      "outputs": []
    },
    {
      "cell_type": "markdown",
      "source": [
        "* Altre caratteristiche possono essere estratte attraverso la libreria ```biopython```"
      ],
      "metadata": {
        "id": "zUk7BhmmudnT"
      }
    },
    {
      "cell_type": "code",
      "source": [
        "#pip install biopython"
      ],
      "metadata": {
        "id": "TWYqC3j_z-eE"
      },
      "execution_count": 180,
      "outputs": []
    },
    {
      "cell_type": "code",
      "source": [
        "from Bio.Seq import Seq\n",
        "from Bio.SeqUtils.ProtParam import ProteinAnalysis"
      ],
      "metadata": {
        "id": "KL4PYavZuhE8"
      },
      "execution_count": 181,
      "outputs": []
    },
    {
      "cell_type": "code",
      "source": [
        "aromaticity = pd.Series([ProteinAnalysis(Seq(s)).aromaticity() for s in data_seq[\"sequence\"]], index=data_seq.index)\n",
        "isoelectric = pd.Series([ProteinAnalysis(Seq(s)).isoelectric_point() for s in data_seq[\"sequence\"]], index=data_seq.index)\n",
        "secondary = pd.DataFrame([ProteinAnalysis(Seq(s)).secondary_structure_fraction() for s in data_seq[\"sequence\"]], index=data_seq.index, columns = [\"helix\", \"turn\",\"sheet\"])"
      ],
      "metadata": {
        "id": "ByHXzj78-YQo"
      },
      "execution_count": 182,
      "outputs": []
    },
    {
      "cell_type": "code",
      "source": [
        "data_seq[\"aromaticity\"] = aromaticity\n",
        "data_seq[\"isoelectricPoint\"] = isoelectric\n",
        "for feature in [\"helix\", \"turn\",\"sheet\"]:\n",
        "  data_seq.loc[:,feature] = secondary.loc[:,feature]"
      ],
      "metadata": {
        "id": "-HKs1k0G-D8v"
      },
      "execution_count": 183,
      "outputs": []
    },
    {
      "cell_type": "code",
      "source": [
        "data_seq.head(1)"
      ],
      "metadata": {
        "id": "Xzm7yA3QBdIM",
        "colab": {
          "base_uri": "https://localhost:8080/",
          "height": 161
        },
        "outputId": "0242e3c5-ab5c-4eca-ff13-8f3b985942b8"
      },
      "execution_count": 184,
      "outputs": [
        {
          "output_type": "execute_result",
          "data": {
            "text/plain": [
              "             classification macromoleculeType  residueCount  \\\n",
              "structureId                                                   \n",
              "1A4S         OXIDOREDUCTASE           Protein          2012   \n",
              "\n",
              "             structureMolecularWeight  crystallizationTempK  densityMatthews  \\\n",
              "structureId                                                                    \n",
              "1A4S                        217689.59                 287.0             2.43   \n",
              "\n",
              "             densityPercentSol  \\\n",
              "structureId                      \n",
              "1A4S                      41.0   \n",
              "\n",
              "                                                      sequence    freq_A  \\\n",
              "structureId                                                                \n",
              "1A4S         AQLVDSMPSASTGSVVVTDDLNYWGGRRIKSKDGATTEPVFEPATG...  0.093439   \n",
              "\n",
              "               freq_C  ...    freq_T    freq_V   freq_W  freq_X    freq_Y  \\\n",
              "structureId            ...                                                  \n",
              "1A4S         0.027833  ...  0.063618  0.101392  0.00994     0.0  0.025845   \n",
              "\n",
              "             aromaticity  isoelectricPoint     helix      turn     sheet  \n",
              "structureId                                                               \n",
              "1A4S            0.073559          5.856258  0.298211  0.232604  0.270378  \n",
              "\n",
              "[1 rows x 34 columns]"
            ],
            "text/html": [
              "\n",
              "  <div id=\"df-67a6a406-b9bc-46d3-b0b2-c55bea47792c\" class=\"colab-df-container\">\n",
              "    <div>\n",
              "<style scoped>\n",
              "    .dataframe tbody tr th:only-of-type {\n",
              "        vertical-align: middle;\n",
              "    }\n",
              "\n",
              "    .dataframe tbody tr th {\n",
              "        vertical-align: top;\n",
              "    }\n",
              "\n",
              "    .dataframe thead th {\n",
              "        text-align: right;\n",
              "    }\n",
              "</style>\n",
              "<table border=\"1\" class=\"dataframe\">\n",
              "  <thead>\n",
              "    <tr style=\"text-align: right;\">\n",
              "      <th></th>\n",
              "      <th>classification</th>\n",
              "      <th>macromoleculeType</th>\n",
              "      <th>residueCount</th>\n",
              "      <th>structureMolecularWeight</th>\n",
              "      <th>crystallizationTempK</th>\n",
              "      <th>densityMatthews</th>\n",
              "      <th>densityPercentSol</th>\n",
              "      <th>sequence</th>\n",
              "      <th>freq_A</th>\n",
              "      <th>freq_C</th>\n",
              "      <th>...</th>\n",
              "      <th>freq_T</th>\n",
              "      <th>freq_V</th>\n",
              "      <th>freq_W</th>\n",
              "      <th>freq_X</th>\n",
              "      <th>freq_Y</th>\n",
              "      <th>aromaticity</th>\n",
              "      <th>isoelectricPoint</th>\n",
              "      <th>helix</th>\n",
              "      <th>turn</th>\n",
              "      <th>sheet</th>\n",
              "    </tr>\n",
              "    <tr>\n",
              "      <th>structureId</th>\n",
              "      <th></th>\n",
              "      <th></th>\n",
              "      <th></th>\n",
              "      <th></th>\n",
              "      <th></th>\n",
              "      <th></th>\n",
              "      <th></th>\n",
              "      <th></th>\n",
              "      <th></th>\n",
              "      <th></th>\n",
              "      <th></th>\n",
              "      <th></th>\n",
              "      <th></th>\n",
              "      <th></th>\n",
              "      <th></th>\n",
              "      <th></th>\n",
              "      <th></th>\n",
              "      <th></th>\n",
              "      <th></th>\n",
              "      <th></th>\n",
              "      <th></th>\n",
              "    </tr>\n",
              "  </thead>\n",
              "  <tbody>\n",
              "    <tr>\n",
              "      <th>1A4S</th>\n",
              "      <td>OXIDOREDUCTASE</td>\n",
              "      <td>Protein</td>\n",
              "      <td>2012</td>\n",
              "      <td>217689.59</td>\n",
              "      <td>287.0</td>\n",
              "      <td>2.43</td>\n",
              "      <td>41.0</td>\n",
              "      <td>AQLVDSMPSASTGSVVVTDDLNYWGGRRIKSKDGATTEPVFEPATG...</td>\n",
              "      <td>0.093439</td>\n",
              "      <td>0.027833</td>\n",
              "      <td>...</td>\n",
              "      <td>0.063618</td>\n",
              "      <td>0.101392</td>\n",
              "      <td>0.00994</td>\n",
              "      <td>0.0</td>\n",
              "      <td>0.025845</td>\n",
              "      <td>0.073559</td>\n",
              "      <td>5.856258</td>\n",
              "      <td>0.298211</td>\n",
              "      <td>0.232604</td>\n",
              "      <td>0.270378</td>\n",
              "    </tr>\n",
              "  </tbody>\n",
              "</table>\n",
              "<p>1 rows × 34 columns</p>\n",
              "</div>\n",
              "    <div class=\"colab-df-buttons\">\n",
              "\n",
              "  <div class=\"colab-df-container\">\n",
              "    <button class=\"colab-df-convert\" onclick=\"convertToInteractive('df-67a6a406-b9bc-46d3-b0b2-c55bea47792c')\"\n",
              "            title=\"Convert this dataframe to an interactive table.\"\n",
              "            style=\"display:none;\">\n",
              "\n",
              "  <svg xmlns=\"http://www.w3.org/2000/svg\" height=\"24px\" viewBox=\"0 -960 960 960\">\n",
              "    <path d=\"M120-120v-720h720v720H120Zm60-500h600v-160H180v160Zm220 220h160v-160H400v160Zm0 220h160v-160H400v160ZM180-400h160v-160H180v160Zm440 0h160v-160H620v160ZM180-180h160v-160H180v160Zm440 0h160v-160H620v160Z\"/>\n",
              "  </svg>\n",
              "    </button>\n",
              "\n",
              "  <style>\n",
              "    .colab-df-container {\n",
              "      display:flex;\n",
              "      gap: 12px;\n",
              "    }\n",
              "\n",
              "    .colab-df-convert {\n",
              "      background-color: #E8F0FE;\n",
              "      border: none;\n",
              "      border-radius: 50%;\n",
              "      cursor: pointer;\n",
              "      display: none;\n",
              "      fill: #1967D2;\n",
              "      height: 32px;\n",
              "      padding: 0 0 0 0;\n",
              "      width: 32px;\n",
              "    }\n",
              "\n",
              "    .colab-df-convert:hover {\n",
              "      background-color: #E2EBFA;\n",
              "      box-shadow: 0px 1px 2px rgba(60, 64, 67, 0.3), 0px 1px 3px 1px rgba(60, 64, 67, 0.15);\n",
              "      fill: #174EA6;\n",
              "    }\n",
              "\n",
              "    .colab-df-buttons div {\n",
              "      margin-bottom: 4px;\n",
              "    }\n",
              "\n",
              "    [theme=dark] .colab-df-convert {\n",
              "      background-color: #3B4455;\n",
              "      fill: #D2E3FC;\n",
              "    }\n",
              "\n",
              "    [theme=dark] .colab-df-convert:hover {\n",
              "      background-color: #434B5C;\n",
              "      box-shadow: 0px 1px 3px 1px rgba(0, 0, 0, 0.15);\n",
              "      filter: drop-shadow(0px 1px 2px rgba(0, 0, 0, 0.3));\n",
              "      fill: #FFFFFF;\n",
              "    }\n",
              "  </style>\n",
              "\n",
              "    <script>\n",
              "      const buttonEl =\n",
              "        document.querySelector('#df-67a6a406-b9bc-46d3-b0b2-c55bea47792c button.colab-df-convert');\n",
              "      buttonEl.style.display =\n",
              "        google.colab.kernel.accessAllowed ? 'block' : 'none';\n",
              "\n",
              "      async function convertToInteractive(key) {\n",
              "        const element = document.querySelector('#df-67a6a406-b9bc-46d3-b0b2-c55bea47792c');\n",
              "        const dataTable =\n",
              "          await google.colab.kernel.invokeFunction('convertToInteractive',\n",
              "                                                    [key], {});\n",
              "        if (!dataTable) return;\n",
              "\n",
              "        const docLinkHtml = 'Like what you see? Visit the ' +\n",
              "          '<a target=\"_blank\" href=https://colab.research.google.com/notebooks/data_table.ipynb>data table notebook</a>'\n",
              "          + ' to learn more about interactive tables.';\n",
              "        element.innerHTML = '';\n",
              "        dataTable['output_type'] = 'display_data';\n",
              "        await google.colab.output.renderOutput(dataTable, element);\n",
              "        const docLink = document.createElement('div');\n",
              "        docLink.innerHTML = docLinkHtml;\n",
              "        element.appendChild(docLink);\n",
              "      }\n",
              "    </script>\n",
              "  </div>\n",
              "\n",
              "\n",
              "<div id=\"df-a68f8e94-080e-4deb-8d56-2a4eee8b49c4\">\n",
              "  <button class=\"colab-df-quickchart\" onclick=\"quickchart('df-a68f8e94-080e-4deb-8d56-2a4eee8b49c4')\"\n",
              "            title=\"Suggest charts.\"\n",
              "            style=\"display:none;\">\n",
              "\n",
              "<svg xmlns=\"http://www.w3.org/2000/svg\" height=\"24px\"viewBox=\"0 0 24 24\"\n",
              "     width=\"24px\">\n",
              "    <g>\n",
              "        <path d=\"M19 3H5c-1.1 0-2 .9-2 2v14c0 1.1.9 2 2 2h14c1.1 0 2-.9 2-2V5c0-1.1-.9-2-2-2zM9 17H7v-7h2v7zm4 0h-2V7h2v10zm4 0h-2v-4h2v4z\"/>\n",
              "    </g>\n",
              "</svg>\n",
              "  </button>\n",
              "\n",
              "<style>\n",
              "  .colab-df-quickchart {\n",
              "    background-color: #E8F0FE;\n",
              "    border: none;\n",
              "    border-radius: 50%;\n",
              "    cursor: pointer;\n",
              "    display: none;\n",
              "    fill: #1967D2;\n",
              "    height: 32px;\n",
              "    padding: 0 0 0 0;\n",
              "    width: 32px;\n",
              "  }\n",
              "\n",
              "  .colab-df-quickchart:hover {\n",
              "    background-color: #E2EBFA;\n",
              "    box-shadow: 0px 1px 2px rgba(60, 64, 67, 0.3), 0px 1px 3px 1px rgba(60, 64, 67, 0.15);\n",
              "    fill: #174EA6;\n",
              "  }\n",
              "\n",
              "  [theme=dark] .colab-df-quickchart {\n",
              "    background-color: #3B4455;\n",
              "    fill: #D2E3FC;\n",
              "  }\n",
              "\n",
              "  [theme=dark] .colab-df-quickchart:hover {\n",
              "    background-color: #434B5C;\n",
              "    box-shadow: 0px 1px 3px 1px rgba(0, 0, 0, 0.15);\n",
              "    filter: drop-shadow(0px 1px 2px rgba(0, 0, 0, 0.3));\n",
              "    fill: #FFFFFF;\n",
              "  }\n",
              "</style>\n",
              "\n",
              "  <script>\n",
              "    async function quickchart(key) {\n",
              "      const charts = await google.colab.kernel.invokeFunction(\n",
              "          'suggestCharts', [key], {});\n",
              "    }\n",
              "    (() => {\n",
              "      let quickchartButtonEl =\n",
              "        document.querySelector('#df-a68f8e94-080e-4deb-8d56-2a4eee8b49c4 button');\n",
              "      quickchartButtonEl.style.display =\n",
              "        google.colab.kernel.accessAllowed ? 'block' : 'none';\n",
              "    })();\n",
              "  </script>\n",
              "</div>\n",
              "    </div>\n",
              "  </div>\n"
            ]
          },
          "metadata": {},
          "execution_count": 184
        }
      ]
    },
    {
      "cell_type": "markdown",
      "source": [
        "**Preparazione dei dati**\n",
        "* Otteniamo dal dataset etichette e features.\n",
        "* Dividiamo i dati in train set e validation set"
      ],
      "metadata": {
        "id": "axi2fCSEBwtA"
      }
    },
    {
      "cell_type": "code",
      "source": [
        "X_seq = data_seq.drop(columns=[\"classification\", \"sequence\"])\n",
        "y_seq = data_seq[\"classification\"]"
      ],
      "metadata": {
        "id": "O9c6cuHOa7fx"
      },
      "execution_count": 185,
      "outputs": []
    },
    {
      "cell_type": "code",
      "source": [
        "X_seq_train, X_seq_val, y_seq_train, y_seq_val = train_test_split(\n",
        "    X_seq, y_seq,\n",
        "    test_size=1/3,\n",
        "    random_state=42\n",
        ")"
      ],
      "metadata": {
        "id": "0342vN4hbk_N"
      },
      "execution_count": 186,
      "outputs": []
    },
    {
      "cell_type": "markdown",
      "source": [
        "* Aggiorniamo la lista delle colonne numeriche"
      ],
      "metadata": {
        "id": "JF2TzqaUCpV_"
      }
    },
    {
      "cell_type": "code",
      "source": [
        "num_cols=[\"residueCount\", \"structureMolecularWeight\", \"crystallizationTempK\", \"densityMatthews\", \"densityPercentSol\", *[f\"freq_{a}\" for a in amms], \"aromaticity\", \"isoelectricPoint\", \"helix\", \"turn\", \"sheet\"]"
      ],
      "metadata": {
        "id": "7t5qBGmRCYx3"
      },
      "execution_count": 187,
      "outputs": []
    },
    {
      "cell_type": "markdown",
      "source": [
        "* Testiamo gli stessi modelli già considerati"
      ],
      "metadata": {
        "id": "SDTRlkglCueg"
      }
    },
    {
      "cell_type": "markdown",
      "source": [
        "* ```DecisionTreeClassifier```\n",
        "\n"
      ],
      "metadata": {
        "id": "A6Iu4yIME_ib"
      }
    },
    {
      "cell_type": "code",
      "source": [
        "model = buildModel(DecisionTreeClassifier())\n",
        "\n",
        "grid_decision_tree = {\n",
        "    'class__criterion': ['gini', 'entropy', 'log_loss'],\n",
        "    \"class__splitter\":['random','best'],\n",
        "    'class__max_depth':[8,16,32],\n",
        "    'class__max_features': ['sqrt', 'log2']\n",
        "}\n",
        "\n",
        "gs = GridSearchCV(model, grid_decision_tree, cv=skf, scoring=\"accuracy\")\n",
        "gs.fit(X_seq_train, y_seq_train)\n",
        "\n",
        "dt_seq_model = gs.best_estimator_\n",
        "gs.best_params_"
      ],
      "metadata": {
        "id": "J0dm5L7-bcW2",
        "colab": {
          "base_uri": "https://localhost:8080/"
        },
        "outputId": "349625c6-a8b2-42d1-fb35-606481ef3614"
      },
      "execution_count": 188,
      "outputs": [
        {
          "output_type": "execute_result",
          "data": {
            "text/plain": [
              "{'class__criterion': 'log_loss',\n",
              " 'class__max_depth': 32,\n",
              " 'class__max_features': 'sqrt',\n",
              " 'class__splitter': 'best'}"
            ]
          },
          "metadata": {},
          "execution_count": 188
        }
      ]
    },
    {
      "cell_type": "code",
      "source": [
        "dt_seq_model.fit(X_seq_train, y_seq_train)\n",
        "p, r = precision_score(y_seq_val, dt_seq_model.predict(X_seq_val), average='macro'), recall_score(y_seq_val, dt_seq_model.predict(X_seq_val), average='macro')\n",
        "scores.append(p)\n",
        "p, r"
      ],
      "metadata": {
        "colab": {
          "base_uri": "https://localhost:8080/"
        },
        "id": "TrjQLQaPClr5",
        "outputId": "05b25d87-9cb6-42ef-cb59-16e26a2d364c"
      },
      "execution_count": 189,
      "outputs": [
        {
          "output_type": "execute_result",
          "data": {
            "text/plain": [
              "(0.7830163289415779, 0.7798787271620602)"
            ]
          },
          "metadata": {},
          "execution_count": 189
        }
      ]
    },
    {
      "cell_type": "markdown",
      "source": [
        "* ```XGBClassifier```"
      ],
      "metadata": {
        "id": "K1WX5NgkFPC9"
      }
    },
    {
      "cell_type": "code",
      "source": [
        "model = buildModel(XGBClassifier(\n",
        "    n_estimators=100,\n",
        "    objective=\"multi:softmax\",\n",
        "    learning_rate=0.01,\n",
        "    colsample_bytree=0.2,\n",
        "    eval_metric=\"mlogloss\",\n",
        "    tree_method='gpu_hist',\n",
        "    predictor='gpu_predictor',\n",
        "    gamma=1,\n",
        "    subsample=0.8,\n",
        "    max_depth = 20\n",
        "))\n",
        "\n",
        "grid_xgb = {\n",
        "    \"class__gamma\": [0.5, 1, 1.5],\n",
        "    \"class__subsample\": [0.4, 0.6, 0.8],\n",
        "}\n",
        "gs = GridSearchCV(model, grid_xgb, cv=skf, scoring=\"accuracy\")\n",
        "\n",
        "\n",
        "gs.fit(X_seq_train, encode_y(y_seq_train))\n",
        "\n",
        "xgb_seq_model = gs.best_estimator_\n",
        "gs.best_params_"
      ],
      "metadata": {
        "colab": {
          "base_uri": "https://localhost:8080/"
        },
        "id": "q_04aZ65EstI",
        "outputId": "927e7a56-41e9-44eb-c7e7-81d0d4298a6a"
      },
      "execution_count": 190,
      "outputs": [
        {
          "output_type": "execute_result",
          "data": {
            "text/plain": [
              "{'class__gamma': 0.5, 'class__subsample': 0.8}"
            ]
          },
          "metadata": {},
          "execution_count": 190
        }
      ]
    },
    {
      "cell_type": "code",
      "source": [
        "xgb_seq_model.fit(X_seq_train, encode_y(y_seq_train))\n",
        "p, r = precision_score(encode_y(y_seq_val), xgb_seq_model.predict(X_seq_val), average='macro'), recall_score(encode_y(y_seq_val), xgb_seq_model.predict(X_seq_val), average='macro')\n",
        "scores.append(p)\n",
        "p, r"
      ],
      "metadata": {
        "colab": {
          "base_uri": "https://localhost:8080/"
        },
        "id": "tTG57F_XEs9u",
        "outputId": "0f9a7526-d5b6-4bc7-c3e1-a276fc33e8ba"
      },
      "execution_count": 191,
      "outputs": [
        {
          "output_type": "execute_result",
          "data": {
            "text/plain": [
              "(0.8975074703874769, 0.792901891046354)"
            ]
          },
          "metadata": {},
          "execution_count": 191
        }
      ]
    },
    {
      "cell_type": "markdown",
      "source": [
        "## Analisi dei risultati"
      ],
      "metadata": {
        "id": "zvKGSaoEFUyY"
      }
    },
    {
      "cell_type": "markdown",
      "source": [
        "* Confrontiamo in un grafico i risultati ottenuti con i due diversi dataset"
      ],
      "metadata": {
        "id": "2Z2lLwyEKz3R"
      }
    },
    {
      "cell_type": "code",
      "source": [
        "c = [\"orange\", \"teal\", \"red\", \"blue\"]\n",
        "plt.figure(figsize=(10,5))\n",
        "plt.bar([f\"{m}_{i}\" for i in [\"no_seq\",\"seq\"] for m in [\"dt\", \"xgb\"] ],scores, color=c)"
      ],
      "metadata": {
        "id": "8ErZwfBdyoLH",
        "colab": {
          "base_uri": "https://localhost:8080/",
          "height": 462
        },
        "outputId": "b6f262eb-6861-4451-b91e-e97df3aa1eca"
      },
      "execution_count": 192,
      "outputs": [
        {
          "output_type": "execute_result",
          "data": {
            "text/plain": [
              "<BarContainer object of 4 artists>"
            ]
          },
          "metadata": {},
          "execution_count": 192
        },
        {
          "output_type": "display_data",
          "data": {
            "text/plain": [
              "<Figure size 1000x500 with 1 Axes>"
            ],
            "image/png": "[encoded data removed]"
          },
          "metadata": {}
        }
      ]
    },
    {
      "cell_type": "markdown",
      "source": [
        "* Analizziamo l'importanza di ciascuna feature, considerando il dataset contenente la sequenza e il modello che ha ottenuto il punteggio migliore."
      ],
      "metadata": {
        "id": "Ht65i2RFNmhx"
      }
    },
    {
      "cell_type": "code",
      "source": [
        "xgb_seq_model.named_steps[\"class\"].feature_importances_"
      ],
      "metadata": {
        "colab": {
          "base_uri": "https://localhost:8080/"
        },
        "id": "CY483xW4tVii",
        "outputId": "533f1513-408e-4e02-c49e-177e507d1dc5"
      },
      "execution_count": 193,
      "outputs": [
        {
          "output_type": "execute_result",
          "data": {
            "text/plain": [
              "array([0.02872855, 0.02762738, 0.01843041, 0.01874978, 0.0186138 ,\n",
              "       0.02959302, 0.03565611, 0.02781372, 0.03330971, 0.02693922,\n",
              "       0.03028884, 0.02531593, 0.02924377, 0.02834032, 0.03120296,\n",
              "       0.02765499, 0.03244499, 0.02958786, 0.02711901, 0.0285547 ,\n",
              "       0.0388724 , 0.03028297, 0.02671082, 0.03190553, 0.03383037,\n",
              "       0.02994771, 0.02833843, 0.02760422, 0.03223315, 0.03810939,\n",
              "       0.0369745 , 0.02521384, 0.03131993, 0.03344166], dtype=float32)"
            ]
          },
          "metadata": {},
          "execution_count": 193
        }
      ]
    },
    {
      "cell_type": "code",
      "source": [
        "from sklearn.inspection import permutation_importance\n",
        "\n",
        "results = permutation_importance(dt_seq_model, X_seq_train, y_seq_train, n_repeats=10, random_state=42)\n",
        "importances = results.importances_mean\n",
        "pd.Series(importances, index=X_seq.columns).sort_values(ascending=False)"
      ],
      "metadata": {
        "colab": {
          "base_uri": "https://localhost:8080/"
        },
        "id": "8Ds6LaZQ1JV6",
        "outputId": "4fb5a16f-5413-4a0e-981f-03cd5e616cca"
      },
      "execution_count": 194,
      "outputs": [
        {
          "output_type": "execute_result",
          "data": {
            "text/plain": [
              "sheet                       0.337795\n",
              "freq_A                      0.309116\n",
              "turn                        0.205753\n",
              "helix                       0.188758\n",
              "isoelectricPoint            0.164102\n",
              "freq_C                      0.154629\n",
              "freq_P                      0.141265\n",
              "freq_T                      0.135587\n",
              "freq_I                      0.128019\n",
              "freq_W                      0.125209\n",
              "aromaticity                 0.110357\n",
              "freq_D                      0.110261\n",
              "freq_R                      0.110243\n",
              "freq_G                      0.107650\n",
              "residueCount                0.106402\n",
              "freq_N                      0.101694\n",
              "freq_Q                      0.098195\n",
              "freq_Y                      0.082552\n",
              "freq_F                      0.082049\n",
              "freq_E                      0.080708\n",
              "freq_S                      0.079991\n",
              "freq_L                      0.077331\n",
              "freq_V                      0.067212\n",
              "freq_H                      0.062376\n",
              "freq_K                      0.054925\n",
              "freq_M                      0.052090\n",
              "structureMolecularWeight    0.038772\n",
              "densityMatthews             0.037963\n",
              "densityPercentSol           0.021150\n",
              "crystallizationTempK        0.018468\n",
              "freq_X                      0.000182\n",
              "macromoleculeType           0.000000\n",
              "dtype: float64"
            ]
          },
          "metadata": {},
          "execution_count": 194
        }
      ]
    },
    {
      "cell_type": "markdown",
      "source": [
        "* Possiamo notare che le feature che vengono considerate meno sono due:\n",
        "  1. ```macromoleculeType```: avevamo già notato che la grande sproporzione dei dati avrebbe potuto rendere inefficace l'utilizzo di questa informazione\n",
        "  2. ```freq_X```: infatti X non è un vero amminoacido, serve solo a segnalare che non è sicuro quale amminoacido si trovi in quella posizione nella sequenza.\n",
        "\n",
        "* Le feature ottenute dalla sequenza sono risultate molto utili alla classificazione, soprattutto ```sheet```, ```turn``` e ```helix```. Infatti la struttura secondaria (definita appunto da queste caratteristiche) è fondamentale nel determinare la funzione delle proteine.\n"
      ],
      "metadata": {
        "id": "pZfBkDc1Nwig"
      }
    },
    {
      "cell_type": "markdown",
      "source": [
        "## Conclusioni\n",
        "\n",
        "Tramite un semplice modello di classificazione Decision Tree, siamo stati in grado di classificare con una buona precisione le proteine all'interno di 5 categorie funzionali:\n",
        "* IMMUNE SYSTEM\n",
        "* LYASE\n",
        "* OXIDOREDUCTASE\n",
        "* TRANSFERASE\n",
        "* HYDROLASE\n",
        "\n",
        "In particolare abbiamo potuto cogliere l'intima correlazione esistente tra la sequenza di amminoacidi e la funzione di una proteina. Infatti, i modelli visti sono stati in grado di selezionare come più importanti le feature relative alla sequenza e alla struttura secondaria delle proteine rispetto a caratteristiche più generiche.\n",
        "\n"
      ],
      "metadata": {
        "id": "p-IYf1mTWU14"
      }
    }
  ]
}