{
  "nbformat": 4,
  "nbformat_minor": 0,
  "metadata": {
    "colab": {
      "provenance": [],
      "gpuType": "T4"
    },
    "kernelspec": {
      "name": "python3",
      "display_name": "Python 3"
    },
    "language_info": {
      "name": "python"
    },
    "accelerator": "GPU"
  },
  "cells": [
    {
      "cell_type": "markdown",
      "source": [
        "# Classificazione funzionale delle proteine\n",
        "\n",
        "* Questo progetto si pone l'obiettivo di trovare un modello di machine learning in grado di classificare la funzione di una proteina date informazioni ottenute dall'analisi.\n",
        "* La sequenza di amminoacidi che compongono la proteina verrà considerata solo in un secondo momento. In questo modo possiamo chiaramente notare l'importanza delle feature estratte dalla composizione della proteina."
      ],
      "metadata": {
        "id": "dqxpeAFA2Eik"
      }
    },
    {
      "cell_type": "markdown",
      "source": [
        "Dataset preso da Kaggle: https://www.kaggle.com/datasets/shahir/protein-data-set"
      ],
      "metadata": {
        "id": "_geZppYfatp3"
      }
    },
    {
      "cell_type": "markdown",
      "source": [
        "Importiamo le prime librerie"
      ],
      "metadata": {
        "id": "rreQ0j583yv7"
      }
    },
    {
      "cell_type": "code",
      "source": [
        "%matplotlib inline\n",
        "import numpy as np\n",
        "import pandas as pd\n",
        "import matplotlib.pyplot as plt\n",
        "import sklearn"
      ],
      "metadata": {
        "id": "hMFgDAeNovM6"
      },
      "execution_count": null,
      "outputs": []
    },
    {
      "cell_type": "markdown",
      "source": [
        "Utilizziamo una lista per mantenere i punteggi ottenuti dai diversi modelli con lo scopo di effettuare un'analisi finale"
      ],
      "metadata": {
        "id": "0Pu7gh8a38Ai"
      }
    },
    {
      "cell_type": "code",
      "source": [
        "scores = []"
      ],
      "metadata": {
        "id": "qq_i-whowNag"
      },
      "execution_count": null,
      "outputs": []
    },
    {
      "cell_type": "markdown",
      "source": [
        "## Dataset senza sequenza"
      ],
      "metadata": {
        "id": "zbwPbSV7cvMa"
      }
    },
    {
      "cell_type": "markdown",
      "source": [
        "Carichiamo nel DataFrame ```data``` il primo dataset, nel quale non è presenta la sequenza di amminoacidi che descrive la proteina.\n",
        "\n"
      ],
      "metadata": {
        "id": "BcNfHGKK4H2I"
      }
    },
    {
      "cell_type": "code",
      "execution_count": null,
      "metadata": {
        "colab": {
          "base_uri": "https://localhost:8080/",
          "height": 245
        },
        "id": "kDHcwpp1oQ7s",
        "outputId": "11bd0dc2-d035-4067-b78d-2bafa7866869"
      },
      "outputs": [
        {
          "output_type": "execute_result",
          "data": {
            "text/plain": [
              "             classification experimentalTechnique macromoleculeType  \\\n",
              "structureId                                                           \n",
              "100D         DNA-RNA HYBRID     X-RAY DIFFRACTION    DNA/RNA Hybrid   \n",
              "\n",
              "             residueCount  resolution  structureMolecularWeight  \\\n",
              "structureId                                                       \n",
              "100D                   20         1.9                    6360.3   \n",
              "\n",
              "                     crystallizationMethod  crystallizationTempK  \\\n",
              "structureId                                                        \n",
              "100D         VAPOR DIFFUSION, HANGING DROP                   NaN   \n",
              "\n",
              "             densityMatthews  densityPercentSol  \\\n",
              "structureId                                       \n",
              "100D                    1.78              30.89   \n",
              "\n",
              "                                        pdbxDetails  phValue  publicationYear  \n",
              "structureId                                                                    \n",
              "100D         pH 7.00, VAPOR DIFFUSION, HANGING DROP      7.0           1994.0  "
            ],
            "text/html": [
              "\n",
              "  <div id=\"df-7fc43ae0-6a61-43f9-bf21-0127c9fdbdde\">\n",
              "    <div class=\"colab-df-container\">\n",
              "      <div>\n",
              "<style scoped>\n",
              "    .dataframe tbody tr th:only-of-type {\n",
              "        vertical-align: middle;\n",
              "    }\n",
              "\n",
              "    .dataframe tbody tr th {\n",
              "        vertical-align: top;\n",
              "    }\n",
              "\n",
              "    .dataframe thead th {\n",
              "        text-align: right;\n",
              "    }\n",
              "</style>\n",
              "<table border=\"1\" class=\"dataframe\">\n",
              "  <thead>\n",
              "    <tr style=\"text-align: right;\">\n",
              "      <th></th>\n",
              "      <th>classification</th>\n",
              "      <th>experimentalTechnique</th>\n",
              "      <th>macromoleculeType</th>\n",
              "      <th>residueCount</th>\n",
              "      <th>resolution</th>\n",
              "      <th>structureMolecularWeight</th>\n",
              "      <th>crystallizationMethod</th>\n",
              "      <th>crystallizationTempK</th>\n",
              "      <th>densityMatthews</th>\n",
              "      <th>densityPercentSol</th>\n",
              "      <th>pdbxDetails</th>\n",
              "      <th>phValue</th>\n",
              "      <th>publicationYear</th>\n",
              "    </tr>\n",
              "    <tr>\n",
              "      <th>structureId</th>\n",
              "      <th></th>\n",
              "      <th></th>\n",
              "      <th></th>\n",
              "      <th></th>\n",
              "      <th></th>\n",
              "      <th></th>\n",
              "      <th></th>\n",
              "      <th></th>\n",
              "      <th></th>\n",
              "      <th></th>\n",
              "      <th></th>\n",
              "      <th></th>\n",
              "      <th></th>\n",
              "    </tr>\n",
              "  </thead>\n",
              "  <tbody>\n",
              "    <tr>\n",
              "      <th>100D</th>\n",
              "      <td>DNA-RNA HYBRID</td>\n",
              "      <td>X-RAY DIFFRACTION</td>\n",
              "      <td>DNA/RNA Hybrid</td>\n",
              "      <td>20</td>\n",
              "      <td>1.9</td>\n",
              "      <td>6360.3</td>\n",
              "      <td>VAPOR DIFFUSION, HANGING DROP</td>\n",
              "      <td>NaN</td>\n",
              "      <td>1.78</td>\n",
              "      <td>30.89</td>\n",
              "      <td>pH 7.00, VAPOR DIFFUSION, HANGING DROP</td>\n",
              "      <td>7.0</td>\n",
              "      <td>1994.0</td>\n",
              "    </tr>\n",
              "  </tbody>\n",
              "</table>\n",
              "</div>\n",
              "      <button class=\"colab-df-convert\" onclick=\"convertToInteractive('df-7fc43ae0-6a61-43f9-bf21-0127c9fdbdde')\"\n",
              "              title=\"Convert this dataframe to an interactive table.\"\n",
              "              style=\"display:none;\">\n",
              "        \n",
              "  <svg xmlns=\"http://www.w3.org/2000/svg\" height=\"24px\"viewBox=\"0 0 24 24\"\n",
              "       width=\"24px\">\n",
              "    <path d=\"M0 0h24v24H0V0z\" fill=\"none\"/>\n",
              "    <path d=\"M18.56 5.44l.94 2.06.94-2.06 2.06-.94-2.06-.94-.94-2.06-.94 2.06-2.06.94zm-11 1L8.5 8.5l.94-2.06 2.06-.94-2.06-.94L8.5 2.5l-.94 2.06-2.06.94zm10 10l.94 2.06.94-2.06 2.06-.94-2.06-.94-.94-2.06-.94 2.06-2.06.94z\"/><path d=\"M17.41 7.96l-1.37-1.37c-.4-.4-.92-.59-1.43-.59-.52 0-1.04.2-1.43.59L10.3 9.45l-7.72 7.72c-.78.78-.78 2.05 0 2.83L4 21.41c.39.39.9.59 1.41.59.51 0 1.02-.2 1.41-.59l7.78-7.78 2.81-2.81c.8-.78.8-2.07 0-2.86zM5.41 20L4 18.59l7.72-7.72 1.47 1.35L5.41 20z\"/>\n",
              "  </svg>\n",
              "      </button>\n",
              "      \n",
              "  <style>\n",
              "    .colab-df-container {\n",
              "      display:flex;\n",
              "      flex-wrap:wrap;\n",
              "      gap: 12px;\n",
              "    }\n",
              "\n",
              "    .colab-df-convert {\n",
              "      background-color: #E8F0FE;\n",
              "      border: none;\n",
              "      border-radius: 50%;\n",
              "      cursor: pointer;\n",
              "      display: none;\n",
              "      fill: #1967D2;\n",
              "      height: 32px;\n",
              "      padding: 0 0 0 0;\n",
              "      width: 32px;\n",
              "    }\n",
              "\n",
              "    .colab-df-convert:hover {\n",
              "      background-color: #E2EBFA;\n",
              "      box-shadow: 0px 1px 2px rgba(60, 64, 67, 0.3), 0px 1px 3px 1px rgba(60, 64, 67, 0.15);\n",
              "      fill: #174EA6;\n",
              "    }\n",
              "\n",
              "    [theme=dark] .colab-df-convert {\n",
              "      background-color: #3B4455;\n",
              "      fill: #D2E3FC;\n",
              "    }\n",
              "\n",
              "    [theme=dark] .colab-df-convert:hover {\n",
              "      background-color: #434B5C;\n",
              "      box-shadow: 0px 1px 3px 1px rgba(0, 0, 0, 0.15);\n",
              "      filter: drop-shadow(0px 1px 2px rgba(0, 0, 0, 0.3));\n",
              "      fill: #FFFFFF;\n",
              "    }\n",
              "  </style>\n",
              "\n",
              "      <script>\n",
              "        const buttonEl =\n",
              "          document.querySelector('#df-7fc43ae0-6a61-43f9-bf21-0127c9fdbdde button.colab-df-convert');\n",
              "        buttonEl.style.display =\n",
              "          google.colab.kernel.accessAllowed ? 'block' : 'none';\n",
              "\n",
              "        async function convertToInteractive(key) {\n",
              "          const element = document.querySelector('#df-7fc43ae0-6a61-43f9-bf21-0127c9fdbdde');\n",
              "          const dataTable =\n",
              "            await google.colab.kernel.invokeFunction('convertToInteractive',\n",
              "                                                     [key], {});\n",
              "          if (!dataTable) return;\n",
              "\n",
              "          const docLinkHtml = 'Like what you see? Visit the ' +\n",
              "            '<a target=\"_blank\" href=https://colab.research.google.com/notebooks/data_table.ipynb>data table notebook</a>'\n",
              "            + ' to learn more about interactive tables.';\n",
              "          element.innerHTML = '';\n",
              "          dataTable['output_type'] = 'display_data';\n",
              "          await google.colab.output.renderOutput(dataTable, element);\n",
              "          const docLink = document.createElement('div');\n",
              "          docLink.innerHTML = docLinkHtml;\n",
              "          element.appendChild(docLink);\n",
              "        }\n",
              "      </script>\n",
              "    </div>\n",
              "  </div>\n",
              "  "
            ]
          },
          "metadata": {},
          "execution_count": 204
        }
      ],
      "source": [
        "data = pd.read_csv(\"pdb_data_no_dups.csv\", index_col=\"structureId\")\n",
        "data.head(1)"
      ]
    },
    {
      "cell_type": "markdown",
      "source": [
        "* Eliminiamo dal dataset le feature meno interessanti, come l'anno di pubblicazione della ricerca e il metodo di cristallizzazione.\n",
        "* Rimuoviamo dal dataset le righe con indice duplicato"
      ],
      "metadata": {
        "id": "mZipglc3eFOO"
      }
    },
    {
      "cell_type": "code",
      "source": [
        "data.drop(columns= [\"experimentalTechnique\", \"publicationYear\", \"pdbxDetails\", \"crystallizationMethod\", \"resolution\", \"phValue\"], inplace = True)\n",
        "\n",
        "data = data[~data.index.isin(data[data.index.duplicated()].index)]"
      ],
      "metadata": {
        "id": "939X3E3_Kh-S"
      },
      "execution_count": null,
      "outputs": []
    },
    {
      "cell_type": "markdown",
      "source": [
        "* Analizziamo le feature rimanenti:\n",
        "  1. ```macromoleculeType``` : tipo di macromolecola a cui la proteina appartiene. Le proteine possono essere classificate in diversi tipi come enzimi, recettori, anticorpi o proteine strutturali.  \n",
        "  2. ```residueCount```: numero di amminoacidi che compongono la proteina\n",
        "  3. ```structureMolecularWeight```: peso molecolare della struttura proteica.\n",
        "  4. ```crystallizationTempK```: temperatura a cui il campione proteico viene cristallizzato durante il processo sperimentale.\n",
        "  5. ```densityMatthews```: misura della densità di impacchettamento delle molecole all'interno di una rete cristallina.\n",
        "  6. ```densityPercentSol```: un'altra misura della densità di impacchettamento in una rete cristallina.\n",
        "\n"
      ],
      "metadata": {
        "id": "AlvXKfhDY_hx"
      }
    },
    {
      "cell_type": "markdown",
      "source": [
        "* Possiamo notare che questo dataset contiene numerosi valori nulli.\n",
        "  "
      ],
      "metadata": {
        "id": "ByAFOQLT4eqU"
      }
    },
    {
      "cell_type": "code",
      "source": [
        "data.shape[0] - data.count()"
      ],
      "metadata": {
        "colab": {
          "base_uri": "https://localhost:8080/"
        },
        "id": "DHIhnNWvc8li",
        "outputId": "f2450fde-4af2-41d3-8204-47eae6c31a45"
      },
      "execution_count": null,
      "outputs": [
        {
          "output_type": "execute_result",
          "data": {
            "text/plain": [
              "classification                  2\n",
              "macromoleculeType            3694\n",
              "residueCount                    0\n",
              "structureMolecularWeight        0\n",
              "crystallizationTempK        44231\n",
              "densityMatthews             16237\n",
              "densityPercentSol           16212\n",
              "dtype: int64"
            ]
          },
          "metadata": {},
          "execution_count": 206
        }
      ]
    },
    {
      "cell_type": "markdown",
      "source": [
        "* Dato che abbiamo a disposizione molti dati, eliminiamo le righe contenenti valori mancanti."
      ],
      "metadata": {
        "id": "f5Jkucsj5wfQ"
      }
    },
    {
      "cell_type": "code",
      "source": [
        "data.drop(data[data[\"classification\"].isna()].index, inplace=True)\n",
        "data.drop(data[data[\"macromoleculeType\"].isna()].index, inplace=True)\n",
        "data.drop(data[data[\"crystallizationTempK\"].isna()].index, inplace=True)\n",
        "data.drop(data[data[\"densityMatthews\"].isna()].index, inplace=True)\n",
        "data.drop(data[data[\"densityPercentSol\"].isna()].index, inplace=True)\n",
        "\n",
        "data.shape[0] - data.count()"
      ],
      "metadata": {
        "colab": {
          "base_uri": "https://localhost:8080/"
        },
        "id": "Oh_FXzqIK33N",
        "outputId": "b9fca29c-0ec5-40d4-fb21-d477758c1196"
      },
      "execution_count": null,
      "outputs": [
        {
          "output_type": "execute_result",
          "data": {
            "text/plain": [
              "classification              0\n",
              "macromoleculeType           0\n",
              "residueCount                0\n",
              "structureMolecularWeight    0\n",
              "crystallizationTempK        0\n",
              "densityMatthews             0\n",
              "densityPercentSol           0\n",
              "dtype: int64"
            ]
          },
          "metadata": {},
          "execution_count": 207
        }
      ]
    },
    {
      "cell_type": "markdown",
      "source": [
        "**Analisi dei dati**\n",
        "* Visualizziamo in un grafico a barre la distribuzione delle classi nel dataset"
      ],
      "metadata": {
        "id": "N5wk7dWVhv0e"
      }
    },
    {
      "cell_type": "code",
      "source": [
        "data.groupby(\"classification\").size().sort_values()[-20:].plot.bar()"
      ],
      "metadata": {
        "colab": {
          "base_uri": "https://localhost:8080/",
          "height": 784
        },
        "id": "DUmOsMNBJa-Z",
        "outputId": "12796314-373f-4c99-f334-9c3d68f74c4f"
      },
      "execution_count": null,
      "outputs": [
        {
          "output_type": "execute_result",
          "data": {
            "text/plain": [
              "<Axes: xlabel='classification'>"
            ]
          },
          "metadata": {},
          "execution_count": 208
        },
        {
          "output_type": "display_data",
          "data": {
            "text/plain": [
              "<Figure size 640x480 with 1 Axes>"
            ],
            "image/png": "[encoded data removed]"
          },
          "metadata": {}
        }
      ]
    },
    {
      "cell_type": "markdown",
      "source": [
        "*   Dato che la distribuzione è molto sbilanciata, decido di mantenere solo le 5 classi più numerose\n",
        "\n"
      ],
      "metadata": {
        "id": "Ca4XRUlDkhNZ"
      }
    },
    {
      "cell_type": "code",
      "source": [
        "classes = data.groupby(\"classification\").size().sort_values()[-5:].index\n",
        "classes"
      ],
      "metadata": {
        "colab": {
          "base_uri": "https://localhost:8080/"
        },
        "id": "60xWkkcK6dCk",
        "outputId": "160d0124-76db-43f1-c1cb-70944da6a43a"
      },
      "execution_count": null,
      "outputs": [
        {
          "output_type": "execute_result",
          "data": {
            "text/plain": [
              "Index(['IMMUNE SYSTEM', 'LYASE', 'OXIDOREDUCTASE', 'TRANSFERASE', 'HYDROLASE'], dtype='object', name='classification')"
            ]
          },
          "metadata": {},
          "execution_count": 209
        }
      ]
    },
    {
      "cell_type": "markdown",
      "source": [
        "* Analizziamo la colonna categorica ```macromoleculeType```, che descrive a quale tipo di macromolecola la proteina appartiene."
      ],
      "metadata": {
        "id": "9c2nehB9OLiE"
      }
    },
    {
      "cell_type": "code",
      "source": [
        "data.groupby(\"macromoleculeType\").size().sort_values(ascending=False)[:5].plot.pie()"
      ],
      "metadata": {
        "colab": {
          "base_uri": "https://localhost:8080/",
          "height": 423
        },
        "id": "Xibt9MpUPqbw",
        "outputId": "c19340ee-92c8-41f1-855c-e03001f05a9e"
      },
      "execution_count": null,
      "outputs": [
        {
          "output_type": "execute_result",
          "data": {
            "text/plain": [
              "<Axes: >"
            ]
          },
          "metadata": {},
          "execution_count": 210
        },
        {
          "output_type": "display_data",
          "data": {
            "text/plain": [
              "<Figure size 640x480 with 1 Axes>"
            ],
            "image/png": "[encoded data removed]"
          },
          "metadata": {}
        }
      ]
    },
    {
      "cell_type": "markdown",
      "source": [
        "* Notiamo che è presente un grande sbilanciamento sul tipo \"Protein\". Questo potrebbe rendere inefficace l'utilizzo di questa feature.\n",
        "* Per ora, comunque, la teniamo in considerazione.\n",
        "* Però manteniamo solo le righe che hanno come valore di questa feature uno dei tre valori più numerosi."
      ],
      "metadata": {
        "id": "HQT0lyZGO9wK"
      }
    },
    {
      "cell_type": "code",
      "source": [
        "macromolecules = data.groupby(\"macromoleculeType\").size().sort_values()[-3:].index"
      ],
      "metadata": {
        "id": "e7BvQAj1BCwN"
      },
      "execution_count": null,
      "outputs": []
    },
    {
      "cell_type": "code",
      "source": [
        "data = data[data[\"classification\"].isin(classes)]\n",
        "data = data[data[\"macromoleculeType\"].isin(macromolecules)]\n",
        "data.shape[0]"
      ],
      "metadata": {
        "id": "efAu61CZqNDv",
        "colab": {
          "base_uri": "https://localhost:8080/"
        },
        "outputId": "4069489e-4b6d-4f14-a24b-853f3de7449d"
      },
      "execution_count": null,
      "outputs": [
        {
          "output_type": "execute_result",
          "data": {
            "text/plain": [
              "42058"
            ]
          },
          "metadata": {},
          "execution_count": 212
        }
      ]
    },
    {
      "cell_type": "markdown",
      "source": [
        "Il dataset così ristretto contiene oltre 42.000 entries."
      ],
      "metadata": {
        "id": "fG15eBuK6zCc"
      }
    },
    {
      "cell_type": "markdown",
      "source": [
        "**Preparazione dei dati**"
      ],
      "metadata": {
        "id": "MWzOtb-knNjv"
      }
    },
    {
      "cell_type": "markdown",
      "source": [
        "Prepariamo i dati per l'addestramento dei modelli."
      ],
      "metadata": {
        "id": "HhrdNFE97Zge"
      }
    },
    {
      "cell_type": "code",
      "source": [
        "X = data.drop(columns=[\"classification\"])\n",
        "y = data[\"classification\"]"
      ],
      "metadata": {
        "id": "hCA4xpOQMkdr"
      },
      "execution_count": null,
      "outputs": []
    },
    {
      "cell_type": "code",
      "source": [
        "X.head()"
      ],
      "metadata": {
        "colab": {
          "base_uri": "https://localhost:8080/",
          "height": 237
        },
        "id": "5fk4KMipvckb",
        "outputId": "95b5bddf-153b-4c12-d766-868c7980e5e7"
      },
      "execution_count": null,
      "outputs": [
        {
          "output_type": "execute_result",
          "data": {
            "text/plain": [
              "            macromoleculeType  residueCount  structureMolecularWeight  \\\n",
              "structureId                                                             \n",
              "1A4S                  Protein          2012                 217689.59   \n",
              "1A6Q                  Protein           382                  42707.55   \n",
              "1A72                  Protein           374                  40658.50   \n",
              "1AFK                  Protein           248                  28431.01   \n",
              "1AFL                  Protein           248                  28815.26   \n",
              "\n",
              "             crystallizationTempK  densityMatthews  densityPercentSol  \n",
              "structureId                                                            \n",
              "1A4S                        287.0             2.43              41.00  \n",
              "1A6Q                        277.0             2.97              59.00  \n",
              "1A72                        277.0             2.30              46.82  \n",
              "1AFK                        289.0             2.20              48.00  \n",
              "1AFL                        289.0             2.20              48.00  "
            ],
            "text/html": [
              "\n",
              "  <div id=\"df-509682b2-53fa-417d-8a1c-5a57e67993f2\">\n",
              "    <div class=\"colab-df-container\">\n",
              "      <div>\n",
              "<style scoped>\n",
              "    .dataframe tbody tr th:only-of-type {\n",
              "        vertical-align: middle;\n",
              "    }\n",
              "\n",
              "    .dataframe tbody tr th {\n",
              "        vertical-align: top;\n",
              "    }\n",
              "\n",
              "    .dataframe thead th {\n",
              "        text-align: right;\n",
              "    }\n",
              "</style>\n",
              "<table border=\"1\" class=\"dataframe\">\n",
              "  <thead>\n",
              "    <tr style=\"text-align: right;\">\n",
              "      <th></th>\n",
              "      <th>macromoleculeType</th>\n",
              "      <th>residueCount</th>\n",
              "      <th>structureMolecularWeight</th>\n",
              "      <th>crystallizationTempK</th>\n",
              "      <th>densityMatthews</th>\n",
              "      <th>densityPercentSol</th>\n",
              "    </tr>\n",
              "    <tr>\n",
              "      <th>structureId</th>\n",
              "      <th></th>\n",
              "      <th></th>\n",
              "      <th></th>\n",
              "      <th></th>\n",
              "      <th></th>\n",
              "      <th></th>\n",
              "    </tr>\n",
              "  </thead>\n",
              "  <tbody>\n",
              "    <tr>\n",
              "      <th>1A4S</th>\n",
              "      <td>Protein</td>\n",
              "      <td>2012</td>\n",
              "      <td>217689.59</td>\n",
              "      <td>287.0</td>\n",
              "      <td>2.43</td>\n",
              "      <td>41.00</td>\n",
              "    </tr>\n",
              "    <tr>\n",
              "      <th>1A6Q</th>\n",
              "      <td>Protein</td>\n",
              "      <td>382</td>\n",
              "      <td>42707.55</td>\n",
              "      <td>277.0</td>\n",
              "      <td>2.97</td>\n",
              "      <td>59.00</td>\n",
              "    </tr>\n",
              "    <tr>\n",
              "      <th>1A72</th>\n",
              "      <td>Protein</td>\n",
              "      <td>374</td>\n",
              "      <td>40658.50</td>\n",
              "      <td>277.0</td>\n",
              "      <td>2.30</td>\n",
              "      <td>46.82</td>\n",
              "    </tr>\n",
              "    <tr>\n",
              "      <th>1AFK</th>\n",
              "      <td>Protein</td>\n",
              "      <td>248</td>\n",
              "      <td>28431.01</td>\n",
              "      <td>289.0</td>\n",
              "      <td>2.20</td>\n",
              "      <td>48.00</td>\n",
              "    </tr>\n",
              "    <tr>\n",
              "      <th>1AFL</th>\n",
              "      <td>Protein</td>\n",
              "      <td>248</td>\n",
              "      <td>28815.26</td>\n",
              "      <td>289.0</td>\n",
              "      <td>2.20</td>\n",
              "      <td>48.00</td>\n",
              "    </tr>\n",
              "  </tbody>\n",
              "</table>\n",
              "</div>\n",
              "      <button class=\"colab-df-convert\" onclick=\"convertToInteractive('df-509682b2-53fa-417d-8a1c-5a57e67993f2')\"\n",
              "              title=\"Convert this dataframe to an interactive table.\"\n",
              "              style=\"display:none;\">\n",
              "        \n",
              "  <svg xmlns=\"http://www.w3.org/2000/svg\" height=\"24px\"viewBox=\"0 0 24 24\"\n",
              "       width=\"24px\">\n",
              "    <path d=\"M0 0h24v24H0V0z\" fill=\"none\"/>\n",
              "    <path d=\"M18.56 5.44l.94 2.06.94-2.06 2.06-.94-2.06-.94-.94-2.06-.94 2.06-2.06.94zm-11 1L8.5 8.5l.94-2.06 2.06-.94-2.06-.94L8.5 2.5l-.94 2.06-2.06.94zm10 10l.94 2.06.94-2.06 2.06-.94-2.06-.94-.94-2.06-.94 2.06-2.06.94z\"/><path d=\"M17.41 7.96l-1.37-1.37c-.4-.4-.92-.59-1.43-.59-.52 0-1.04.2-1.43.59L10.3 9.45l-7.72 7.72c-.78.78-.78 2.05 0 2.83L4 21.41c.39.39.9.59 1.41.59.51 0 1.02-.2 1.41-.59l7.78-7.78 2.81-2.81c.8-.78.8-2.07 0-2.86zM5.41 20L4 18.59l7.72-7.72 1.47 1.35L5.41 20z\"/>\n",
              "  </svg>\n",
              "      </button>\n",
              "      \n",
              "  <style>\n",
              "    .colab-df-container {\n",
              "      display:flex;\n",
              "      flex-wrap:wrap;\n",
              "      gap: 12px;\n",
              "    }\n",
              "\n",
              "    .colab-df-convert {\n",
              "      background-color: #E8F0FE;\n",
              "      border: none;\n",
              "      border-radius: 50%;\n",
              "      cursor: pointer;\n",
              "      display: none;\n",
              "      fill: #1967D2;\n",
              "      height: 32px;\n",
              "      padding: 0 0 0 0;\n",
              "      width: 32px;\n",
              "    }\n",
              "\n",
              "    .colab-df-convert:hover {\n",
              "      background-color: #E2EBFA;\n",
              "      box-shadow: 0px 1px 2px rgba(60, 64, 67, 0.3), 0px 1px 3px 1px rgba(60, 64, 67, 0.15);\n",
              "      fill: #174EA6;\n",
              "    }\n",
              "\n",
              "    [theme=dark] .colab-df-convert {\n",
              "      background-color: #3B4455;\n",
              "      fill: #D2E3FC;\n",
              "    }\n",
              "\n",
              "    [theme=dark] .colab-df-convert:hover {\n",
              "      background-color: #434B5C;\n",
              "      box-shadow: 0px 1px 3px 1px rgba(0, 0, 0, 0.15);\n",
              "      filter: drop-shadow(0px 1px 2px rgba(0, 0, 0, 0.3));\n",
              "      fill: #FFFFFF;\n",
              "    }\n",
              "  </style>\n",
              "\n",
              "      <script>\n",
              "        const buttonEl =\n",
              "          document.querySelector('#df-509682b2-53fa-417d-8a1c-5a57e67993f2 button.colab-df-convert');\n",
              "        buttonEl.style.display =\n",
              "          google.colab.kernel.accessAllowed ? 'block' : 'none';\n",
              "\n",
              "        async function convertToInteractive(key) {\n",
              "          const element = document.querySelector('#df-509682b2-53fa-417d-8a1c-5a57e67993f2');\n",
              "          const dataTable =\n",
              "            await google.colab.kernel.invokeFunction('convertToInteractive',\n",
              "                                                     [key], {});\n",
              "          if (!dataTable) return;\n",
              "\n",
              "          const docLinkHtml = 'Like what you see? Visit the ' +\n",
              "            '<a target=\"_blank\" href=https://colab.research.google.com/notebooks/data_table.ipynb>data table notebook</a>'\n",
              "            + ' to learn more about interactive tables.';\n",
              "          element.innerHTML = '';\n",
              "          dataTable['output_type'] = 'display_data';\n",
              "          await google.colab.output.renderOutput(dataTable, element);\n",
              "          const docLink = document.createElement('div');\n",
              "          docLink.innerHTML = docLinkHtml;\n",
              "          element.appendChild(docLink);\n",
              "        }\n",
              "      </script>\n",
              "    </div>\n",
              "  </div>\n",
              "  "
            ]
          },
          "metadata": {},
          "execution_count": 214
        }
      ]
    },
    {
      "cell_type": "code",
      "source": [
        "y.head()"
      ],
      "metadata": {
        "colab": {
          "base_uri": "https://localhost:8080/"
        },
        "id": "DGKEG5zBM4vX",
        "outputId": "49731cd4-c2af-4807-f1a6-55c95fa5a584"
      },
      "execution_count": null,
      "outputs": [
        {
          "output_type": "execute_result",
          "data": {
            "text/plain": [
              "structureId\n",
              "1A4S    OXIDOREDUCTASE\n",
              "1A6Q         HYDROLASE\n",
              "1A72    OXIDOREDUCTASE\n",
              "1AFK         HYDROLASE\n",
              "1AFL         HYDROLASE\n",
              "Name: classification, dtype: object"
            ]
          },
          "metadata": {},
          "execution_count": 215
        }
      ]
    },
    {
      "cell_type": "markdown",
      "source": [
        "Dividiamo i dati in set di allenamento e set di test."
      ],
      "metadata": {
        "id": "IumSTsp48tQ4"
      }
    },
    {
      "cell_type": "code",
      "source": [
        "from sklearn.model_selection import train_test_split\n",
        "X_train, X_val, y_train, y_val = train_test_split(\n",
        "    X, y,\n",
        "    test_size=1/3,\n",
        "    random_state=42\n",
        ")"
      ],
      "metadata": {
        "id": "VxIaTC1lytNi"
      },
      "execution_count": null,
      "outputs": []
    },
    {
      "cell_type": "markdown",
      "source": [
        "**Modelli**\n",
        "* importiamo le librerie che ci servono\n",
        "* definiamo una funzione di appoggio per creare oggetti ```Pipeline``` dato il modello di classificazione che desideriamo usare\n",
        "\n"
      ],
      "metadata": {
        "id": "UcUhJiR69PJ7"
      }
    },
    {
      "cell_type": "code",
      "source": [
        "from sklearn.pipeline import Pipeline\n",
        "from sklearn.preprocessing import OneHotEncoder\n",
        "from sklearn.compose import ColumnTransformer\n",
        "from sklearn.preprocessing import StandardScaler\n",
        "from sklearn.tree import DecisionTreeClassifier\n",
        "from sklearn.model_selection import StratifiedKFold\n",
        "from sklearn.model_selection import GridSearchCV"
      ],
      "metadata": {
        "id": "4qvXdh7EjSAp"
      },
      "execution_count": null,
      "outputs": []
    },
    {
      "cell_type": "markdown",
      "source": [
        "\n",
        "\n",
        "* Il primo modello che testiamo è ```DecisionTreeClassifier```\n",
        "\n",
        "\n",
        "\n",
        "\n"
      ],
      "metadata": {
        "id": "F2AU8H27hBto"
      }
    },
    {
      "cell_type": "code",
      "source": [
        "def buildModel(classifier):\n",
        "  model =  Pipeline([\n",
        "      (\"preproc\", ColumnTransformer([\n",
        "          (\"numeric\", StandardScaler(), num_cols),\n",
        "          (\"categorical\", OneHotEncoder(), cat_cols)\n",
        "      ])),\n",
        "\n",
        "      (\"class\", classifier)\n",
        "  ])\n",
        "  return model"
      ],
      "metadata": {
        "id": "8orlPT06qArR"
      },
      "execution_count": null,
      "outputs": []
    },
    {
      "cell_type": "markdown",
      "source": [
        "* nel valutare i parametri ottimi utilizziamo una grid search con stratified 3-fold"
      ],
      "metadata": {
        "id": "meOZL--L-Ywe"
      }
    },
    {
      "cell_type": "code",
      "source": [
        "skf = StratifiedKFold(3, shuffle=True, random_state=42)"
      ],
      "metadata": {
        "id": "Nfy9-JwajU-s"
      },
      "execution_count": null,
      "outputs": []
    },
    {
      "cell_type": "code",
      "source": [
        "num_cols = [\"residueCount\", \"structureMolecularWeight\", \"densityMatthews\", \"densityPercentSol\", \"crystallizationTempK\"]\n",
        "cat_cols = [\"macromoleculeType\"]\n",
        "\n",
        "model = buildModel(DecisionTreeClassifier())\n",
        "\n",
        "grid_decision_tree = {\n",
        "    'class__criterion': ['gini', 'entropy', 'log_loss'],\n",
        "    \"class__splitter\":['random','best'],\n",
        "    'class__max_depth':[8,16,32],\n",
        "    'class__max_features': ['sqrt', 'log2']\n",
        "}\n",
        "\n",
        "gs = GridSearchCV(model, grid_decision_tree, cv=skf, scoring=\"accuracy\")\n",
        "gs.fit(X_train, y_train)\n",
        "\n",
        "dt_model = gs.best_estimator_\n",
        "gs.best_params_"
      ],
      "metadata": {
        "id": "49Iwi-ZgzMTg",
        "colab": {
          "base_uri": "https://localhost:8080/"
        },
        "outputId": "927a43ce-c638-48ae-8f14-248f8011335c"
      },
      "execution_count": null,
      "outputs": [
        {
          "output_type": "execute_result",
          "data": {
            "text/plain": [
              "{'class__criterion': 'entropy',\n",
              " 'class__max_depth': 32,\n",
              " 'class__max_features': 'log2',\n",
              " 'class__splitter': 'best'}"
            ]
          },
          "metadata": {},
          "execution_count": 220
        }
      ]
    },
    {
      "cell_type": "code",
      "source": [
        "dt_model.fit(X_train, y_train)\n",
        "scores.append(dt_model.score(X_val, y_val))\n",
        "dt_model.score(X_val, y_val)"
      ],
      "metadata": {
        "colab": {
          "base_uri": "https://localhost:8080/"
        },
        "id": "Fuj6TbTrloZW",
        "outputId": "4db9343c-b540-4718-ce76-7fd840361f70"
      },
      "execution_count": null,
      "outputs": [
        {
          "output_type": "execute_result",
          "data": {
            "text/plain": [
              "0.5124108416547789"
            ]
          },
          "metadata": {},
          "execution_count": 221
        }
      ]
    },
    {
      "cell_type": "markdown",
      "source": [
        "* testiamo adesso un modello ```RidgeClassifier```"
      ],
      "metadata": {
        "id": "7y1f_QnIqok_"
      }
    },
    {
      "cell_type": "code",
      "source": [
        "from sklearn.linear_model import RidgeClassifier\n",
        "\n",
        "model = buildModel(RidgeClassifier())\n",
        "\n",
        "grid_ridge = {\n",
        "    \"class__alpha\": [1.0, 2.0, 4.0, 8.0],\n",
        "    \"class__solver\": ['svd','cholesky', 'lsqr', 'saga']\n",
        "}\n",
        "\n",
        "gs = GridSearchCV(model, grid_ridge, cv=skf, scoring=\"accuracy\")\n",
        "gs.fit(X_train, y_train)\n",
        "\n",
        "ridge_model = gs.best_estimator_\n",
        "gs.best_params_"
      ],
      "metadata": {
        "colab": {
          "base_uri": "https://localhost:8080/"
        },
        "id": "B4KYgsJJqued",
        "outputId": "b9ed02b9-ffc0-401b-bb2a-0c30cfa37523"
      },
      "execution_count": null,
      "outputs": [
        {
          "output_type": "stream",
          "name": "stderr",
          "text": [
            "/usr/local/lib/python3.10/dist-packages/sklearn/linear_model/_sag.py:350: ConvergenceWarning: The max_iter was reached which means the coef_ did not converge\n",
            "  warnings.warn(\n",
            "/usr/local/lib/python3.10/dist-packages/sklearn/linear_model/_sag.py:350: ConvergenceWarning: The max_iter was reached which means the coef_ did not converge\n",
            "  warnings.warn(\n",
            "/usr/local/lib/python3.10/dist-packages/sklearn/linear_model/_sag.py:350: ConvergenceWarning: The max_iter was reached which means the coef_ did not converge\n",
            "  warnings.warn(\n",
            "/usr/local/lib/python3.10/dist-packages/sklearn/linear_model/_sag.py:350: ConvergenceWarning: The max_iter was reached which means the coef_ did not converge\n",
            "  warnings.warn(\n",
            "/usr/local/lib/python3.10/dist-packages/sklearn/linear_model/_sag.py:350: ConvergenceWarning: The max_iter was reached which means the coef_ did not converge\n",
            "  warnings.warn(\n",
            "/usr/local/lib/python3.10/dist-packages/sklearn/linear_model/_sag.py:350: ConvergenceWarning: The max_iter was reached which means the coef_ did not converge\n",
            "  warnings.warn(\n",
            "/usr/local/lib/python3.10/dist-packages/sklearn/linear_model/_sag.py:350: ConvergenceWarning: The max_iter was reached which means the coef_ did not converge\n",
            "  warnings.warn(\n",
            "/usr/local/lib/python3.10/dist-packages/sklearn/linear_model/_sag.py:350: ConvergenceWarning: The max_iter was reached which means the coef_ did not converge\n",
            "  warnings.warn(\n",
            "/usr/local/lib/python3.10/dist-packages/sklearn/linear_model/_sag.py:350: ConvergenceWarning: The max_iter was reached which means the coef_ did not converge\n",
            "  warnings.warn(\n",
            "/usr/local/lib/python3.10/dist-packages/sklearn/linear_model/_sag.py:350: ConvergenceWarning: The max_iter was reached which means the coef_ did not converge\n",
            "  warnings.warn(\n",
            "/usr/local/lib/python3.10/dist-packages/sklearn/linear_model/_sag.py:350: ConvergenceWarning: The max_iter was reached which means the coef_ did not converge\n",
            "  warnings.warn(\n",
            "/usr/local/lib/python3.10/dist-packages/sklearn/linear_model/_sag.py:350: ConvergenceWarning: The max_iter was reached which means the coef_ did not converge\n",
            "  warnings.warn(\n",
            "/usr/local/lib/python3.10/dist-packages/sklearn/linear_model/_sag.py:350: ConvergenceWarning: The max_iter was reached which means the coef_ did not converge\n",
            "  warnings.warn(\n",
            "/usr/local/lib/python3.10/dist-packages/sklearn/linear_model/_sag.py:350: ConvergenceWarning: The max_iter was reached which means the coef_ did not converge\n",
            "  warnings.warn(\n",
            "/usr/local/lib/python3.10/dist-packages/sklearn/linear_model/_sag.py:350: ConvergenceWarning: The max_iter was reached which means the coef_ did not converge\n",
            "  warnings.warn(\n",
            "/usr/local/lib/python3.10/dist-packages/sklearn/linear_model/_sag.py:350: ConvergenceWarning: The max_iter was reached which means the coef_ did not converge\n",
            "  warnings.warn(\n",
            "/usr/local/lib/python3.10/dist-packages/sklearn/linear_model/_sag.py:350: ConvergenceWarning: The max_iter was reached which means the coef_ did not converge\n",
            "  warnings.warn(\n",
            "/usr/local/lib/python3.10/dist-packages/sklearn/linear_model/_sag.py:350: ConvergenceWarning: The max_iter was reached which means the coef_ did not converge\n",
            "  warnings.warn(\n",
            "/usr/local/lib/python3.10/dist-packages/sklearn/linear_model/_sag.py:350: ConvergenceWarning: The max_iter was reached which means the coef_ did not converge\n",
            "  warnings.warn(\n",
            "/usr/local/lib/python3.10/dist-packages/sklearn/linear_model/_sag.py:350: ConvergenceWarning: The max_iter was reached which means the coef_ did not converge\n",
            "  warnings.warn(\n",
            "/usr/local/lib/python3.10/dist-packages/sklearn/linear_model/_sag.py:350: ConvergenceWarning: The max_iter was reached which means the coef_ did not converge\n",
            "  warnings.warn(\n",
            "/usr/local/lib/python3.10/dist-packages/sklearn/linear_model/_sag.py:350: ConvergenceWarning: The max_iter was reached which means the coef_ did not converge\n",
            "  warnings.warn(\n",
            "/usr/local/lib/python3.10/dist-packages/sklearn/linear_model/_sag.py:350: ConvergenceWarning: The max_iter was reached which means the coef_ did not converge\n",
            "  warnings.warn(\n",
            "/usr/local/lib/python3.10/dist-packages/sklearn/linear_model/_sag.py:350: ConvergenceWarning: The max_iter was reached which means the coef_ did not converge\n",
            "  warnings.warn(\n",
            "/usr/local/lib/python3.10/dist-packages/sklearn/linear_model/_sag.py:350: ConvergenceWarning: The max_iter was reached which means the coef_ did not converge\n",
            "  warnings.warn(\n",
            "/usr/local/lib/python3.10/dist-packages/sklearn/linear_model/_sag.py:350: ConvergenceWarning: The max_iter was reached which means the coef_ did not converge\n",
            "  warnings.warn(\n",
            "/usr/local/lib/python3.10/dist-packages/sklearn/linear_model/_sag.py:350: ConvergenceWarning: The max_iter was reached which means the coef_ did not converge\n",
            "  warnings.warn(\n",
            "/usr/local/lib/python3.10/dist-packages/sklearn/linear_model/_sag.py:350: ConvergenceWarning: The max_iter was reached which means the coef_ did not converge\n",
            "  warnings.warn(\n",
            "/usr/local/lib/python3.10/dist-packages/sklearn/linear_model/_sag.py:350: ConvergenceWarning: The max_iter was reached which means the coef_ did not converge\n",
            "  warnings.warn(\n",
            "/usr/local/lib/python3.10/dist-packages/sklearn/linear_model/_sag.py:350: ConvergenceWarning: The max_iter was reached which means the coef_ did not converge\n",
            "  warnings.warn(\n",
            "/usr/local/lib/python3.10/dist-packages/sklearn/linear_model/_sag.py:350: ConvergenceWarning: The max_iter was reached which means the coef_ did not converge\n",
            "  warnings.warn(\n",
            "/usr/local/lib/python3.10/dist-packages/sklearn/linear_model/_sag.py:350: ConvergenceWarning: The max_iter was reached which means the coef_ did not converge\n",
            "  warnings.warn(\n",
            "/usr/local/lib/python3.10/dist-packages/sklearn/linear_model/_sag.py:350: ConvergenceWarning: The max_iter was reached which means the coef_ did not converge\n",
            "  warnings.warn(\n",
            "/usr/local/lib/python3.10/dist-packages/sklearn/linear_model/_sag.py:350: ConvergenceWarning: The max_iter was reached which means the coef_ did not converge\n",
            "  warnings.warn(\n",
            "/usr/local/lib/python3.10/dist-packages/sklearn/linear_model/_sag.py:350: ConvergenceWarning: The max_iter was reached which means the coef_ did not converge\n",
            "  warnings.warn(\n"
          ]
        },
        {
          "output_type": "execute_result",
          "data": {
            "text/plain": [
              "{'class__alpha': 1.0, 'class__solver': 'lsqr'}"
            ]
          },
          "metadata": {},
          "execution_count": 222
        }
      ]
    },
    {
      "cell_type": "code",
      "source": [
        "ridge_model.fit(X_train, y_train)\n",
        "scores.append(ridge_model.score(X_val, y_val))\n",
        "ridge_model.score(X_val, y_val)"
      ],
      "metadata": {
        "id": "nPKYMspJrJ62",
        "colab": {
          "base_uri": "https://localhost:8080/"
        },
        "outputId": "8b33d82c-a725-4e59-c1ba-c9620cb02a5c"
      },
      "execution_count": null,
      "outputs": [
        {
          "output_type": "execute_result",
          "data": {
            "text/plain": [
              "0.34793152639087016"
            ]
          },
          "metadata": {},
          "execution_count": 223
        }
      ]
    },
    {
      "cell_type": "markdown",
      "source": [
        "* infine, testiamo un modello ```XGBClassifier```"
      ],
      "metadata": {
        "id": "hYuwLGmoraOB"
      }
    },
    {
      "cell_type": "code",
      "source": [
        "def encode_y(y):\n",
        "  return y.apply(lambda x: classes.tolist().index(x))"
      ],
      "metadata": {
        "id": "fQiDgQBuzoGO"
      },
      "execution_count": null,
      "outputs": []
    },
    {
      "cell_type": "code",
      "source": [
        "from xgboost import XGBClassifier\n",
        "\n",
        "model = buildModel(XGBClassifier(\n",
        "    n_estimators=100,\n",
        "    objective=\"multi:softmax\",\n",
        "    learning_rate=0.01,\n",
        "    subsample=0.8,\n",
        "    colsample_bytree=0.2,\n",
        "    eval_metric=\"mlogloss\",\n",
        "    tree_method='gpu_hist',\n",
        "    predictor='gpu_predictor',\n",
        "))\n",
        "\n",
        "grid_xgb = {\n",
        "    \"class__gamma\": [0.5, 1, 1.5],\n",
        "    \"class__subsample\": [0.4, 0.6, 0.8],\n",
        "    \"class__max_depth\": [3, 4, 5],\n",
        "}\n",
        "gs = GridSearchCV(model, grid_xgb, cv=skf, scoring=\"accuracy\")\n",
        "\n",
        "\n",
        "gs.fit(X_train, encode_y(y_train))\n",
        "\n",
        "xgb_model = gs.best_estimator_\n",
        "gs.best_params_"
      ],
      "metadata": {
        "id": "BrPPO6iQrgLT",
        "colab": {
          "base_uri": "https://localhost:8080/"
        },
        "outputId": "d48dcd50-d6d1-4cef-f57e-aeb4433ee846"
      },
      "execution_count": null,
      "outputs": [
        {
          "output_type": "execute_result",
          "data": {
            "text/plain": [
              "{'class__gamma': 1, 'class__max_depth': 5, 'class__subsample': 0.8}"
            ]
          },
          "metadata": {},
          "execution_count": 225
        }
      ]
    },
    {
      "cell_type": "code",
      "source": [
        "xgb_model.fit(X_train, encode_y(y_train))\n",
        "scores.append(xgb_model.score(X_val, encode_y(y_val)))\n",
        "xgb_model.score(X_val, encode_y(y_val))"
      ],
      "metadata": {
        "id": "v43ehoVSrzRH",
        "colab": {
          "base_uri": "https://localhost:8080/"
        },
        "outputId": "590248b0-b29f-474f-89e6-3198a47ef93f"
      },
      "execution_count": null,
      "outputs": [
        {
          "output_type": "execute_result",
          "data": {
            "text/plain": [
              "0.36405135520684734"
            ]
          },
          "metadata": {},
          "execution_count": 226
        }
      ]
    },
    {
      "cell_type": "markdown",
      "source": [
        "## Dataset con informazioni sulla sequenza\n",
        "\n",
        "* Abbiamo visto che i modelli visti, addestrati su un dataset che non tiene conto della sequenza che compone la proteina, non raggiungono buoni risultati.\n",
        "\n",
        "* Proviamo adesso ad aggiungere al nostro dataset feature estratte dalla sequenza"
      ],
      "metadata": {
        "id": "hdE99kXkoXav"
      }
    },
    {
      "cell_type": "code",
      "source": [
        "seq_data = pd.read_csv(\"pdb_data_seq.csv\")[[\"structureId\",\"sequence\"]]\n",
        "seq_data"
      ],
      "metadata": {
        "id": "CXeGrLKrLAXz",
        "colab": {
          "base_uri": "https://localhost:8080/",
          "height": 423
        },
        "outputId": "2813a00c-fa01-4d23-84fd-dab8fc278d32"
      },
      "execution_count": null,
      "outputs": [
        {
          "output_type": "execute_result",
          "data": {
            "text/plain": [
              "       structureId                                           sequence\n",
              "0             100D                                         CCGGCGCCGG\n",
              "1             100D                                         CCGGCGCCGG\n",
              "2             101D                                       CGCGAATTCGCG\n",
              "3             101D                                       CGCGAATTCGCG\n",
              "4             101M  MVLSEGEWQLVLHVWAKVEADVAGHGQDILIRLFKSHPETLEKFDR...\n",
              "...            ...                                                ...\n",
              "467299        9XIA  MNYQPTPEDRFTFGLWTVGWQGRDPFGDATRRALDPVESVQRLAEL...\n",
              "467300        9XIM  SVQATREDKFSFGLWTVGWQARDAFGDATRTALDPVEAVHKLAEIG...\n",
              "467301        9XIM  SVQATREDKFSFGLWTVGWQARDAFGDATRTALDPVEAVHKLAEIG...\n",
              "467302        9XIM  SVQATREDKFSFGLWTVGWQARDAFGDATRTALDPVEAVHKLAEIG...\n",
              "467303        9XIM  SVQATREDKFSFGLWTVGWQARDAFGDATRTALDPVEAVHKLAEIG...\n",
              "\n",
              "[467304 rows x 2 columns]"
            ],
            "text/html": [
              "\n",
              "  <div id=\"df-bd6480a3-8cfb-472e-9534-6b35b49d39b3\">\n",
              "    <div class=\"colab-df-container\">\n",
              "      <div>\n",
              "<style scoped>\n",
              "    .dataframe tbody tr th:only-of-type {\n",
              "        vertical-align: middle;\n",
              "    }\n",
              "\n",
              "    .dataframe tbody tr th {\n",
              "        vertical-align: top;\n",
              "    }\n",
              "\n",
              "    .dataframe thead th {\n",
              "        text-align: right;\n",
              "    }\n",
              "</style>\n",
              "<table border=\"1\" class=\"dataframe\">\n",
              "  <thead>\n",
              "    <tr style=\"text-align: right;\">\n",
              "      <th></th>\n",
              "      <th>structureId</th>\n",
              "      <th>sequence</th>\n",
              "    </tr>\n",
              "  </thead>\n",
              "  <tbody>\n",
              "    <tr>\n",
              "      <th>0</th>\n",
              "      <td>100D</td>\n",
              "      <td>CCGGCGCCGG</td>\n",
              "    </tr>\n",
              "    <tr>\n",
              "      <th>1</th>\n",
              "      <td>100D</td>\n",
              "      <td>CCGGCGCCGG</td>\n",
              "    </tr>\n",
              "    <tr>\n",
              "      <th>2</th>\n",
              "      <td>101D</td>\n",
              "      <td>CGCGAATTCGCG</td>\n",
              "    </tr>\n",
              "    <tr>\n",
              "      <th>3</th>\n",
              "      <td>101D</td>\n",
              "      <td>CGCGAATTCGCG</td>\n",
              "    </tr>\n",
              "    <tr>\n",
              "      <th>4</th>\n",
              "      <td>101M</td>\n",
              "      <td>MVLSEGEWQLVLHVWAKVEADVAGHGQDILIRLFKSHPETLEKFDR...</td>\n",
              "    </tr>\n",
              "    <tr>\n",
              "      <th>...</th>\n",
              "      <td>...</td>\n",
              "      <td>...</td>\n",
              "    </tr>\n",
              "    <tr>\n",
              "      <th>467299</th>\n",
              "      <td>9XIA</td>\n",
              "      <td>MNYQPTPEDRFTFGLWTVGWQGRDPFGDATRRALDPVESVQRLAEL...</td>\n",
              "    </tr>\n",
              "    <tr>\n",
              "      <th>467300</th>\n",
              "      <td>9XIM</td>\n",
              "      <td>SVQATREDKFSFGLWTVGWQARDAFGDATRTALDPVEAVHKLAEIG...</td>\n",
              "    </tr>\n",
              "    <tr>\n",
              "      <th>467301</th>\n",
              "      <td>9XIM</td>\n",
              "      <td>SVQATREDKFSFGLWTVGWQARDAFGDATRTALDPVEAVHKLAEIG...</td>\n",
              "    </tr>\n",
              "    <tr>\n",
              "      <th>467302</th>\n",
              "      <td>9XIM</td>\n",
              "      <td>SVQATREDKFSFGLWTVGWQARDAFGDATRTALDPVEAVHKLAEIG...</td>\n",
              "    </tr>\n",
              "    <tr>\n",
              "      <th>467303</th>\n",
              "      <td>9XIM</td>\n",
              "      <td>SVQATREDKFSFGLWTVGWQARDAFGDATRTALDPVEAVHKLAEIG...</td>\n",
              "    </tr>\n",
              "  </tbody>\n",
              "</table>\n",
              "<p>467304 rows × 2 columns</p>\n",
              "</div>\n",
              "      <button class=\"colab-df-convert\" onclick=\"convertToInteractive('df-bd6480a3-8cfb-472e-9534-6b35b49d39b3')\"\n",
              "              title=\"Convert this dataframe to an interactive table.\"\n",
              "              style=\"display:none;\">\n",
              "        \n",
              "  <svg xmlns=\"http://www.w3.org/2000/svg\" height=\"24px\"viewBox=\"0 0 24 24\"\n",
              "       width=\"24px\">\n",
              "    <path d=\"M0 0h24v24H0V0z\" fill=\"none\"/>\n",
              "    <path d=\"M18.56 5.44l.94 2.06.94-2.06 2.06-.94-2.06-.94-.94-2.06-.94 2.06-2.06.94zm-11 1L8.5 8.5l.94-2.06 2.06-.94-2.06-.94L8.5 2.5l-.94 2.06-2.06.94zm10 10l.94 2.06.94-2.06 2.06-.94-2.06-.94-.94-2.06-.94 2.06-2.06.94z\"/><path d=\"M17.41 7.96l-1.37-1.37c-.4-.4-.92-.59-1.43-.59-.52 0-1.04.2-1.43.59L10.3 9.45l-7.72 7.72c-.78.78-.78 2.05 0 2.83L4 21.41c.39.39.9.59 1.41.59.51 0 1.02-.2 1.41-.59l7.78-7.78 2.81-2.81c.8-.78.8-2.07 0-2.86zM5.41 20L4 18.59l7.72-7.72 1.47 1.35L5.41 20z\"/>\n",
              "  </svg>\n",
              "      </button>\n",
              "      \n",
              "  <style>\n",
              "    .colab-df-container {\n",
              "      display:flex;\n",
              "      flex-wrap:wrap;\n",
              "      gap: 12px;\n",
              "    }\n",
              "\n",
              "    .colab-df-convert {\n",
              "      background-color: #E8F0FE;\n",
              "      border: none;\n",
              "      border-radius: 50%;\n",
              "      cursor: pointer;\n",
              "      display: none;\n",
              "      fill: #1967D2;\n",
              "      height: 32px;\n",
              "      padding: 0 0 0 0;\n",
              "      width: 32px;\n",
              "    }\n",
              "\n",
              "    .colab-df-convert:hover {\n",
              "      background-color: #E2EBFA;\n",
              "      box-shadow: 0px 1px 2px rgba(60, 64, 67, 0.3), 0px 1px 3px 1px rgba(60, 64, 67, 0.15);\n",
              "      fill: #174EA6;\n",
              "    }\n",
              "\n",
              "    [theme=dark] .colab-df-convert {\n",
              "      background-color: #3B4455;\n",
              "      fill: #D2E3FC;\n",
              "    }\n",
              "\n",
              "    [theme=dark] .colab-df-convert:hover {\n",
              "      background-color: #434B5C;\n",
              "      box-shadow: 0px 1px 3px 1px rgba(0, 0, 0, 0.15);\n",
              "      filter: drop-shadow(0px 1px 2px rgba(0, 0, 0, 0.3));\n",
              "      fill: #FFFFFF;\n",
              "    }\n",
              "  </style>\n",
              "\n",
              "      <script>\n",
              "        const buttonEl =\n",
              "          document.querySelector('#df-bd6480a3-8cfb-472e-9534-6b35b49d39b3 button.colab-df-convert');\n",
              "        buttonEl.style.display =\n",
              "          google.colab.kernel.accessAllowed ? 'block' : 'none';\n",
              "\n",
              "        async function convertToInteractive(key) {\n",
              "          const element = document.querySelector('#df-bd6480a3-8cfb-472e-9534-6b35b49d39b3');\n",
              "          const dataTable =\n",
              "            await google.colab.kernel.invokeFunction('convertToInteractive',\n",
              "                                                     [key], {});\n",
              "          if (!dataTable) return;\n",
              "\n",
              "          const docLinkHtml = 'Like what you see? Visit the ' +\n",
              "            '<a target=\"_blank\" href=https://colab.research.google.com/notebooks/data_table.ipynb>data table notebook</a>'\n",
              "            + ' to learn more about interactive tables.';\n",
              "          element.innerHTML = '';\n",
              "          dataTable['output_type'] = 'display_data';\n",
              "          await google.colab.output.renderOutput(dataTable, element);\n",
              "          const docLink = document.createElement('div');\n",
              "          docLink.innerHTML = docLinkHtml;\n",
              "          element.appendChild(docLink);\n",
              "        }\n",
              "      </script>\n",
              "    </div>\n",
              "  </div>\n",
              "  "
            ]
          },
          "metadata": {},
          "execution_count": 227
        }
      ]
    },
    {
      "cell_type": "markdown",
      "source": [
        "* Eliminiamo le righe in cui manca la sequenza\n",
        "* Dato che la sequenza è divisa su più righe, le unisco"
      ],
      "metadata": {
        "id": "4sivGHjupHZY"
      }
    },
    {
      "cell_type": "code",
      "source": [
        "seq_data = seq_data[~seq_data[\"sequence\"].isna()]\n",
        "\n",
        "s = pd.Series(seq_data.groupby(\"structureId\")[\"sequence\"], index=seq_data[\"structureId\"].unique())\n",
        "s = s.apply(lambda x: \"\".join(x[1].tolist()))\n",
        "seq_df = pd.DataFrame(s, columns=[\"sequence\"])\n",
        "seq_df.head()"
      ],
      "metadata": {
        "id": "DOuBO3cBLu80",
        "colab": {
          "base_uri": "https://localhost:8080/",
          "height": 206
        },
        "outputId": "82a936d0-e423-4af4-9924-1076fa6031d5"
      },
      "execution_count": null,
      "outputs": [
        {
          "output_type": "execute_result",
          "data": {
            "text/plain": [
              "                                               sequence\n",
              "100D                               CCGGCGCCGGCCGGCGCCGG\n",
              "101D                           CGCGAATTCGCGCGCGAATTCGCG\n",
              "101M  MVLSEGEWQLVLHVWAKVEADVAGHGQDILIRLFKSHPETLEKFDR...\n",
              "102D                           CGCAAATTTGCGCGCAAATTTGCG\n",
              "102L  MNIFEMLRIDEGLRLKIYKDTEGYYTIGIGHLLTKSPSLNAAAKSE..."
            ],
            "text/html": [
              "\n",
              "  <div id=\"df-5bed4b02-4db3-4f5c-b409-c5510d1ed05a\">\n",
              "    <div class=\"colab-df-container\">\n",
              "      <div>\n",
              "<style scoped>\n",
              "    .dataframe tbody tr th:only-of-type {\n",
              "        vertical-align: middle;\n",
              "    }\n",
              "\n",
              "    .dataframe tbody tr th {\n",
              "        vertical-align: top;\n",
              "    }\n",
              "\n",
              "    .dataframe thead th {\n",
              "        text-align: right;\n",
              "    }\n",
              "</style>\n",
              "<table border=\"1\" class=\"dataframe\">\n",
              "  <thead>\n",
              "    <tr style=\"text-align: right;\">\n",
              "      <th></th>\n",
              "      <th>sequence</th>\n",
              "    </tr>\n",
              "  </thead>\n",
              "  <tbody>\n",
              "    <tr>\n",
              "      <th>100D</th>\n",
              "      <td>CCGGCGCCGGCCGGCGCCGG</td>\n",
              "    </tr>\n",
              "    <tr>\n",
              "      <th>101D</th>\n",
              "      <td>CGCGAATTCGCGCGCGAATTCGCG</td>\n",
              "    </tr>\n",
              "    <tr>\n",
              "      <th>101M</th>\n",
              "      <td>MVLSEGEWQLVLHVWAKVEADVAGHGQDILIRLFKSHPETLEKFDR...</td>\n",
              "    </tr>\n",
              "    <tr>\n",
              "      <th>102D</th>\n",
              "      <td>CGCAAATTTGCGCGCAAATTTGCG</td>\n",
              "    </tr>\n",
              "    <tr>\n",
              "      <th>102L</th>\n",
              "      <td>MNIFEMLRIDEGLRLKIYKDTEGYYTIGIGHLLTKSPSLNAAAKSE...</td>\n",
              "    </tr>\n",
              "  </tbody>\n",
              "</table>\n",
              "</div>\n",
              "      <button class=\"colab-df-convert\" onclick=\"convertToInteractive('df-5bed4b02-4db3-4f5c-b409-c5510d1ed05a')\"\n",
              "              title=\"Convert this dataframe to an interactive table.\"\n",
              "              style=\"display:none;\">\n",
              "        \n",
              "  <svg xmlns=\"http://www.w3.org/2000/svg\" height=\"24px\"viewBox=\"0 0 24 24\"\n",
              "       width=\"24px\">\n",
              "    <path d=\"M0 0h24v24H0V0z\" fill=\"none\"/>\n",
              "    <path d=\"M18.56 5.44l.94 2.06.94-2.06 2.06-.94-2.06-.94-.94-2.06-.94 2.06-2.06.94zm-11 1L8.5 8.5l.94-2.06 2.06-.94-2.06-.94L8.5 2.5l-.94 2.06-2.06.94zm10 10l.94 2.06.94-2.06 2.06-.94-2.06-.94-.94-2.06-.94 2.06-2.06.94z\"/><path d=\"M17.41 7.96l-1.37-1.37c-.4-.4-.92-.59-1.43-.59-.52 0-1.04.2-1.43.59L10.3 9.45l-7.72 7.72c-.78.78-.78 2.05 0 2.83L4 21.41c.39.39.9.59 1.41.59.51 0 1.02-.2 1.41-.59l7.78-7.78 2.81-2.81c.8-.78.8-2.07 0-2.86zM5.41 20L4 18.59l7.72-7.72 1.47 1.35L5.41 20z\"/>\n",
              "  </svg>\n",
              "      </button>\n",
              "      \n",
              "  <style>\n",
              "    .colab-df-container {\n",
              "      display:flex;\n",
              "      flex-wrap:wrap;\n",
              "      gap: 12px;\n",
              "    }\n",
              "\n",
              "    .colab-df-convert {\n",
              "      background-color: #E8F0FE;\n",
              "      border: none;\n",
              "      border-radius: 50%;\n",
              "      cursor: pointer;\n",
              "      display: none;\n",
              "      fill: #1967D2;\n",
              "      height: 32px;\n",
              "      padding: 0 0 0 0;\n",
              "      width: 32px;\n",
              "    }\n",
              "\n",
              "    .colab-df-convert:hover {\n",
              "      background-color: #E2EBFA;\n",
              "      box-shadow: 0px 1px 2px rgba(60, 64, 67, 0.3), 0px 1px 3px 1px rgba(60, 64, 67, 0.15);\n",
              "      fill: #174EA6;\n",
              "    }\n",
              "\n",
              "    [theme=dark] .colab-df-convert {\n",
              "      background-color: #3B4455;\n",
              "      fill: #D2E3FC;\n",
              "    }\n",
              "\n",
              "    [theme=dark] .colab-df-convert:hover {\n",
              "      background-color: #434B5C;\n",
              "      box-shadow: 0px 1px 3px 1px rgba(0, 0, 0, 0.15);\n",
              "      filter: drop-shadow(0px 1px 2px rgba(0, 0, 0, 0.3));\n",
              "      fill: #FFFFFF;\n",
              "    }\n",
              "  </style>\n",
              "\n",
              "      <script>\n",
              "        const buttonEl =\n",
              "          document.querySelector('#df-5bed4b02-4db3-4f5c-b409-c5510d1ed05a button.colab-df-convert');\n",
              "        buttonEl.style.display =\n",
              "          google.colab.kernel.accessAllowed ? 'block' : 'none';\n",
              "\n",
              "        async function convertToInteractive(key) {\n",
              "          const element = document.querySelector('#df-5bed4b02-4db3-4f5c-b409-c5510d1ed05a');\n",
              "          const dataTable =\n",
              "            await google.colab.kernel.invokeFunction('convertToInteractive',\n",
              "                                                     [key], {});\n",
              "          if (!dataTable) return;\n",
              "\n",
              "          const docLinkHtml = 'Like what you see? Visit the ' +\n",
              "            '<a target=\"_blank\" href=https://colab.research.google.com/notebooks/data_table.ipynb>data table notebook</a>'\n",
              "            + ' to learn more about interactive tables.';\n",
              "          element.innerHTML = '';\n",
              "          dataTable['output_type'] = 'display_data';\n",
              "          await google.colab.output.renderOutput(dataTable, element);\n",
              "          const docLink = document.createElement('div');\n",
              "          docLink.innerHTML = docLinkHtml;\n",
              "          element.appendChild(docLink);\n",
              "        }\n",
              "      </script>\n",
              "    </div>\n",
              "  </div>\n",
              "  "
            ]
          },
          "metadata": {},
          "execution_count": 228
        }
      ]
    },
    {
      "cell_type": "markdown",
      "source": [
        "* Faccio corrispondere le righe del dataset delle sequenze con le righe del dataset originale"
      ],
      "metadata": {
        "id": "UHqAqRQuq0Yb"
      }
    },
    {
      "cell_type": "code",
      "source": [
        "data_seq = pd.DataFrame(data)\n",
        "seq_df = seq_df[seq_df.index.isin(data_seq.index)]\n",
        "data_seq = data_seq[data_seq.index.isin(seq_df.index)]"
      ],
      "metadata": {
        "id": "somD8dFjszh4"
      },
      "execution_count": null,
      "outputs": []
    },
    {
      "cell_type": "code",
      "source": [
        "(seq_df.index == data_seq.index).all()"
      ],
      "metadata": {
        "id": "uVsuKsFwrMa8",
        "colab": {
          "base_uri": "https://localhost:8080/"
        },
        "outputId": "b1d34733-e0ba-4314-e5fb-829388b3bc07"
      },
      "execution_count": null,
      "outputs": [
        {
          "output_type": "execute_result",
          "data": {
            "text/plain": [
              "True"
            ]
          },
          "metadata": {},
          "execution_count": 230
        }
      ]
    },
    {
      "cell_type": "markdown",
      "source": [
        "* Inserisco le sequenze nel database con le altre features"
      ],
      "metadata": {
        "id": "KE1KiQeloX5_"
      }
    },
    {
      "cell_type": "code",
      "source": [
        "data_seq[\"sequence\"] = seq_df[\"sequence\"]\n",
        "data_seq.head(1)"
      ],
      "metadata": {
        "id": "S9_bmGQCrYsf",
        "colab": {
          "base_uri": "https://localhost:8080/",
          "height": 176
        },
        "outputId": "8e3cafcf-600b-47ff-83ff-29eb6bf188ec"
      },
      "execution_count": null,
      "outputs": [
        {
          "output_type": "execute_result",
          "data": {
            "text/plain": [
              "             classification macromoleculeType  residueCount  \\\n",
              "structureId                                                   \n",
              "1A4S         OXIDOREDUCTASE           Protein          2012   \n",
              "\n",
              "             structureMolecularWeight  crystallizationTempK  densityMatthews  \\\n",
              "structureId                                                                    \n",
              "1A4S                        217689.59                 287.0             2.43   \n",
              "\n",
              "             densityPercentSol  \\\n",
              "structureId                      \n",
              "1A4S                      41.0   \n",
              "\n",
              "                                                      sequence  \n",
              "structureId                                                     \n",
              "1A4S         AQLVDSMPSASTGSVVVTDDLNYWGGRRIKSKDGATTEPVFEPATG...  "
            ],
            "text/html": [
              "\n",
              "  <div id=\"df-0ec94236-9efa-43c9-9820-a561e94c8aec\">\n",
              "    <div class=\"colab-df-container\">\n",
              "      <div>\n",
              "<style scoped>\n",
              "    .dataframe tbody tr th:only-of-type {\n",
              "        vertical-align: middle;\n",
              "    }\n",
              "\n",
              "    .dataframe tbody tr th {\n",
              "        vertical-align: top;\n",
              "    }\n",
              "\n",
              "    .dataframe thead th {\n",
              "        text-align: right;\n",
              "    }\n",
              "</style>\n",
              "<table border=\"1\" class=\"dataframe\">\n",
              "  <thead>\n",
              "    <tr style=\"text-align: right;\">\n",
              "      <th></th>\n",
              "      <th>classification</th>\n",
              "      <th>macromoleculeType</th>\n",
              "      <th>residueCount</th>\n",
              "      <th>structureMolecularWeight</th>\n",
              "      <th>crystallizationTempK</th>\n",
              "      <th>densityMatthews</th>\n",
              "      <th>densityPercentSol</th>\n",
              "      <th>sequence</th>\n",
              "    </tr>\n",
              "    <tr>\n",
              "      <th>structureId</th>\n",
              "      <th></th>\n",
              "      <th></th>\n",
              "      <th></th>\n",
              "      <th></th>\n",
              "      <th></th>\n",
              "      <th></th>\n",
              "      <th></th>\n",
              "      <th></th>\n",
              "    </tr>\n",
              "  </thead>\n",
              "  <tbody>\n",
              "    <tr>\n",
              "      <th>1A4S</th>\n",
              "      <td>OXIDOREDUCTASE</td>\n",
              "      <td>Protein</td>\n",
              "      <td>2012</td>\n",
              "      <td>217689.59</td>\n",
              "      <td>287.0</td>\n",
              "      <td>2.43</td>\n",
              "      <td>41.0</td>\n",
              "      <td>AQLVDSMPSASTGSVVVTDDLNYWGGRRIKSKDGATTEPVFEPATG...</td>\n",
              "    </tr>\n",
              "  </tbody>\n",
              "</table>\n",
              "</div>\n",
              "      <button class=\"colab-df-convert\" onclick=\"convertToInteractive('df-0ec94236-9efa-43c9-9820-a561e94c8aec')\"\n",
              "              title=\"Convert this dataframe to an interactive table.\"\n",
              "              style=\"display:none;\">\n",
              "        \n",
              "  <svg xmlns=\"http://www.w3.org/2000/svg\" height=\"24px\"viewBox=\"0 0 24 24\"\n",
              "       width=\"24px\">\n",
              "    <path d=\"M0 0h24v24H0V0z\" fill=\"none\"/>\n",
              "    <path d=\"M18.56 5.44l.94 2.06.94-2.06 2.06-.94-2.06-.94-.94-2.06-.94 2.06-2.06.94zm-11 1L8.5 8.5l.94-2.06 2.06-.94-2.06-.94L8.5 2.5l-.94 2.06-2.06.94zm10 10l.94 2.06.94-2.06 2.06-.94-2.06-.94-.94-2.06-.94 2.06-2.06.94z\"/><path d=\"M17.41 7.96l-1.37-1.37c-.4-.4-.92-.59-1.43-.59-.52 0-1.04.2-1.43.59L10.3 9.45l-7.72 7.72c-.78.78-.78 2.05 0 2.83L4 21.41c.39.39.9.59 1.41.59.51 0 1.02-.2 1.41-.59l7.78-7.78 2.81-2.81c.8-.78.8-2.07 0-2.86zM5.41 20L4 18.59l7.72-7.72 1.47 1.35L5.41 20z\"/>\n",
              "  </svg>\n",
              "      </button>\n",
              "      \n",
              "  <style>\n",
              "    .colab-df-container {\n",
              "      display:flex;\n",
              "      flex-wrap:wrap;\n",
              "      gap: 12px;\n",
              "    }\n",
              "\n",
              "    .colab-df-convert {\n",
              "      background-color: #E8F0FE;\n",
              "      border: none;\n",
              "      border-radius: 50%;\n",
              "      cursor: pointer;\n",
              "      display: none;\n",
              "      fill: #1967D2;\n",
              "      height: 32px;\n",
              "      padding: 0 0 0 0;\n",
              "      width: 32px;\n",
              "    }\n",
              "\n",
              "    .colab-df-convert:hover {\n",
              "      background-color: #E2EBFA;\n",
              "      box-shadow: 0px 1px 2px rgba(60, 64, 67, 0.3), 0px 1px 3px 1px rgba(60, 64, 67, 0.15);\n",
              "      fill: #174EA6;\n",
              "    }\n",
              "\n",
              "    [theme=dark] .colab-df-convert {\n",
              "      background-color: #3B4455;\n",
              "      fill: #D2E3FC;\n",
              "    }\n",
              "\n",
              "    [theme=dark] .colab-df-convert:hover {\n",
              "      background-color: #434B5C;\n",
              "      box-shadow: 0px 1px 3px 1px rgba(0, 0, 0, 0.15);\n",
              "      filter: drop-shadow(0px 1px 2px rgba(0, 0, 0, 0.3));\n",
              "      fill: #FFFFFF;\n",
              "    }\n",
              "  </style>\n",
              "\n",
              "      <script>\n",
              "        const buttonEl =\n",
              "          document.querySelector('#df-0ec94236-9efa-43c9-9820-a561e94c8aec button.colab-df-convert');\n",
              "        buttonEl.style.display =\n",
              "          google.colab.kernel.accessAllowed ? 'block' : 'none';\n",
              "\n",
              "        async function convertToInteractive(key) {\n",
              "          const element = document.querySelector('#df-0ec94236-9efa-43c9-9820-a561e94c8aec');\n",
              "          const dataTable =\n",
              "            await google.colab.kernel.invokeFunction('convertToInteractive',\n",
              "                                                     [key], {});\n",
              "          if (!dataTable) return;\n",
              "\n",
              "          const docLinkHtml = 'Like what you see? Visit the ' +\n",
              "            '<a target=\"_blank\" href=https://colab.research.google.com/notebooks/data_table.ipynb>data table notebook</a>'\n",
              "            + ' to learn more about interactive tables.';\n",
              "          element.innerHTML = '';\n",
              "          dataTable['output_type'] = 'display_data';\n",
              "          await google.colab.output.renderOutput(dataTable, element);\n",
              "          const docLink = document.createElement('div');\n",
              "          docLink.innerHTML = docLinkHtml;\n",
              "          element.appendChild(docLink);\n",
              "        }\n",
              "      </script>\n",
              "    </div>\n",
              "  </div>\n",
              "  "
            ]
          },
          "metadata": {},
          "execution_count": 231
        }
      ]
    },
    {
      "cell_type": "markdown",
      "source": [
        "**Estrazione di nuove features**\n",
        "* Dalla sequenza di amminoacidi è possibile estrarre diverse informazioni utili\n",
        "* Per esempio, la frequenza di ciascun amminoacido nella sequenza"
      ],
      "metadata": {
        "id": "n6gFU3UnrsTl"
      }
    },
    {
      "cell_type": "code",
      "source": [
        "amms = ['A', 'C', 'D', 'E', 'F', 'G', 'H', 'I', 'K', 'L', 'M', 'N', 'P', 'Q', 'R', 'S', 'T', 'V', 'W', 'X','Y']\n",
        "\n",
        "for amm in amms:\n",
        "  data_seq.loc[:, f\"freq_{amm}\"] = data_seq.loc[:, \"sequence\"].apply(lambda x: x.count(amm) / len(x))"
      ],
      "metadata": {
        "id": "pWp0wPLYZ686"
      },
      "execution_count": null,
      "outputs": []
    },
    {
      "cell_type": "markdown",
      "source": [
        "* Altre caratteristiche possono essere estratte attraverso la libreria ```biopython```"
      ],
      "metadata": {
        "id": "zUk7BhmmudnT"
      }
    },
    {
      "cell_type": "code",
      "source": [
        "#pip install biopython"
      ],
      "metadata": {
        "id": "TWYqC3j_z-eE"
      },
      "execution_count": null,
      "outputs": []
    },
    {
      "cell_type": "code",
      "source": [
        "from Bio.Seq import Seq\n",
        "from Bio.SeqUtils.ProtParam import ProteinAnalysis"
      ],
      "metadata": {
        "id": "KL4PYavZuhE8"
      },
      "execution_count": null,
      "outputs": []
    },
    {
      "cell_type": "code",
      "source": [
        "aromaticity = pd.Series([ProteinAnalysis(Seq(s)).aromaticity() for s in data_seq[\"sequence\"]], index=data_seq.index)\n",
        "isoelectric = pd.Series([ProteinAnalysis(Seq(s)).isoelectric_point() for s in data_seq[\"sequence\"]], index=data_seq.index)\n",
        "secondary = pd.DataFrame([ProteinAnalysis(Seq(s)).secondary_structure_fraction() for s in data_seq[\"sequence\"]], index=data_seq.index, columns = [\"helix\", \"turn\",\"sheet\"])"
      ],
      "metadata": {
        "id": "ByHXzj78-YQo"
      },
      "execution_count": null,
      "outputs": []
    },
    {
      "cell_type": "code",
      "source": [
        "data_seq[\"aromaticity\"] = aromaticity\n",
        "data_seq[\"isoelectricPoint\"] = isoelectric\n",
        "for feature in [\"helix\", \"turn\",\"sheet\"]:\n",
        "  data_seq.loc[:,feature] = secondary.loc[:,feature]"
      ],
      "metadata": {
        "id": "-HKs1k0G-D8v"
      },
      "execution_count": null,
      "outputs": []
    },
    {
      "cell_type": "code",
      "source": [
        "data_seq.head(1)"
      ],
      "metadata": {
        "id": "Xzm7yA3QBdIM",
        "colab": {
          "base_uri": "https://localhost:8080/",
          "height": 205
        },
        "outputId": "7ebdcefd-fb93-4365-a8a1-ab19cf3d0f3a"
      },
      "execution_count": null,
      "outputs": [
        {
          "output_type": "execute_result",
          "data": {
            "text/plain": [
              "             classification macromoleculeType  residueCount  \\\n",
              "structureId                                                   \n",
              "1A4S         OXIDOREDUCTASE           Protein          2012   \n",
              "\n",
              "             structureMolecularWeight  crystallizationTempK  densityMatthews  \\\n",
              "structureId                                                                    \n",
              "1A4S                        217689.59                 287.0             2.43   \n",
              "\n",
              "             densityPercentSol  \\\n",
              "structureId                      \n",
              "1A4S                      41.0   \n",
              "\n",
              "                                                      sequence    freq_A  \\\n",
              "structureId                                                                \n",
              "1A4S         AQLVDSMPSASTGSVVVTDDLNYWGGRRIKSKDGATTEPVFEPATG...  0.093439   \n",
              "\n",
              "               freq_C  ...    freq_T    freq_V   freq_W  freq_X    freq_Y  \\\n",
              "structureId            ...                                                  \n",
              "1A4S         0.027833  ...  0.063618  0.101392  0.00994     0.0  0.025845   \n",
              "\n",
              "             aromaticity  isoelectricPoint     helix      turn     sheet  \n",
              "structureId                                                               \n",
              "1A4S            0.073559          5.856258  0.298211  0.232604  0.270378  \n",
              "\n",
              "[1 rows x 34 columns]"
            ],
            "text/html": [
              "\n",
              "  <div id=\"df-d0ee5491-1028-4da2-90ed-23e05f075960\">\n",
              "    <div class=\"colab-df-container\">\n",
              "      <div>\n",
              "<style scoped>\n",
              "    .dataframe tbody tr th:only-of-type {\n",
              "        vertical-align: middle;\n",
              "    }\n",
              "\n",
              "    .dataframe tbody tr th {\n",
              "        vertical-align: top;\n",
              "    }\n",
              "\n",
              "    .dataframe thead th {\n",
              "        text-align: right;\n",
              "    }\n",
              "</style>\n",
              "<table border=\"1\" class=\"dataframe\">\n",
              "  <thead>\n",
              "    <tr style=\"text-align: right;\">\n",
              "      <th></th>\n",
              "      <th>classification</th>\n",
              "      <th>macromoleculeType</th>\n",
              "      <th>residueCount</th>\n",
              "      <th>structureMolecularWeight</th>\n",
              "      <th>crystallizationTempK</th>\n",
              "      <th>densityMatthews</th>\n",
              "      <th>densityPercentSol</th>\n",
              "      <th>sequence</th>\n",
              "      <th>freq_A</th>\n",
              "      <th>freq_C</th>\n",
              "      <th>...</th>\n",
              "      <th>freq_T</th>\n",
              "      <th>freq_V</th>\n",
              "      <th>freq_W</th>\n",
              "      <th>freq_X</th>\n",
              "      <th>freq_Y</th>\n",
              "      <th>aromaticity</th>\n",
              "      <th>isoelectricPoint</th>\n",
              "      <th>helix</th>\n",
              "      <th>turn</th>\n",
              "      <th>sheet</th>\n",
              "    </tr>\n",
              "    <tr>\n",
              "      <th>structureId</th>\n",
              "      <th></th>\n",
              "      <th></th>\n",
              "      <th></th>\n",
              "      <th></th>\n",
              "      <th></th>\n",
              "      <th></th>\n",
              "      <th></th>\n",
              "      <th></th>\n",
              "      <th></th>\n",
              "      <th></th>\n",
              "      <th></th>\n",
              "      <th></th>\n",
              "      <th></th>\n",
              "      <th></th>\n",
              "      <th></th>\n",
              "      <th></th>\n",
              "      <th></th>\n",
              "      <th></th>\n",
              "      <th></th>\n",
              "      <th></th>\n",
              "      <th></th>\n",
              "    </tr>\n",
              "  </thead>\n",
              "  <tbody>\n",
              "    <tr>\n",
              "      <th>1A4S</th>\n",
              "      <td>OXIDOREDUCTASE</td>\n",
              "      <td>Protein</td>\n",
              "      <td>2012</td>\n",
              "      <td>217689.59</td>\n",
              "      <td>287.0</td>\n",
              "      <td>2.43</td>\n",
              "      <td>41.0</td>\n",
              "      <td>AQLVDSMPSASTGSVVVTDDLNYWGGRRIKSKDGATTEPVFEPATG...</td>\n",
              "      <td>0.093439</td>\n",
              "      <td>0.027833</td>\n",
              "      <td>...</td>\n",
              "      <td>0.063618</td>\n",
              "      <td>0.101392</td>\n",
              "      <td>0.00994</td>\n",
              "      <td>0.0</td>\n",
              "      <td>0.025845</td>\n",
              "      <td>0.073559</td>\n",
              "      <td>5.856258</td>\n",
              "      <td>0.298211</td>\n",
              "      <td>0.232604</td>\n",
              "      <td>0.270378</td>\n",
              "    </tr>\n",
              "  </tbody>\n",
              "</table>\n",
              "<p>1 rows × 34 columns</p>\n",
              "</div>\n",
              "      <button class=\"colab-df-convert\" onclick=\"convertToInteractive('df-d0ee5491-1028-4da2-90ed-23e05f075960')\"\n",
              "              title=\"Convert this dataframe to an interactive table.\"\n",
              "              style=\"display:none;\">\n",
              "        \n",
              "  <svg xmlns=\"http://www.w3.org/2000/svg\" height=\"24px\"viewBox=\"0 0 24 24\"\n",
              "       width=\"24px\">\n",
              "    <path d=\"M0 0h24v24H0V0z\" fill=\"none\"/>\n",
              "    <path d=\"M18.56 5.44l.94 2.06.94-2.06 2.06-.94-2.06-.94-.94-2.06-.94 2.06-2.06.94zm-11 1L8.5 8.5l.94-2.06 2.06-.94-2.06-.94L8.5 2.5l-.94 2.06-2.06.94zm10 10l.94 2.06.94-2.06 2.06-.94-2.06-.94-.94-2.06-.94 2.06-2.06.94z\"/><path d=\"M17.41 7.96l-1.37-1.37c-.4-.4-.92-.59-1.43-.59-.52 0-1.04.2-1.43.59L10.3 9.45l-7.72 7.72c-.78.78-.78 2.05 0 2.83L4 21.41c.39.39.9.59 1.41.59.51 0 1.02-.2 1.41-.59l7.78-7.78 2.81-2.81c.8-.78.8-2.07 0-2.86zM5.41 20L4 18.59l7.72-7.72 1.47 1.35L5.41 20z\"/>\n",
              "  </svg>\n",
              "      </button>\n",
              "      \n",
              "  <style>\n",
              "    .colab-df-container {\n",
              "      display:flex;\n",
              "      flex-wrap:wrap;\n",
              "      gap: 12px;\n",
              "    }\n",
              "\n",
              "    .colab-df-convert {\n",
              "      background-color: #E8F0FE;\n",
              "      border: none;\n",
              "      border-radius: 50%;\n",
              "      cursor: pointer;\n",
              "      display: none;\n",
              "      fill: #1967D2;\n",
              "      height: 32px;\n",
              "      padding: 0 0 0 0;\n",
              "      width: 32px;\n",
              "    }\n",
              "\n",
              "    .colab-df-convert:hover {\n",
              "      background-color: #E2EBFA;\n",
              "      box-shadow: 0px 1px 2px rgba(60, 64, 67, 0.3), 0px 1px 3px 1px rgba(60, 64, 67, 0.15);\n",
              "      fill: #174EA6;\n",
              "    }\n",
              "\n",
              "    [theme=dark] .colab-df-convert {\n",
              "      background-color: #3B4455;\n",
              "      fill: #D2E3FC;\n",
              "    }\n",
              "\n",
              "    [theme=dark] .colab-df-convert:hover {\n",
              "      background-color: #434B5C;\n",
              "      box-shadow: 0px 1px 3px 1px rgba(0, 0, 0, 0.15);\n",
              "      filter: drop-shadow(0px 1px 2px rgba(0, 0, 0, 0.3));\n",
              "      fill: #FFFFFF;\n",
              "    }\n",
              "  </style>\n",
              "\n",
              "      <script>\n",
              "        const buttonEl =\n",
              "          document.querySelector('#df-d0ee5491-1028-4da2-90ed-23e05f075960 button.colab-df-convert');\n",
              "        buttonEl.style.display =\n",
              "          google.colab.kernel.accessAllowed ? 'block' : 'none';\n",
              "\n",
              "        async function convertToInteractive(key) {\n",
              "          const element = document.querySelector('#df-d0ee5491-1028-4da2-90ed-23e05f075960');\n",
              "          const dataTable =\n",
              "            await google.colab.kernel.invokeFunction('convertToInteractive',\n",
              "                                                     [key], {});\n",
              "          if (!dataTable) return;\n",
              "\n",
              "          const docLinkHtml = 'Like what you see? Visit the ' +\n",
              "            '<a target=\"_blank\" href=https://colab.research.google.com/notebooks/data_table.ipynb>data table notebook</a>'\n",
              "            + ' to learn more about interactive tables.';\n",
              "          element.innerHTML = '';\n",
              "          dataTable['output_type'] = 'display_data';\n",
              "          await google.colab.output.renderOutput(dataTable, element);\n",
              "          const docLink = document.createElement('div');\n",
              "          docLink.innerHTML = docLinkHtml;\n",
              "          element.appendChild(docLink);\n",
              "        }\n",
              "      </script>\n",
              "    </div>\n",
              "  </div>\n",
              "  "
            ]
          },
          "metadata": {},
          "execution_count": 237
        }
      ]
    },
    {
      "cell_type": "markdown",
      "source": [
        "**Preparazione dei dati**\n",
        "* Otteniamo dal dataset etichette e features.\n",
        "* Dividiamo i dati in train set e validation set"
      ],
      "metadata": {
        "id": "axi2fCSEBwtA"
      }
    },
    {
      "cell_type": "code",
      "source": [
        "X_seq = data_seq.drop(columns=[\"classification\", \"sequence\"])\n",
        "y_seq = data_seq[\"classification\"]"
      ],
      "metadata": {
        "id": "O9c6cuHOa7fx"
      },
      "execution_count": null,
      "outputs": []
    },
    {
      "cell_type": "code",
      "source": [
        "X_seq_train, X_seq_val, y_seq_train, y_seq_val = train_test_split(\n",
        "    X_seq, y_seq,\n",
        "    test_size=1/3,\n",
        "    random_state=42\n",
        ")"
      ],
      "metadata": {
        "id": "0342vN4hbk_N"
      },
      "execution_count": null,
      "outputs": []
    },
    {
      "cell_type": "markdown",
      "source": [
        "* Aggiorniamo la lista delle colonne numeriche"
      ],
      "metadata": {
        "id": "JF2TzqaUCpV_"
      }
    },
    {
      "cell_type": "code",
      "source": [
        "num_cols=[\"residueCount\", \"structureMolecularWeight\", \"crystallizationTempK\", \"densityMatthews\", \"densityPercentSol\", *[f\"freq_{a}\" for a in amms], \"aromaticity\", \"isoelectricPoint\", \"helix\", \"turn\", \"sheet\"]"
      ],
      "metadata": {
        "id": "7t5qBGmRCYx3"
      },
      "execution_count": null,
      "outputs": []
    },
    {
      "cell_type": "markdown",
      "source": [
        "* Testiamo gli stessi modelli già considerati"
      ],
      "metadata": {
        "id": "SDTRlkglCueg"
      }
    },
    {
      "cell_type": "markdown",
      "source": [
        "* ```DecisionTreeClassifier```\n",
        "\n"
      ],
      "metadata": {
        "id": "A6Iu4yIME_ib"
      }
    },
    {
      "cell_type": "code",
      "source": [
        "model = buildModel(DecisionTreeClassifier())\n",
        "\n",
        "grid_decision_tree = {\n",
        "    'class__criterion': ['gini', 'entropy', 'log_loss'],\n",
        "    \"class__splitter\":['random','best'],\n",
        "    'class__max_depth':[8,16,32],\n",
        "    'class__max_features': ['sqrt', 'log2']\n",
        "}\n",
        "\n",
        "gs = GridSearchCV(model, grid_decision_tree, cv=skf, scoring=\"accuracy\")\n",
        "gs.fit(X_seq_train, y_seq_train)\n",
        "\n",
        "dt_seq_model = gs.best_estimator_\n",
        "gs.best_params_"
      ],
      "metadata": {
        "id": "J0dm5L7-bcW2",
        "colab": {
          "base_uri": "https://localhost:8080/"
        },
        "outputId": "88752f58-ce92-49a8-84d6-620ec153c611"
      },
      "execution_count": null,
      "outputs": [
        {
          "output_type": "execute_result",
          "data": {
            "text/plain": [
              "{'class__criterion': 'entropy',\n",
              " 'class__max_depth': 32,\n",
              " 'class__max_features': 'sqrt',\n",
              " 'class__splitter': 'best'}"
            ]
          },
          "metadata": {},
          "execution_count": 241
        }
      ]
    },
    {
      "cell_type": "code",
      "source": [
        "dt_seq_model.fit(X_seq_train, y_seq_train)\n",
        "scores.append(dt_seq_model.score(X_seq_val, y_seq_val))\n",
        "dt_seq_model.score(X_seq_val, y_seq_val)"
      ],
      "metadata": {
        "colab": {
          "base_uri": "https://localhost:8080/"
        },
        "id": "TrjQLQaPClr5",
        "outputId": "1b03fb1c-9de3-44b9-a9cc-4b14c3261eb0"
      },
      "execution_count": null,
      "outputs": [
        {
          "output_type": "execute_result",
          "data": {
            "text/plain": [
              "0.7785148726728012"
            ]
          },
          "metadata": {},
          "execution_count": 242
        }
      ]
    },
    {
      "cell_type": "markdown",
      "source": [
        "* ```RidgeClassifier```"
      ],
      "metadata": {
        "id": "p1To12joFJ51"
      }
    },
    {
      "cell_type": "code",
      "source": [
        "model = buildModel(RidgeClassifier())\n",
        "\n",
        "grid_ridge = {\n",
        "    \"class__alpha\": [1.0, 2.0, 4.0, 8.0],\n",
        "    \"class__solver\": ['svd','cholesky', 'lsqr', 'saga']\n",
        "}\n",
        "\n",
        "gs = GridSearchCV(model, grid_ridge, cv=skf, scoring=\"accuracy\")\n",
        "gs.fit(X_seq_train, y_seq_train)\n",
        "\n",
        "ridge_seq_model = gs.best_estimator_\n",
        "gs.best_params_"
      ],
      "metadata": {
        "colab": {
          "base_uri": "https://localhost:8080/"
        },
        "id": "Ig4p69p1Eanv",
        "outputId": "d69ec2ce-9698-4263-964d-f6e98f2b64d8"
      },
      "execution_count": null,
      "outputs": [
        {
          "output_type": "stream",
          "name": "stderr",
          "text": [
            "/usr/local/lib/python3.10/dist-packages/sklearn/linear_model/_sag.py:350: ConvergenceWarning: The max_iter was reached which means the coef_ did not converge\n",
            "  warnings.warn(\n",
            "/usr/local/lib/python3.10/dist-packages/sklearn/linear_model/_sag.py:350: ConvergenceWarning: The max_iter was reached which means the coef_ did not converge\n",
            "  warnings.warn(\n",
            "/usr/local/lib/python3.10/dist-packages/sklearn/linear_model/_sag.py:350: ConvergenceWarning: The max_iter was reached which means the coef_ did not converge\n",
            "  warnings.warn(\n",
            "/usr/local/lib/python3.10/dist-packages/sklearn/linear_model/_sag.py:350: ConvergenceWarning: The max_iter was reached which means the coef_ did not converge\n",
            "  warnings.warn(\n",
            "/usr/local/lib/python3.10/dist-packages/sklearn/linear_model/_sag.py:350: ConvergenceWarning: The max_iter was reached which means the coef_ did not converge\n",
            "  warnings.warn(\n",
            "/usr/local/lib/python3.10/dist-packages/sklearn/linear_model/_sag.py:350: ConvergenceWarning: The max_iter was reached which means the coef_ did not converge\n",
            "  warnings.warn(\n",
            "/usr/local/lib/python3.10/dist-packages/sklearn/linear_model/_sag.py:350: ConvergenceWarning: The max_iter was reached which means the coef_ did not converge\n",
            "  warnings.warn(\n",
            "/usr/local/lib/python3.10/dist-packages/sklearn/linear_model/_sag.py:350: ConvergenceWarning: The max_iter was reached which means the coef_ did not converge\n",
            "  warnings.warn(\n"
          ]
        },
        {
          "output_type": "execute_result",
          "data": {
            "text/plain": [
              "{'class__alpha': 4.0, 'class__solver': 'svd'}"
            ]
          },
          "metadata": {},
          "execution_count": 243
        }
      ]
    },
    {
      "cell_type": "code",
      "source": [
        "ridge_seq_model.fit(X_seq_train, y_seq_train)\n",
        "scores.append(ridge_seq_model.score(X_seq_val, y_seq_val))\n",
        "ridge_seq_model.score(X_seq_val, y_seq_val)"
      ],
      "metadata": {
        "colab": {
          "base_uri": "https://localhost:8080/"
        },
        "id": "L8klBge1EkMJ",
        "outputId": "c19df86d-f9da-4df6-aee4-3c39c151685f"
      },
      "execution_count": null,
      "outputs": [
        {
          "output_type": "execute_result",
          "data": {
            "text/plain": [
              "0.49989300235394823"
            ]
          },
          "metadata": {},
          "execution_count": 244
        }
      ]
    },
    {
      "cell_type": "markdown",
      "source": [
        "* ```XGBClassifier```"
      ],
      "metadata": {
        "id": "K1WX5NgkFPC9"
      }
    },
    {
      "cell_type": "code",
      "source": [
        "model = buildModel(XGBClassifier(\n",
        "    n_estimators=100,\n",
        "    objective=\"multi:softmax\",\n",
        "    learning_rate=0.01,\n",
        "    subsample=0.8,\n",
        "    colsample_bytree=0.2,\n",
        "    eval_metric=\"mlogloss\",\n",
        "    tree_method='gpu_hist',\n",
        "    predictor='gpu_predictor',\n",
        "))\n",
        "\n",
        "grid_xgb = {\n",
        "    \"class__gamma\": [0.5, 1, 1.5],\n",
        "    \"class__subsample\": [0.4, 0.6, 0.8],\n",
        "    \"class__max_depth\": [3, 4, 5],\n",
        "}\n",
        "gs = GridSearchCV(model, grid_xgb, cv=skf, scoring=\"accuracy\")\n",
        "\n",
        "\n",
        "gs.fit(X_seq_train, encode_y(y_seq_train))\n",
        "\n",
        "xgb_seq_model = gs.best_estimator_\n",
        "gs.best_params_"
      ],
      "metadata": {
        "colab": {
          "base_uri": "https://localhost:8080/"
        },
        "id": "q_04aZ65EstI",
        "outputId": "12004971-7b49-4acd-b79b-4e4f50994308"
      },
      "execution_count": null,
      "outputs": [
        {
          "output_type": "execute_result",
          "data": {
            "text/plain": [
              "{'class__gamma': 0.5, 'class__max_depth': 5, 'class__subsample': 0.8}"
            ]
          },
          "metadata": {},
          "execution_count": 245
        }
      ]
    },
    {
      "cell_type": "code",
      "source": [
        "xgb_seq_model.fit(X_seq_train, encode_y(y_seq_train))\n",
        "scores.append(xgb_seq_model.score(X_seq_val, encode_y(y_seq_val)))\n",
        "xgb_seq_model.score(X_seq_val, encode_y(y_seq_val))"
      ],
      "metadata": {
        "colab": {
          "base_uri": "https://localhost:8080/"
        },
        "id": "tTG57F_XEs9u",
        "outputId": "f04cadee-7a43-41e2-9985-7631aeea333e"
      },
      "execution_count": null,
      "outputs": [
        {
          "output_type": "execute_result",
          "data": {
            "text/plain": [
              "0.6003994578785934"
            ]
          },
          "metadata": {},
          "execution_count": 246
        }
      ]
    },
    {
      "cell_type": "markdown",
      "source": [
        "## Analisi dei risultati"
      ],
      "metadata": {
        "id": "zvKGSaoEFUyY"
      }
    },
    {
      "cell_type": "markdown",
      "source": [
        "* Confrontiamo in un grafico i risultati ottenuti con i due diversi dataset"
      ],
      "metadata": {
        "id": "2Z2lLwyEKz3R"
      }
    },
    {
      "cell_type": "code",
      "source": [
        "c = [\"orange\", \"green\", \"blue\", \"orange\", \"green\", \"blue\"]\n",
        "plt.figure(figsize=(10,5))\n",
        "plt.bar([f\"{m}_{i}\" for i in [\"no_seq\",\"seq\"] for m in [\"dt\", \"ridge\", \"xgb\"] ],scores, color=c)"
      ],
      "metadata": {
        "id": "8ErZwfBdyoLH",
        "colab": {
          "base_uri": "https://localhost:8080/",
          "height": 462
        },
        "outputId": "13331de2-8277-4c76-d5ae-ff34c008c7e5"
      },
      "execution_count": null,
      "outputs": [
        {
          "output_type": "execute_result",
          "data": {
            "text/plain": [
              "<BarContainer object of 6 artists>"
            ]
          },
          "metadata": {},
          "execution_count": 247
        },
        {
          "output_type": "display_data",
          "data": {
            "text/plain": [
              "<Figure size 1000x500 with 1 Axes>"
            ],
            "image/png": "[encoded data removed]"
          },
          "metadata": {}
        }
      ]
    },
    {
      "cell_type": "markdown",
      "source": [
        "* Analizziamo l'importanza di ciascuna feature, considerando il dataset contenente la sequenza e il modello che ha ottenuto il punteggio migliore."
      ],
      "metadata": {
        "id": "Ht65i2RFNmhx"
      }
    },
    {
      "cell_type": "code",
      "source": [
        "from sklearn.inspection import permutation_importance\n",
        "\n",
        "results = permutation_importance(dt_seq_model, X_seq_train, y_seq_train, n_repeats=10, random_state=42)\n",
        "importances = results.importances_mean\n",
        "pd.Series(importances, index=X_seq.columns)"
      ],
      "metadata": {
        "colab": {
          "base_uri": "https://localhost:8080/"
        },
        "id": "8Ds6LaZQ1JV6",
        "outputId": "a6818657-ce1e-4977-cc0d-a811b5ed2668"
      },
      "execution_count": null,
      "outputs": [
        {
          "output_type": "execute_result",
          "data": {
            "text/plain": [
              "macromoleculeType           0.000000\n",
              "residueCount                0.191051\n",
              "structureMolecularWeight    0.089832\n",
              "crystallizationTempK        0.026632\n",
              "densityMatthews             0.030230\n",
              "densityPercentSol           0.026175\n",
              "freq_A                      0.176928\n",
              "freq_C                      0.118671\n",
              "freq_D                      0.052604\n",
              "freq_E                      0.198944\n",
              "freq_F                      0.087460\n",
              "freq_G                      0.170636\n",
              "freq_H                      0.048605\n",
              "freq_I                      0.111224\n",
              "freq_K                      0.090081\n",
              "freq_L                      0.338858\n",
              "freq_M                      0.068286\n",
              "freq_N                      0.115422\n",
              "freq_P                      0.145720\n",
              "freq_Q                      0.069795\n",
              "freq_R                      0.142788\n",
              "freq_S                      0.092111\n",
              "freq_T                      0.090923\n",
              "freq_V                      0.072894\n",
              "freq_W                      0.153017\n",
              "freq_X                      0.000146\n",
              "freq_Y                      0.168332\n",
              "aromaticity                 0.124581\n",
              "isoelectricPoint            0.069178\n",
              "helix                       0.051812\n",
              "turn                        0.205161\n",
              "sheet                       0.096498\n",
              "dtype: float64"
            ]
          },
          "metadata": {},
          "execution_count": 248
        }
      ]
    },
    {
      "cell_type": "markdown",
      "source": [
        "* Possiamo notare che le feature che vengono considerate meno sono due:\n",
        "  1. ```macromoleculeType```: avevamo già notato che la grande sproporzione dei dati avrebbe potuto rendere inefficace l'utilizzo di questa informazione\n",
        "  2. ```freq_X```: infatti X non è un vero amminoacido, serve solo a segnalare che non è sicuro quale amminoacido si trovi in quella posizione nella sequenza.\n",
        "\n",
        "* Le feature ottenute dalla sequenza sono risultate molto utili alla classificazione, soprattutto sheet e helix. Infatti la struttura secondaria (definita appunto da queste caratteristiche) è fondamentale nel determinare la funzione delle proteine.\n"
      ],
      "metadata": {
        "id": "pZfBkDc1Nwig"
      }
    },
    {
      "cell_type": "markdown",
      "source": [
        "## Conclusioni\n",
        "\n",
        "Tramite un semplice modello di classificazione Decision Tree, siamo stati in grado di classificare con una buona precisione le proteine all'interno di 5 categorie funzionali:\n",
        "* IMMUNE SYSTEM\n",
        "* LYASE\n",
        "* OXIDOREDUCTASE\n",
        "* TRANSFERASE\n",
        "* HYDROLASE\n",
        "\n",
        "In particolare abbiamo potuto cogliere l'intima correlazione esistente tra la sequenza di amminoacidi e la funzione di una proteina. Infatti, i modelli visti sono stati in grado di selezionare come più importanti le feature relative alla sequenza e alla struttura secondaria delle proteine rispetto a caratteristiche più generiche.\n",
        "\n"
      ],
      "metadata": {
        "id": "p-IYf1mTWU14"
      }
    }
  ]
}